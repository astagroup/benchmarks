{
 "cells": [
  {
   "cell_type": "code",
   "execution_count": 1,
   "metadata": {},
   "outputs": [],
   "source": [
    "import os\n",
    "from dotenv import load_dotenv\n",
    "\n",
    "load_dotenv()\n",
    "\n",
    "MP_API_KEY = os.getenv(\"MP_API_KEY\")"
   ]
  },
  {
   "cell_type": "code",
   "execution_count": 2,
   "metadata": {},
   "outputs": [],
   "source": [
    "from pymatgen.core import Structure\n",
    "from pymatgen.io.vasp.sets import MPStaticSet"
   ]
  },
  {
   "cell_type": "code",
   "execution_count": 3,
   "metadata": {},
   "outputs": [
    {
     "data": {
      "application/vnd.jupyter.widget-view+json": {
       "model_id": "4f9db045e4c5494d88082ce3dafab0b3",
       "version_major": 2,
       "version_minor": 0
      },
      "text/plain": [
       "Retrieving SummaryDoc documents:   0%|          | 0/20 [00:00<?, ?it/s]"
      ]
     },
     "metadata": {},
     "output_type": "display_data"
    }
   ],
   "source": [
    "from mp_api.client import MPRester\n",
    "\n",
    "with MPRester() as mpr:\n",
    "\n",
    "    docs = mpr.materials.summary.search(\n",
    "        chemsys=\"Ba-Ti-O\",\n",
    "        # material_ids=[\"mp-5777\"],\n",
    "        is_metal=False,\n",
    "        band_gap=(2, None),\n",
    "        fields=[\"structure\", \"material_id\", \"symmetry\"],\n",
    "    )\n",
    "    "
   ]
  },
  {
   "cell_type": "code",
   "execution_count": 4,
   "metadata": {},
   "outputs": [
    {
     "name": "stdout",
     "output_type": "stream",
     "text": [
      "2025-02-19 17:30:08,778 INFO Started executing jobs locally\n",
      "2025-02-19 17:30:08,792 INFO Starting job - base vasp job (8c5044d7-8006-4aec-b2fb-c59454df3aa9)\n"
     ]
    },
    {
     "name": "stderr",
     "output_type": "stream",
     "text": [
      "<string>:33: BadInputSetWarning: Overriding the POTCAR functional is generally not recommended  as it significantly affects the results of calculations and compatibility with other calculations done with the same input set. Note that some POTCAR symbols specified in the configuration file may not be available in the selected functional.\n",
      "/global/home/users/cyrusyc/.conda/envs/chace/lib/python3.12/site-packages/custodian/vasp/handlers.py:185: EncodingWarning: We strongly encourage explicit `encoding`, and we would use UTF-8 by default as per PEP 686\n",
      "  with zopen(os.path.join(directory, self.output_filename), mode=\"rt\") as file:\n"
     ]
    }
   ],
   "source": [
    "import yaml\n",
    "from pathlib import Path\n",
    "from atomate2.settings import Atomate2Settings\n",
    "from atomate2.vasp.jobs.core import RelaxMaker, StaticMaker\n",
    "from atomate2.vasp.jobs.base import BaseVaspMaker\n",
    "from jobflow import run_locally\n",
    "from pymatgen.io.vasp.sets import MatPESStaticSet, MPStaticSet, MP24StaticSet\n",
    "from atomate2.vasp.sets.base import VaspInputGenerator, _BASE_VASP_SET\n",
    "from atomate2.vasp.sets.core import StaticSetGenerator\n",
    "from pymatgen.io.vasp import Kpoints\n",
    "\n",
    "structure = docs[4].structure # * (3, 3, 3)\n",
    "\n",
    "atomate2_config_file = Path(\n",
    "    f\"~/atomate2/config/atomate2-test.yaml\"\n",
    ").expanduser()\n",
    "atomate2_config_file.parent.mkdir(parents=True, exist_ok=True)\n",
    "\n",
    "vasp_prefix = Path(\"/global/home/users/cyrusyc/.local/bin\")\n",
    "num_processes = 2\n",
    "\n",
    "with open(atomate2_config_file, \"w\") as f:\n",
    "    yaml.dump(\n",
    "        {\n",
    "            \"VASP_CMD\": f\"mpirun -np {num_processes} {vasp_prefix / 'vasp_std'}\",\n",
    "            \"VASP_GAMMA_CMD\": f\"mpirun -np {num_processes} {vasp_prefix / 'vasp_gam'}\",\n",
    "            # \"VASP_CMD\": f\"srun --export=ALL,LD_LIBRARY_PATH={os.environ['LD_LIBRARY_PATH']} -n 1 -c 4 -G 1 {vasp_prefix / 'vasp_std'}\",\n",
    "            # \"VASP_GAMMA_CMD\": f\"srun --export=ALL,LD_LIBRARY_PATH={os.environ['LD_LIBRARY_PATH']} -n 1 -c 4 -G 1  {vasp_prefix / 'vasp_gam'}\",\n",
    "        },\n",
    "        f,\n",
    "    )\n",
    "\n",
    "# pre_run = \"\"\"\n",
    "# module load nvhpc/23.11;\n",
    "# export LD_LIBRARY_PATH=/global/software/rocky-8.x86_64/gcc/linux-rocky8-x86_64/gcc-8.5.0/nvhpc-23.11-gh5cygvdqksy6mxuy2xgoibowwxi3w7t/Linux_x86_64/23.11/compilers/extras/qd/lib:/global/software/rocky-8.x86_64/gcc/linux-rocky8-x86_64/gcc-8.5.0/nvhpc-23.11-gh5cygvdqksy6mxuy2xgoibowwxi3w7t/Linux_x86_64/23.11/cuda/lib64:$LD_LIBRARY_PATH\n",
    "# \"\"\"\n",
    "\n",
    "# pre_run = \"\"\"export LD_LIBRARY_PATH=/global/software/rocky-8.x86_64/gcc/linux-rocky8-x86_64/gcc-8.5.0/nvhpc-23.11-gh5cygvdqksy6mxuy2xgoibowwxi3w7t/Linux_x86_64/23.11/compilers/extras/qd/lib:/global/software/rocky-8.x86_64/gcc/linux-rocky8-x86_64/gcc-8.5.0/nvhpc-23.11-gh5cygvdqksy6mxuy2xgoibowwxi3w7t/Linux_x86_64/23.11/cuda/lib64:$LD_LIBRARY_PATH\"\"\"\n",
    "\n",
    "os.environ[\"LD_LIBRARY_PATH\"] = \"/global/software/rocky-8.x86_64/gcc/linux-rocky8-x86_64/gcc-8.5.0/nvhpc-23.11-gh5cygvdqksy6mxuy2xgoibowwxi3w7t/Linux_x86_64/23.11/compilers/extras/qd/lib:/global/software/rocky-8.x86_64/gcc/linux-rocky8-x86_64/gcc-8.5.0/nvhpc-23.11-gh5cygvdqksy6mxuy2xgoibowwxi3w7t/Linux_x86_64/23.11/cuda/lib64:$LD_LIBRARY_PATH\"\n",
    "# os.environ[\"OMP_NUM_THREADS\"] = \"1\"\n",
    "# os.environ[\"OMP_PLACES\"] = \"threads\"\n",
    "# os.environ[\"OMP_PROC_BIND\"] = \"spread\"\n",
    "\n",
    "settings = Atomate2Settings(\n",
    "    CONFIG_FILE=str(atomate2_config_file),\n",
    "    # VASP_CMD=f\"mpirun -np {num_processes} {vasp_prefix / 'vasp_std'}\",\n",
    "    # VASP_GAMMA_CMD=f\"mpirun -np {num_processes} {vasp_prefix / 'vasp_gam'}\",\n",
    ")\n",
    "\n",
    "user_incar_settings = {\n",
    "    \"ALGO\": \"Fast\",\n",
    "    \"EDIFF\": 1e-5,\n",
    "    \"ISMEAR\": -5,\n",
    "    # \"SIGMA\": 0.05,\n",
    "    \"LCALCPOL\": True,\n",
    "    \"LCALCEPS\": True,\n",
    "    \"EFIELD_PEAD\": [0.0036, 0.0036, 0.0036], \n",
    "    \"LREAL\": \"Auto\",\n",
    "    \"KPAR\": 4,\n",
    "    \"NCORE\": 1,\n",
    "    \"NSIM\": 8\n",
    "}\n",
    "\n",
    "input_set_generator = StaticSetGenerator(\n",
    "    user_incar_settings=user_incar_settings,\n",
    "    # user_kpoints_settings=Kpoints(), #{\"reciprocal_density\": 10},\n",
    "    user_potcar_functional=\"PBE_64\",\n",
    "    # auto_ismear=False\n",
    ")\n",
    "\n",
    "# input_set_generator.config_dict[\"INCAR\"][\"ISMEAR\"] = -5\n",
    "# input_set_generator.auto_ismear = False\n",
    "\n",
    "structure.site_properties.pop(\"magmom\")\n",
    "\n",
    "job = BaseVaspMaker(\n",
    "    input_set_generator=input_set_generator,\n",
    "    run_vasp_kwargs=dict(\n",
    "        vasp_cmd=settings.VASP_CMD,\n",
    "        vasp_gamma_cmd=settings.VASP_GAMMA_CMD,\n",
    "    ),\n",
    ").make(structure)\n",
    "\n",
    "\n",
    "# run the job\n",
    "run_locally(job, create_folders=True)\n"
   ]
  },
  {
   "cell_type": "code",
   "execution_count": 5,
   "metadata": {},
   "outputs": [
    {
     "ename": "RuntimeError",
     "evalue": "Looking for PP for potpaw/Ba_sv/POTCAR\n                        The pseudopotentials are expected to be in:\n                        LDA:  $VASP_PP_PATH/potpaw/\n                        PBE:  $VASP_PP_PATH/potpaw_PBE/\n                        PW91: $VASP_PP_PATH/potpaw_GGA/\n\n                        No pseudopotential for Ba!",
     "output_type": "error",
     "traceback": [
      "\u001b[0;31m---------------------------------------------------------------------------\u001b[0m",
      "\u001b[0;31mRuntimeError\u001b[0m                              Traceback (most recent call last)",
      "Cell \u001b[0;32mIn[5], line 18\u001b[0m\n\u001b[1;32m     11\u001b[0m incar[\u001b[38;5;124m\"\u001b[39m\u001b[38;5;124mSIGMA\u001b[39m\u001b[38;5;124m\"\u001b[39m] \u001b[38;5;241m=\u001b[39m \u001b[38;5;241m0.1\u001b[39m\n\u001b[1;32m     13\u001b[0m calc \u001b[38;5;241m=\u001b[39m Vasp(\n\u001b[1;32m     14\u001b[0m     command\u001b[38;5;241m=\u001b[39m\u001b[38;5;124mf\u001b[39m\u001b[38;5;124m'\u001b[39m\u001b[38;5;124mmpirun -np \u001b[39m\u001b[38;5;132;01m{\u001b[39;00mnum_processes\u001b[38;5;132;01m}\u001b[39;00m\u001b[38;5;124m \u001b[39m\u001b[38;5;132;01m{\u001b[39;00mvasp_prefix\u001b[38;5;250m \u001b[39m\u001b[38;5;241m/\u001b[39m\u001b[38;5;250m \u001b[39m\u001b[38;5;124m'\u001b[39m\u001b[38;5;124mvasp_gam\u001b[39m\u001b[38;5;124m'\u001b[39m\u001b[38;5;132;01m}\u001b[39;00m\u001b[38;5;124m'\u001b[39m,\n\u001b[1;32m     15\u001b[0m     \u001b[38;5;241m*\u001b[39m\u001b[38;5;241m*\u001b[39mincar,\n\u001b[1;32m     16\u001b[0m )\n\u001b[0;32m---> 18\u001b[0m \u001b[43mcalc\u001b[49m\u001b[38;5;241;43m.\u001b[39;49m\u001b[43mget_potential_energy\u001b[49m\u001b[43m(\u001b[49m\u001b[43mstructure\u001b[49m\u001b[38;5;241;43m.\u001b[39;49m\u001b[43mto_ase_atoms\u001b[49m\u001b[43m(\u001b[49m\u001b[43mmsonable\u001b[49m\u001b[38;5;241;43m=\u001b[39;49m\u001b[38;5;28;43;01mFalse\u001b[39;49;00m\u001b[43m)\u001b[49m\u001b[43m)\u001b[49m\n",
      "File \u001b[0;32m~/.conda/envs/chace/lib/python3.12/site-packages/ase/calculators/abc.py:24\u001b[0m, in \u001b[0;36mGetPropertiesMixin.get_potential_energy\u001b[0;34m(self, atoms, force_consistent)\u001b[0m\n\u001b[1;32m     22\u001b[0m \u001b[38;5;28;01melse\u001b[39;00m:\n\u001b[1;32m     23\u001b[0m     name \u001b[38;5;241m=\u001b[39m \u001b[38;5;124m'\u001b[39m\u001b[38;5;124menergy\u001b[39m\u001b[38;5;124m'\u001b[39m\n\u001b[0;32m---> 24\u001b[0m \u001b[38;5;28;01mreturn\u001b[39;00m \u001b[38;5;28;43mself\u001b[39;49m\u001b[38;5;241;43m.\u001b[39;49m\u001b[43mget_property\u001b[49m\u001b[43m(\u001b[49m\u001b[43mname\u001b[49m\u001b[43m,\u001b[49m\u001b[43m \u001b[49m\u001b[43matoms\u001b[49m\u001b[43m)\u001b[49m\n",
      "File \u001b[0;32m~/.conda/envs/chace/lib/python3.12/site-packages/ase/calculators/calculator.py:538\u001b[0m, in \u001b[0;36mBaseCalculator.get_property\u001b[0;34m(self, name, atoms, allow_calculation)\u001b[0m\n\u001b[1;32m    535\u001b[0m     \u001b[38;5;28;01mif\u001b[39;00m \u001b[38;5;28mself\u001b[39m\u001b[38;5;241m.\u001b[39muse_cache:\n\u001b[1;32m    536\u001b[0m         \u001b[38;5;28mself\u001b[39m\u001b[38;5;241m.\u001b[39matoms \u001b[38;5;241m=\u001b[39m atoms\u001b[38;5;241m.\u001b[39mcopy()\n\u001b[0;32m--> 538\u001b[0m     \u001b[38;5;28;43mself\u001b[39;49m\u001b[38;5;241;43m.\u001b[39;49m\u001b[43mcalculate\u001b[49m\u001b[43m(\u001b[49m\u001b[43matoms\u001b[49m\u001b[43m,\u001b[49m\u001b[43m \u001b[49m\u001b[43m[\u001b[49m\u001b[43mname\u001b[49m\u001b[43m]\u001b[49m\u001b[43m,\u001b[49m\u001b[43m \u001b[49m\u001b[43msystem_changes\u001b[49m\u001b[43m)\u001b[49m\n\u001b[1;32m    540\u001b[0m \u001b[38;5;28;01mif\u001b[39;00m name \u001b[38;5;129;01mnot\u001b[39;00m \u001b[38;5;129;01min\u001b[39;00m \u001b[38;5;28mself\u001b[39m\u001b[38;5;241m.\u001b[39mresults:\n\u001b[1;32m    541\u001b[0m     \u001b[38;5;66;03m# For some reason the calculator was not able to do what we want,\u001b[39;00m\n\u001b[1;32m    542\u001b[0m     \u001b[38;5;66;03m# and that is OK.\u001b[39;00m\n\u001b[1;32m    543\u001b[0m     \u001b[38;5;28;01mraise\u001b[39;00m PropertyNotImplementedError(\n\u001b[1;32m    544\u001b[0m         \u001b[38;5;124m'\u001b[39m\u001b[38;5;132;01m{}\u001b[39;00m\u001b[38;5;124m not present in this \u001b[39m\u001b[38;5;124m'\u001b[39m \u001b[38;5;124m'\u001b[39m\u001b[38;5;124mcalculation\u001b[39m\u001b[38;5;124m'\u001b[39m\u001b[38;5;241m.\u001b[39mformat(name)\n\u001b[1;32m    545\u001b[0m     )\n",
      "File \u001b[0;32m~/.conda/envs/chace/lib/python3.12/site-packages/ase/calculators/vasp/vasp.py:332\u001b[0m, in \u001b[0;36mVasp.calculate\u001b[0;34m(self, atoms, properties, system_changes)\u001b[0m\n\u001b[1;32m    329\u001b[0m \u001b[38;5;28mself\u001b[39m\u001b[38;5;241m.\u001b[39mclear_results()\n\u001b[1;32m    331\u001b[0m command \u001b[38;5;241m=\u001b[39m \u001b[38;5;28mself\u001b[39m\u001b[38;5;241m.\u001b[39mmake_command(\u001b[38;5;28mself\u001b[39m\u001b[38;5;241m.\u001b[39mcommand)\n\u001b[0;32m--> 332\u001b[0m \u001b[38;5;28;43mself\u001b[39;49m\u001b[38;5;241;43m.\u001b[39;49m\u001b[43mwrite_input\u001b[49m\u001b[43m(\u001b[49m\u001b[38;5;28;43mself\u001b[39;49m\u001b[38;5;241;43m.\u001b[39;49m\u001b[43matoms\u001b[49m\u001b[43m,\u001b[49m\u001b[43m \u001b[49m\u001b[43mproperties\u001b[49m\u001b[43m,\u001b[49m\u001b[43m \u001b[49m\u001b[43msystem_changes\u001b[49m\u001b[43m)\u001b[49m\n\u001b[1;32m    334\u001b[0m \u001b[38;5;28;01mwith\u001b[39;00m \u001b[38;5;28mself\u001b[39m\u001b[38;5;241m.\u001b[39m_txt_outstream() \u001b[38;5;28;01mas\u001b[39;00m out:\n\u001b[1;32m    335\u001b[0m     errorcode, stderr \u001b[38;5;241m=\u001b[39m \u001b[38;5;28mself\u001b[39m\u001b[38;5;241m.\u001b[39m_run(command\u001b[38;5;241m=\u001b[39mcommand,\n\u001b[1;32m    336\u001b[0m                                   out\u001b[38;5;241m=\u001b[39mout,\n\u001b[1;32m    337\u001b[0m                                   directory\u001b[38;5;241m=\u001b[39m\u001b[38;5;28mself\u001b[39m\u001b[38;5;241m.\u001b[39mdirectory)\n",
      "File \u001b[0;32m~/.conda/envs/chace/lib/python3.12/site-packages/ase/calculators/vasp/vasp.py:486\u001b[0m, in \u001b[0;36mVasp.write_input\u001b[0;34m(self, atoms, properties, system_changes)\u001b[0m\n\u001b[1;32m    484\u001b[0m \u001b[38;5;28;01mdef\u001b[39;00m\u001b[38;5;250m \u001b[39m\u001b[38;5;21mwrite_input\u001b[39m(\u001b[38;5;28mself\u001b[39m, atoms, properties\u001b[38;5;241m=\u001b[39m\u001b[38;5;28;01mNone\u001b[39;00m, system_changes\u001b[38;5;241m=\u001b[39m\u001b[38;5;28;01mNone\u001b[39;00m):\n\u001b[1;32m    485\u001b[0m \u001b[38;5;250m    \u001b[39m\u001b[38;5;124;03m\"\"\"Write VASP inputfiles, INCAR, KPOINTS and POTCAR\"\"\"\u001b[39;00m\n\u001b[0;32m--> 486\u001b[0m     \u001b[38;5;28;43mself\u001b[39;49m\u001b[38;5;241;43m.\u001b[39;49m\u001b[43minitialize\u001b[49m\u001b[43m(\u001b[49m\u001b[43matoms\u001b[49m\u001b[43m)\u001b[49m\n\u001b[1;32m    487\u001b[0m     GenerateVaspInput\u001b[38;5;241m.\u001b[39mwrite_input(\u001b[38;5;28mself\u001b[39m, atoms, directory\u001b[38;5;241m=\u001b[39m\u001b[38;5;28mself\u001b[39m\u001b[38;5;241m.\u001b[39mdirectory)\n",
      "File \u001b[0;32m~/.conda/envs/chace/lib/python3.12/site-packages/ase/calculators/vasp/create_input.py:1544\u001b[0m, in \u001b[0;36mGenerateVaspInput.initialize\u001b[0;34m(self, atoms)\u001b[0m\n\u001b[1;32m   1541\u001b[0m     \u001b[38;5;28mself\u001b[39m\u001b[38;5;241m.\u001b[39msymbol_count\u001b[38;5;241m.\u001b[39mappend([m, symbolcount[m]])\n\u001b[1;32m   1543\u001b[0m \u001b[38;5;66;03m# create pseudopotential list\u001b[39;00m\n\u001b[0;32m-> 1544\u001b[0m \u001b[38;5;28mself\u001b[39m\u001b[38;5;241m.\u001b[39mppp_list \u001b[38;5;241m=\u001b[39m \u001b[38;5;28;43mself\u001b[39;49m\u001b[38;5;241;43m.\u001b[39;49m\u001b[43m_build_pp_list\u001b[49m\u001b[43m(\u001b[49m\u001b[43matoms\u001b[49m\u001b[43m,\u001b[49m\n\u001b[1;32m   1545\u001b[0m \u001b[43m                                    \u001b[49m\u001b[43msetups\u001b[49m\u001b[38;5;241;43m=\u001b[39;49m\u001b[43msetups\u001b[49m\u001b[43m,\u001b[49m\n\u001b[1;32m   1546\u001b[0m \u001b[43m                                    \u001b[49m\u001b[43mspecial_setups\u001b[49m\u001b[38;5;241;43m=\u001b[39;49m\u001b[43mspecial_setups\u001b[49m\u001b[43m)\u001b[49m\n\u001b[1;32m   1548\u001b[0m \u001b[38;5;28mself\u001b[39m\u001b[38;5;241m.\u001b[39mconverged \u001b[38;5;241m=\u001b[39m \u001b[38;5;28;01mNone\u001b[39;00m\n\u001b[1;32m   1549\u001b[0m \u001b[38;5;28mself\u001b[39m\u001b[38;5;241m.\u001b[39msetups_changed \u001b[38;5;241m=\u001b[39m \u001b[38;5;28;01mNone\u001b[39;00m\n",
      "File \u001b[0;32m~/.conda/envs/chace/lib/python3.12/site-packages/ase/calculators/vasp/create_input.py:1496\u001b[0m, in \u001b[0;36mGenerateVaspInput._build_pp_list\u001b[0;34m(self, atoms, setups, special_setups)\u001b[0m\n\u001b[1;32m   1488\u001b[0m     \u001b[38;5;28;01melse\u001b[39;00m:\n\u001b[1;32m   1489\u001b[0m         msg \u001b[38;5;241m=\u001b[39m (\u001b[38;5;124m\"\"\"\u001b[39m\u001b[38;5;124mLooking for PP for \u001b[39m\u001b[38;5;132;01m{}\u001b[39;00m\n\u001b[1;32m   1490\u001b[0m \u001b[38;5;124m                The pseudopotentials are expected to be in:\u001b[39m\n\u001b[1;32m   1491\u001b[0m \u001b[38;5;124m                LDA:  $VASP_PP_PATH/potpaw/\u001b[39m\n\u001b[0;32m   (...)\u001b[0m\n\u001b[1;32m   1494\u001b[0m \n\u001b[1;32m   1495\u001b[0m \u001b[38;5;124m                No pseudopotential for \u001b[39m\u001b[38;5;132;01m{}\u001b[39;00m\u001b[38;5;124m!\u001b[39m\u001b[38;5;124m\"\"\"\u001b[39m\u001b[38;5;241m.\u001b[39mformat(potcar, symbol))\n\u001b[0;32m-> 1496\u001b[0m         \u001b[38;5;28;01mraise\u001b[39;00m \u001b[38;5;167;01mRuntimeError\u001b[39;00m(msg)\n\u001b[1;32m   1497\u001b[0m \u001b[38;5;28;01mreturn\u001b[39;00m ppp_list\n",
      "\u001b[0;31mRuntimeError\u001b[0m: Looking for PP for potpaw/Ba_sv/POTCAR\n                        The pseudopotentials are expected to be in:\n                        LDA:  $VASP_PP_PATH/potpaw/\n                        PBE:  $VASP_PP_PATH/potpaw_PBE/\n                        PW91: $VASP_PP_PATH/potpaw_GGA/\n\n                        No pseudopotential for Ba!"
     ]
    }
   ],
   "source": [
    "import yaml\n",
    "from ase.calculators.vasp import Vasp\n",
    "\n",
    "structure = docs[4].structure\n",
    "\n",
    "os.environ[\"VASP_PP_PATH\"] = \"/global/home/users/cyrusyc/potcars\"\n",
    "\n",
    "incar = input_set_generator.get_input_set(structure=structure)['INCAR']\n",
    "\n",
    "incar[\"ISMEAR\"] = -5\n",
    "incar[\"SIGMA\"] = 0.1\n",
    "\n",
    "calc = Vasp(\n",
    "    command=f'mpirun -np {num_processes} {vasp_prefix / 'vasp_gam'}',\n",
    "    **incar,\n",
    ")\n",
    "\n",
    "calc.get_potential_energy(structure.to_ase_atoms(msonable=False))\n"
   ]
  },
  {
   "cell_type": "code",
   "execution_count": null,
   "metadata": {},
   "outputs": [],
   "source": []
  }
 ],
 "metadata": {
  "kernelspec": {
   "display_name": "chace",
   "language": "python",
   "name": "chace"
  },
  "language_info": {
   "codemirror_mode": {
    "name": "ipython",
    "version": 3
   },
   "file_extension": ".py",
   "mimetype": "text/x-python",
   "name": "python",
   "nbconvert_exporter": "python",
   "pygments_lexer": "ipython3",
   "version": "3.12.9"
  }
 },
 "nbformat": 4,
 "nbformat_minor": 2
}
