{
 "cells": [
  {
   "cell_type": "code",
   "execution_count": 2,
   "id": "68c53e9c-2a2c-40b1-b5e6-71bf1575d5f9",
   "metadata": {
    "tags": []
   },
   "outputs": [
    {
     "name": "stderr",
     "output_type": "stream",
     "text": [
      "/ocean/projects/dmr110014p/ychiang4/.conda/envs/comm/lib/python3.12/site-packages/tqdm/auto.py:21: TqdmWarning: IProgress not found. Please update jupyter and ipywidgets. See https://ipywidgets.readthedocs.io/en/stable/user_install.html\n",
      "  from .autonotebook import tqdm as notebook_tqdm\n",
      "Retrieving SummaryDoc documents: 100%|██████████| 2/2 [00:00<00:00, 18978.75it/s]\n"
     ]
    }
   ],
   "source": [
    "from mp_api.client import MPRester\n",
    "\n",
    "with MPRester() as mpr:\n",
    "    \n",
    "    docs = mpr.materials.summary.search(\n",
    "        chemsys=[\"Pb-Ti-O\",\"Pb-Zr-O\",\"Pb-Ti-Zr-O\"],\n",
    "        spacegroup_symbol=\"Pm-3m\", #\"P4mm\" \"R3mm\"\n",
    "        fields=['material_id', 'symmetry', 'structure']\n",
    "    )"
   ]
  },
  {
   "cell_type": "code",
   "execution_count": 4,
   "id": "b96cbecb-afd6-4684-b0d0-019a827fdfcd",
   "metadata": {
    "tags": []
   },
   "outputs": [
    {
     "name": "stdout",
     "output_type": "stream",
     "text": [
      "['588']\n"
     ]
    }
   ],
   "source": [
    "# Modify default MP input set to enable berry phase and born charge calculation\n",
    "# https://materialsproject.github.io/atomate2/user/codes/vasp.html#modifying-input-sets\n",
    "\n",
    "from atomate2.vasp.sets.core import StaticSetGenerator\n",
    "from atomate2.vasp.sets.mp import MPGGAStaticSetGenerator\n",
    "from pymatgen.io.vasp.sets import MPStaticSet\n",
    "\n",
    "from atomate2.vasp.jobs.core import StaticMaker\n",
    "# from jobflow import run_locally\n",
    "from jobflow_remote import submit_flow, set_run_config\n",
    "from jobflow_remote.config.base import ExecutionConfig\n",
    "import yaml\n",
    "\n",
    "structure = docs[0].structure\n",
    "\n",
    "# create a custom input generator set with a larger ENCUT\n",
    "input_set_generator = MPStaticSet(\n",
    "    user_incar_settings={\n",
    "        \"EDIFF\": 1e-5,\n",
    "        \"LCALCPOL\": True,\n",
    "        \"LCALCEPS\": True,\n",
    "        \"IBRION\": 5,\n",
    "        \"ISMEAR\": 0\n",
    "        # \"ENCUT\": 800\n",
    "    }\n",
    ")\n",
    "\n",
    "# initialise the static maker to use the custom input set generator\n",
    "static_maker = StaticMaker(\n",
    "    input_set_generator=input_set_generator\n",
    ")\n",
    "\n",
    "# create a job using the customised maker\n",
    "flow = static_maker.make(structure)\n",
    "\n",
    "constraint = 'cpu'\n",
    "\n",
    "# https://matgenix.github.io/jobflow-remote/user/tuning.html#submission\n",
    "resources = {\n",
    "    \"job_name\": \"benchmark\",\n",
    "    \"nodes\": 1, \n",
    "    \"ntasks_per_node\": 64,\n",
    "    \"time\": \"00:30:00\",\n",
    "    \"constraint\": constraint,\n",
    "    \"partition\": \"RM\",\n",
    "    \"qverbatim\": \"#SBATCH --gpu-bind=none\\n#SBATCH --gpus=4\" if constraint == 'gpu' else \"\"\n",
    "}\n",
    "\n",
    "atomate2_config_file = f\"/jet/home/ychiang4/atomate2/config/atomate2-{resources['job_name']}-{resources['constraint']}.yaml\"\n",
    "\n",
    "with open(atomate2_config_file, 'w') as f:\n",
    "    yaml.dump({\n",
    "        \"VASP_CMD\": f\"mpirun -np $SLURM_NTASKS /opt/packages/VASP/VASP6/6.4.3/GNU-SHMEM/vasp_std\",\n",
    "        \"VASP_GAMMA_CMD\": f\"mpirun -np $SLURM_NTASKS /opt/packages/VASP/VASP6/6.4.3/GNU-SHMEM/vasp_gam\"\n",
    "    }, f)\n",
    "\n",
    "config = ExecutionConfig(\n",
    "    modules=['openmpi/5.0.3-gcc13.2.1', 'intel-mkl/2023.2.0', 'cuda/11.7.1'],\n",
    "    export=dict(\n",
    "        OMP_NUM_THREADS=1,\n",
    "        OMP_PLACES=\"threads\",\n",
    "        OMP_PROC_BIND=\"spread\",\n",
    "        LD_LIBRARY_PATH=\"$LD_LIBRARY_PATH:/opt/packages/hdf5/hdf5-1.14.5/GNU/lib\",\n",
    "        ATOMATE2_CONFIG_FILE=atomate2_config_file,\n",
    "    ),\n",
    ")\n",
    "\n",
    "print(submit_flow(\n",
    "    flow, \n",
    "    # worker=\"local_shell\",\n",
    "    # worker='batch_worker', \n",
    "    project='comm',\n",
    "    exec_config=config,\n",
    "    resources=resources\n",
    "))\n",
    "\n",
    "# run_locally(static_job, create_folders=True)"
   ]
  },
  {
   "cell_type": "code",
   "execution_count": null,
   "id": "4500e456-e365-4c9a-85bd-3f78d6620f23",
   "metadata": {},
   "outputs": [],
   "source": []
  }
 ],
 "metadata": {
  "kernelspec": {
   "display_name": "comm",
   "language": "python",
   "name": "python3"
  },
  "language_info": {
   "codemirror_mode": {
    "name": "ipython",
    "version": 3
   },
   "file_extension": ".py",
   "mimetype": "text/x-python",
   "name": "python",
   "nbconvert_exporter": "python",
   "pygments_lexer": "ipython3",
   "version": "3.12.0"
  },
  "widgets": {
   "application/vnd.jupyter.widget-state+json": {
    "state": {
     "214f13a18a7a4e458b28e9660b3bd54b": {
      "model_module": "@jupyter-widgets/base",
      "model_module_version": "2.0.0",
      "model_name": "LayoutModel",
      "state": {}
     },
     "3481e331bf3f4e2facd0c94cd7c67f2b": {
      "model_module": "@jupyter-widgets/base",
      "model_module_version": "2.0.0",
      "model_name": "LayoutModel",
      "state": {}
     },
     "4c66e375e6c54477949bcb0072cafcd7": {
      "model_module": "@jupyter-widgets/controls",
      "model_module_version": "2.0.0",
      "model_name": "FloatProgressModel",
      "state": {
       "bar_style": "success",
       "layout": "IPY_MODEL_3481e331bf3f4e2facd0c94cd7c67f2b",
       "max": 2,
       "style": "IPY_MODEL_a8169a9037204d38b085d460bbebfe30",
       "value": 2
      }
     },
     "61494007639d4cf794aa0060f47bf1ba": {
      "model_module": "@jupyter-widgets/controls",
      "model_module_version": "2.0.0",
      "model_name": "HTMLStyleModel",
      "state": {
       "description_width": "",
       "font_size": null,
       "text_color": null
      }
     },
     "6e5fd180455f4736b9e6638b695419b1": {
      "model_module": "@jupyter-widgets/controls",
      "model_module_version": "2.0.0",
      "model_name": "HTMLModel",
      "state": {
       "layout": "IPY_MODEL_76ad90eb734845c4a6a56809d2ea8227",
       "style": "IPY_MODEL_93a7b175b6f24b89ac8d61b2221ae61f",
       "value": "Retrieving SummaryDoc documents: 100%"
      }
     },
     "76ad90eb734845c4a6a56809d2ea8227": {
      "model_module": "@jupyter-widgets/base",
      "model_module_version": "2.0.0",
      "model_name": "LayoutModel",
      "state": {}
     },
     "7ab4d2e557c0410a8e2d52fc39634f25": {
      "model_module": "@jupyter-widgets/controls",
      "model_module_version": "2.0.0",
      "model_name": "HTMLModel",
      "state": {
       "layout": "IPY_MODEL_84b79c8df9bc4653b120c71d891ec0e2",
       "style": "IPY_MODEL_61494007639d4cf794aa0060f47bf1ba",
       "value": " 2/2 [00:00&lt;00:00, 351.61it/s]"
      }
     },
     "84b79c8df9bc4653b120c71d891ec0e2": {
      "model_module": "@jupyter-widgets/base",
      "model_module_version": "2.0.0",
      "model_name": "LayoutModel",
      "state": {}
     },
     "93a7b175b6f24b89ac8d61b2221ae61f": {
      "model_module": "@jupyter-widgets/controls",
      "model_module_version": "2.0.0",
      "model_name": "HTMLStyleModel",
      "state": {
       "description_width": "",
       "font_size": null,
       "text_color": null
      }
     },
     "a8169a9037204d38b085d460bbebfe30": {
      "model_module": "@jupyter-widgets/controls",
      "model_module_version": "2.0.0",
      "model_name": "ProgressStyleModel",
      "state": {
       "description_width": ""
      }
     },
     "f071f8272d6a4f80b35ef884567efb58": {
      "model_module": "@jupyter-widgets/controls",
      "model_module_version": "2.0.0",
      "model_name": "HBoxModel",
      "state": {
       "children": [
        "IPY_MODEL_6e5fd180455f4736b9e6638b695419b1",
        "IPY_MODEL_4c66e375e6c54477949bcb0072cafcd7",
        "IPY_MODEL_7ab4d2e557c0410a8e2d52fc39634f25"
       ],
       "layout": "IPY_MODEL_214f13a18a7a4e458b28e9660b3bd54b"
      }
     }
    },
    "version_major": 2,
    "version_minor": 0
   }
  }
 },
 "nbformat": 4,
 "nbformat_minor": 5
}
