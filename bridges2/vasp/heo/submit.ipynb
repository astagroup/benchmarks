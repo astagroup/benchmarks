{
 "cells": [
  {
   "cell_type": "code",
   "execution_count": 21,
   "metadata": {},
   "outputs": [],
   "source": [
    "from loguru import logger\n",
    "import math\n",
    "import subprocess\n",
    "from pathlib import Path\n",
    "\n",
    "import yaml\n",
    "\n",
    "with open(\"../run.yaml\", \"r\") as f:\n",
    "    config_template = yaml.safe_load(f)"
   ]
  },
  {
   "cell_type": "code",
   "execution_count": 22,
   "metadata": {},
   "outputs": [],
   "source": [
    "def write_slurm_script(work_dir: str | Path, config: dict, script_content: str) -> Path:\n",
    "    \"\"\"\n",
    "    Generate a SLURM job script based on the provided configuration.\n",
    "\n",
    "    Args:\n",
    "        config (dict): Parsed YAML configuration.\n",
    "        work_dir (str): Directory to write the SLURM job script.\n",
    "        script_content (str): Bash commands to run in the SLURM job script.\n",
    "    \"\"\"\n",
    "\n",
    "    work_dir = Path(work_dir)\n",
    "    work_dir.mkdir(parents=True, exist_ok=True)\n",
    "\n",
    "    with open(work_dir / \"run.yaml\", \"w\") as f:\n",
    "        yaml.dump(config, f, sort_keys=False)\n",
    "\n",
    "    scheduler = config[\"scheduler\"]\n",
    "    resources = scheduler[\"resources\"]\n",
    "    pre_run = scheduler.get(\"pre_run\", \"\")\n",
    "    post_run = scheduler.get(\"post_run\", \"\")\n",
    "    modules = scheduler.get(\"modules\", []) or []\n",
    "\n",
    "    # Define the SLURM script path\n",
    "    script_path = work_dir / \"job.slurm\"\n",
    "\n",
    "    # Write the SLURM script\n",
    "    with open(script_path, \"w\") as f:\n",
    "        f.write(f\"\"\"#!/bin/bash\n",
    "#SBATCH --job-name={resources[\"job_name\"]}\n",
    "#SBATCH --output={resources[\"output\"]}\n",
    "#SBATCH --error={resources[\"error\"]}\n",
    "#SBATCH --time={resources[\"time\"]}\n",
    "#SBATCH --partition={resources[\"partition\"]}\n",
    "#SBATCH --nodes={resources[\"nodes\"]}\n",
    "#SBATCH --ntasks-per-node={resources[\"ntasks_per_node\"]}\n",
    "\n",
    "# Pre-run commands\n",
    "{pre_run if pre_run else \"\"}\n",
    "\n",
    "# Load required modules\n",
    "\"\"\")\n",
    "\n",
    "        for module in modules:\n",
    "            f.write(f\"module load {module}\\n\")\n",
    "\n",
    "        f.write(f\"\"\"\n",
    "{script_content}\n",
    "\"\"\")\n",
    "\n",
    "        f.write(f\"\\n# Post-run commands\\n{post_run if post_run else ''}\\n\")\n",
    "\n",
    "    logger.info(f\"SLURM job script written to: {script_path}\")\n",
    "    return script_path"
   ]
  },
  {
   "cell_type": "code",
   "execution_count": 26,
   "metadata": {},
   "outputs": [
    {
     "name": "stderr",
     "output_type": "stream",
     "text": [
      "\u001b[32m2025-01-17 14:27:58.740\u001b[0m | \u001b[1mINFO    \u001b[0m | \u001b[36m__main__\u001b[0m:\u001b[36m<module>\u001b[0m:\u001b[36m18\u001b[0m - \u001b[1mNNODE: 1, NCORE: 1, KPAR: 1, NPAR: 64.0\u001b[0m\n",
      "\u001b[32m2025-01-17 14:27:58.741\u001b[0m | \u001b[1mINFO    \u001b[0m | \u001b[36m__main__\u001b[0m:\u001b[36m<module>\u001b[0m:\u001b[36m19\u001b[0m - \u001b[1mTotal ranks (NNODE x NCORE x KPAR): 1\u001b[0m\n",
      "\u001b[32m2025-01-17 14:27:58.745\u001b[0m | \u001b[1mINFO    \u001b[0m | \u001b[36m__main__\u001b[0m:\u001b[36mwrite_slurm_script\u001b[0m:\u001b[36m52\u001b[0m - \u001b[1mSLURM job script written to: 1-1-1/job.slurm\u001b[0m\n",
      "\u001b[32m2025-01-17 14:27:58.810\u001b[0m | \u001b[1mINFO    \u001b[0m | \u001b[36m__main__\u001b[0m:\u001b[36m<module>\u001b[0m:\u001b[36m47\u001b[0m - \u001b[1mSubmitted job 1-1-1/job.slurm\u001b[0m\n",
      "\u001b[32m2025-01-17 14:27:58.810\u001b[0m | \u001b[1mINFO    \u001b[0m | \u001b[36m__main__\u001b[0m:\u001b[36m<module>\u001b[0m:\u001b[36m18\u001b[0m - \u001b[1mNNODE: 1, NCORE: 1, KPAR: 2, NPAR: 32.0\u001b[0m\n",
      "\u001b[32m2025-01-17 14:27:58.811\u001b[0m | \u001b[1mINFO    \u001b[0m | \u001b[36m__main__\u001b[0m:\u001b[36m<module>\u001b[0m:\u001b[36m19\u001b[0m - \u001b[1mTotal ranks (NNODE x NCORE x KPAR): 2\u001b[0m\n",
      "\u001b[32m2025-01-17 14:27:58.815\u001b[0m | \u001b[1mINFO    \u001b[0m | \u001b[36m__main__\u001b[0m:\u001b[36mwrite_slurm_script\u001b[0m:\u001b[36m52\u001b[0m - \u001b[1mSLURM job script written to: 1-1-2/job.slurm\u001b[0m\n",
      "\u001b[32m2025-01-17 14:27:58.861\u001b[0m | \u001b[1mINFO    \u001b[0m | \u001b[36m__main__\u001b[0m:\u001b[36m<module>\u001b[0m:\u001b[36m47\u001b[0m - \u001b[1mSubmitted job 1-1-2/job.slurm\u001b[0m\n",
      "\u001b[32m2025-01-17 14:27:58.863\u001b[0m | \u001b[1mINFO    \u001b[0m | \u001b[36m__main__\u001b[0m:\u001b[36m<module>\u001b[0m:\u001b[36m18\u001b[0m - \u001b[1mNNODE: 1, NCORE: 1, KPAR: 4, NPAR: 16.0\u001b[0m\n",
      "\u001b[32m2025-01-17 14:27:58.863\u001b[0m | \u001b[1mINFO    \u001b[0m | \u001b[36m__main__\u001b[0m:\u001b[36m<module>\u001b[0m:\u001b[36m19\u001b[0m - \u001b[1mTotal ranks (NNODE x NCORE x KPAR): 4\u001b[0m\n",
      "\u001b[32m2025-01-17 14:27:58.867\u001b[0m | \u001b[1mINFO    \u001b[0m | \u001b[36m__main__\u001b[0m:\u001b[36mwrite_slurm_script\u001b[0m:\u001b[36m52\u001b[0m - \u001b[1mSLURM job script written to: 1-1-4/job.slurm\u001b[0m\n",
      "\u001b[32m2025-01-17 14:27:58.971\u001b[0m | \u001b[1mINFO    \u001b[0m | \u001b[36m__main__\u001b[0m:\u001b[36m<module>\u001b[0m:\u001b[36m47\u001b[0m - \u001b[1mSubmitted job 1-1-4/job.slurm\u001b[0m\n",
      "\u001b[32m2025-01-17 14:27:58.972\u001b[0m | \u001b[1mINFO    \u001b[0m | \u001b[36m__main__\u001b[0m:\u001b[36m<module>\u001b[0m:\u001b[36m18\u001b[0m - \u001b[1mNNODE: 1, NCORE: 1, KPAR: 8, NPAR: 8.0\u001b[0m\n",
      "\u001b[32m2025-01-17 14:27:58.972\u001b[0m | \u001b[1mINFO    \u001b[0m | \u001b[36m__main__\u001b[0m:\u001b[36m<module>\u001b[0m:\u001b[36m19\u001b[0m - \u001b[1mTotal ranks (NNODE x NCORE x KPAR): 8\u001b[0m\n",
      "\u001b[32m2025-01-17 14:27:58.976\u001b[0m | \u001b[1mINFO    \u001b[0m | \u001b[36m__main__\u001b[0m:\u001b[36mwrite_slurm_script\u001b[0m:\u001b[36m52\u001b[0m - \u001b[1mSLURM job script written to: 1-1-8/job.slurm\u001b[0m\n"
     ]
    },
    {
     "name": "stdout",
     "output_type": "stream",
     "text": [
      "Submitted batch job 28409097\n",
      "Submitted batch job 28409098\n",
      "Submitted batch job 28409099\n"
     ]
    },
    {
     "name": "stderr",
     "output_type": "stream",
     "text": [
      "\u001b[32m2025-01-17 14:27:59.012\u001b[0m | \u001b[1mINFO    \u001b[0m | \u001b[36m__main__\u001b[0m:\u001b[36m<module>\u001b[0m:\u001b[36m47\u001b[0m - \u001b[1mSubmitted job 1-1-8/job.slurm\u001b[0m\n",
      "\u001b[32m2025-01-17 14:27:59.013\u001b[0m | \u001b[1mINFO    \u001b[0m | \u001b[36m__main__\u001b[0m:\u001b[36m<module>\u001b[0m:\u001b[36m18\u001b[0m - \u001b[1mNNODE: 1, NCORE: 1, KPAR: 16, NPAR: 4.0\u001b[0m\n",
      "\u001b[32m2025-01-17 14:27:59.014\u001b[0m | \u001b[1mINFO    \u001b[0m | \u001b[36m__main__\u001b[0m:\u001b[36m<module>\u001b[0m:\u001b[36m19\u001b[0m - \u001b[1mTotal ranks (NNODE x NCORE x KPAR): 16\u001b[0m\n",
      "\u001b[32m2025-01-17 14:27:59.018\u001b[0m | \u001b[1mINFO    \u001b[0m | \u001b[36m__main__\u001b[0m:\u001b[36mwrite_slurm_script\u001b[0m:\u001b[36m52\u001b[0m - \u001b[1mSLURM job script written to: 1-1-16/job.slurm\u001b[0m\n",
      "\u001b[32m2025-01-17 14:27:59.075\u001b[0m | \u001b[1mINFO    \u001b[0m | \u001b[36m__main__\u001b[0m:\u001b[36m<module>\u001b[0m:\u001b[36m47\u001b[0m - \u001b[1mSubmitted job 1-1-16/job.slurm\u001b[0m\n",
      "\u001b[32m2025-01-17 14:27:59.076\u001b[0m | \u001b[1mINFO    \u001b[0m | \u001b[36m__main__\u001b[0m:\u001b[36m<module>\u001b[0m:\u001b[36m18\u001b[0m - \u001b[1mNNODE: 1, NCORE: 2, KPAR: 1, NPAR: 32.0\u001b[0m\n",
      "\u001b[32m2025-01-17 14:27:59.076\u001b[0m | \u001b[1mINFO    \u001b[0m | \u001b[36m__main__\u001b[0m:\u001b[36m<module>\u001b[0m:\u001b[36m19\u001b[0m - \u001b[1mTotal ranks (NNODE x NCORE x KPAR): 2\u001b[0m\n",
      "\u001b[32m2025-01-17 14:27:59.080\u001b[0m | \u001b[1mINFO    \u001b[0m | \u001b[36m__main__\u001b[0m:\u001b[36mwrite_slurm_script\u001b[0m:\u001b[36m52\u001b[0m - \u001b[1mSLURM job script written to: 1-2-1/job.slurm\u001b[0m\n",
      "\u001b[32m2025-01-17 14:27:59.110\u001b[0m | \u001b[1mINFO    \u001b[0m | \u001b[36m__main__\u001b[0m:\u001b[36m<module>\u001b[0m:\u001b[36m47\u001b[0m - \u001b[1mSubmitted job 1-2-1/job.slurm\u001b[0m\n",
      "\u001b[32m2025-01-17 14:27:59.111\u001b[0m | \u001b[1mINFO    \u001b[0m | \u001b[36m__main__\u001b[0m:\u001b[36m<module>\u001b[0m:\u001b[36m18\u001b[0m - \u001b[1mNNODE: 1, NCORE: 2, KPAR: 2, NPAR: 16.0\u001b[0m\n",
      "\u001b[32m2025-01-17 14:27:59.111\u001b[0m | \u001b[1mINFO    \u001b[0m | \u001b[36m__main__\u001b[0m:\u001b[36m<module>\u001b[0m:\u001b[36m19\u001b[0m - \u001b[1mTotal ranks (NNODE x NCORE x KPAR): 4\u001b[0m\n",
      "\u001b[32m2025-01-17 14:27:59.115\u001b[0m | \u001b[1mINFO    \u001b[0m | \u001b[36m__main__\u001b[0m:\u001b[36mwrite_slurm_script\u001b[0m:\u001b[36m52\u001b[0m - \u001b[1mSLURM job script written to: 1-2-2/job.slurm\u001b[0m\n",
      "\u001b[32m2025-01-17 14:27:59.151\u001b[0m | \u001b[1mINFO    \u001b[0m | \u001b[36m__main__\u001b[0m:\u001b[36m<module>\u001b[0m:\u001b[36m47\u001b[0m - \u001b[1mSubmitted job 1-2-2/job.slurm\u001b[0m\n",
      "\u001b[32m2025-01-17 14:27:59.152\u001b[0m | \u001b[1mINFO    \u001b[0m | \u001b[36m__main__\u001b[0m:\u001b[36m<module>\u001b[0m:\u001b[36m18\u001b[0m - \u001b[1mNNODE: 1, NCORE: 2, KPAR: 4, NPAR: 8.0\u001b[0m\n",
      "\u001b[32m2025-01-17 14:27:59.152\u001b[0m | \u001b[1mINFO    \u001b[0m | \u001b[36m__main__\u001b[0m:\u001b[36m<module>\u001b[0m:\u001b[36m19\u001b[0m - \u001b[1mTotal ranks (NNODE x NCORE x KPAR): 8\u001b[0m\n",
      "\u001b[32m2025-01-17 14:27:59.156\u001b[0m | \u001b[1mINFO    \u001b[0m | \u001b[36m__main__\u001b[0m:\u001b[36mwrite_slurm_script\u001b[0m:\u001b[36m52\u001b[0m - \u001b[1mSLURM job script written to: 1-2-4/job.slurm\u001b[0m\n",
      "\u001b[32m2025-01-17 14:27:59.193\u001b[0m | \u001b[1mINFO    \u001b[0m | \u001b[36m__main__\u001b[0m:\u001b[36m<module>\u001b[0m:\u001b[36m47\u001b[0m - \u001b[1mSubmitted job 1-2-4/job.slurm\u001b[0m\n",
      "\u001b[32m2025-01-17 14:27:59.194\u001b[0m | \u001b[1mINFO    \u001b[0m | \u001b[36m__main__\u001b[0m:\u001b[36m<module>\u001b[0m:\u001b[36m18\u001b[0m - \u001b[1mNNODE: 1, NCORE: 2, KPAR: 8, NPAR: 4.0\u001b[0m\n",
      "\u001b[32m2025-01-17 14:27:59.195\u001b[0m | \u001b[1mINFO    \u001b[0m | \u001b[36m__main__\u001b[0m:\u001b[36m<module>\u001b[0m:\u001b[36m19\u001b[0m - \u001b[1mTotal ranks (NNODE x NCORE x KPAR): 16\u001b[0m\n",
      "\u001b[32m2025-01-17 14:27:59.198\u001b[0m | \u001b[1mINFO    \u001b[0m | \u001b[36m__main__\u001b[0m:\u001b[36mwrite_slurm_script\u001b[0m:\u001b[36m52\u001b[0m - \u001b[1mSLURM job script written to: 1-2-8/job.slurm\u001b[0m\n"
     ]
    },
    {
     "name": "stdout",
     "output_type": "stream",
     "text": [
      "Submitted batch job 28409100\n",
      "Submitted batch job 28409101\n",
      "Submitted batch job 28409102\n",
      "Submitted batch job 28409103\n",
      "Submitted batch job 28409104\n"
     ]
    },
    {
     "name": "stderr",
     "output_type": "stream",
     "text": [
      "\u001b[32m2025-01-17 14:27:59.240\u001b[0m | \u001b[1mINFO    \u001b[0m | \u001b[36m__main__\u001b[0m:\u001b[36m<module>\u001b[0m:\u001b[36m47\u001b[0m - \u001b[1mSubmitted job 1-2-8/job.slurm\u001b[0m\n",
      "\u001b[32m2025-01-17 14:27:59.241\u001b[0m | \u001b[1mINFO    \u001b[0m | \u001b[36m__main__\u001b[0m:\u001b[36m<module>\u001b[0m:\u001b[36m18\u001b[0m - \u001b[1mNNODE: 1, NCORE: 2, KPAR: 16, NPAR: 2.0\u001b[0m\n",
      "\u001b[32m2025-01-17 14:27:59.241\u001b[0m | \u001b[1mINFO    \u001b[0m | \u001b[36m__main__\u001b[0m:\u001b[36m<module>\u001b[0m:\u001b[36m19\u001b[0m - \u001b[1mTotal ranks (NNODE x NCORE x KPAR): 32\u001b[0m\n",
      "\u001b[32m2025-01-17 14:27:59.245\u001b[0m | \u001b[1mINFO    \u001b[0m | \u001b[36m__main__\u001b[0m:\u001b[36mwrite_slurm_script\u001b[0m:\u001b[36m52\u001b[0m - \u001b[1mSLURM job script written to: 1-2-16/job.slurm\u001b[0m\n",
      "\u001b[32m2025-01-17 14:27:59.282\u001b[0m | \u001b[1mINFO    \u001b[0m | \u001b[36m__main__\u001b[0m:\u001b[36m<module>\u001b[0m:\u001b[36m47\u001b[0m - \u001b[1mSubmitted job 1-2-16/job.slurm\u001b[0m\n",
      "\u001b[32m2025-01-17 14:27:59.283\u001b[0m | \u001b[1mINFO    \u001b[0m | \u001b[36m__main__\u001b[0m:\u001b[36m<module>\u001b[0m:\u001b[36m18\u001b[0m - \u001b[1mNNODE: 1, NCORE: 4, KPAR: 1, NPAR: 16.0\u001b[0m\n",
      "\u001b[32m2025-01-17 14:27:59.284\u001b[0m | \u001b[1mINFO    \u001b[0m | \u001b[36m__main__\u001b[0m:\u001b[36m<module>\u001b[0m:\u001b[36m19\u001b[0m - \u001b[1mTotal ranks (NNODE x NCORE x KPAR): 4\u001b[0m\n",
      "\u001b[32m2025-01-17 14:27:59.287\u001b[0m | \u001b[1mINFO    \u001b[0m | \u001b[36m__main__\u001b[0m:\u001b[36mwrite_slurm_script\u001b[0m:\u001b[36m52\u001b[0m - \u001b[1mSLURM job script written to: 1-4-1/job.slurm\u001b[0m\n",
      "\u001b[32m2025-01-17 14:27:59.325\u001b[0m | \u001b[1mINFO    \u001b[0m | \u001b[36m__main__\u001b[0m:\u001b[36m<module>\u001b[0m:\u001b[36m47\u001b[0m - \u001b[1mSubmitted job 1-4-1/job.slurm\u001b[0m\n",
      "\u001b[32m2025-01-17 14:27:59.326\u001b[0m | \u001b[1mINFO    \u001b[0m | \u001b[36m__main__\u001b[0m:\u001b[36m<module>\u001b[0m:\u001b[36m18\u001b[0m - \u001b[1mNNODE: 1, NCORE: 4, KPAR: 2, NPAR: 8.0\u001b[0m\n",
      "\u001b[32m2025-01-17 14:27:59.326\u001b[0m | \u001b[1mINFO    \u001b[0m | \u001b[36m__main__\u001b[0m:\u001b[36m<module>\u001b[0m:\u001b[36m19\u001b[0m - \u001b[1mTotal ranks (NNODE x NCORE x KPAR): 8\u001b[0m\n",
      "\u001b[32m2025-01-17 14:27:59.330\u001b[0m | \u001b[1mINFO    \u001b[0m | \u001b[36m__main__\u001b[0m:\u001b[36mwrite_slurm_script\u001b[0m:\u001b[36m52\u001b[0m - \u001b[1mSLURM job script written to: 1-4-2/job.slurm\u001b[0m\n",
      "\u001b[32m2025-01-17 14:27:59.375\u001b[0m | \u001b[1mINFO    \u001b[0m | \u001b[36m__main__\u001b[0m:\u001b[36m<module>\u001b[0m:\u001b[36m47\u001b[0m - \u001b[1mSubmitted job 1-4-2/job.slurm\u001b[0m\n",
      "\u001b[32m2025-01-17 14:27:59.376\u001b[0m | \u001b[1mINFO    \u001b[0m | \u001b[36m__main__\u001b[0m:\u001b[36m<module>\u001b[0m:\u001b[36m18\u001b[0m - \u001b[1mNNODE: 1, NCORE: 4, KPAR: 4, NPAR: 4.0\u001b[0m\n",
      "\u001b[32m2025-01-17 14:27:59.376\u001b[0m | \u001b[1mINFO    \u001b[0m | \u001b[36m__main__\u001b[0m:\u001b[36m<module>\u001b[0m:\u001b[36m19\u001b[0m - \u001b[1mTotal ranks (NNODE x NCORE x KPAR): 16\u001b[0m\n",
      "\u001b[32m2025-01-17 14:27:59.396\u001b[0m | \u001b[1mINFO    \u001b[0m | \u001b[36m__main__\u001b[0m:\u001b[36mwrite_slurm_script\u001b[0m:\u001b[36m52\u001b[0m - \u001b[1mSLURM job script written to: 1-4-4/job.slurm\u001b[0m\n",
      "\u001b[32m2025-01-17 14:27:59.432\u001b[0m | \u001b[1mINFO    \u001b[0m | \u001b[36m__main__\u001b[0m:\u001b[36m<module>\u001b[0m:\u001b[36m47\u001b[0m - \u001b[1mSubmitted job 1-4-4/job.slurm\u001b[0m\n",
      "\u001b[32m2025-01-17 14:27:59.433\u001b[0m | \u001b[1mINFO    \u001b[0m | \u001b[36m__main__\u001b[0m:\u001b[36m<module>\u001b[0m:\u001b[36m18\u001b[0m - \u001b[1mNNODE: 1, NCORE: 4, KPAR: 8, NPAR: 2.0\u001b[0m\n",
      "\u001b[32m2025-01-17 14:27:59.433\u001b[0m | \u001b[1mINFO    \u001b[0m | \u001b[36m__main__\u001b[0m:\u001b[36m<module>\u001b[0m:\u001b[36m19\u001b[0m - \u001b[1mTotal ranks (NNODE x NCORE x KPAR): 32\u001b[0m\n",
      "\u001b[32m2025-01-17 14:27:59.437\u001b[0m | \u001b[1mINFO    \u001b[0m | \u001b[36m__main__\u001b[0m:\u001b[36mwrite_slurm_script\u001b[0m:\u001b[36m52\u001b[0m - \u001b[1mSLURM job script written to: 1-4-8/job.slurm\u001b[0m\n"
     ]
    },
    {
     "name": "stdout",
     "output_type": "stream",
     "text": [
      "Submitted batch job 28409105\n",
      "Submitted batch job 28409106\n",
      "Submitted batch job 28409107\n",
      "Submitted batch job 28409108\n",
      "Submitted batch job 28409109\n"
     ]
    },
    {
     "name": "stderr",
     "output_type": "stream",
     "text": [
      "\u001b[32m2025-01-17 14:27:59.483\u001b[0m | \u001b[1mINFO    \u001b[0m | \u001b[36m__main__\u001b[0m:\u001b[36m<module>\u001b[0m:\u001b[36m47\u001b[0m - \u001b[1mSubmitted job 1-4-8/job.slurm\u001b[0m\n",
      "\u001b[32m2025-01-17 14:27:59.483\u001b[0m | \u001b[1mINFO    \u001b[0m | \u001b[36m__main__\u001b[0m:\u001b[36m<module>\u001b[0m:\u001b[36m18\u001b[0m - \u001b[1mNNODE: 1, NCORE: 4, KPAR: 16, NPAR: 1.0\u001b[0m\n",
      "\u001b[32m2025-01-17 14:27:59.484\u001b[0m | \u001b[1mINFO    \u001b[0m | \u001b[36m__main__\u001b[0m:\u001b[36m<module>\u001b[0m:\u001b[36m19\u001b[0m - \u001b[1mTotal ranks (NNODE x NCORE x KPAR): 64\u001b[0m\n",
      "\u001b[32m2025-01-17 14:27:59.487\u001b[0m | \u001b[1mINFO    \u001b[0m | \u001b[36m__main__\u001b[0m:\u001b[36mwrite_slurm_script\u001b[0m:\u001b[36m52\u001b[0m - \u001b[1mSLURM job script written to: 1-4-16/job.slurm\u001b[0m\n",
      "\u001b[32m2025-01-17 14:27:59.529\u001b[0m | \u001b[1mINFO    \u001b[0m | \u001b[36m__main__\u001b[0m:\u001b[36m<module>\u001b[0m:\u001b[36m47\u001b[0m - \u001b[1mSubmitted job 1-4-16/job.slurm\u001b[0m\n",
      "\u001b[32m2025-01-17 14:27:59.529\u001b[0m | \u001b[1mINFO    \u001b[0m | \u001b[36m__main__\u001b[0m:\u001b[36m<module>\u001b[0m:\u001b[36m18\u001b[0m - \u001b[1mNNODE: 1, NCORE: 8, KPAR: 1, NPAR: 8.0\u001b[0m\n",
      "\u001b[32m2025-01-17 14:27:59.530\u001b[0m | \u001b[1mINFO    \u001b[0m | \u001b[36m__main__\u001b[0m:\u001b[36m<module>\u001b[0m:\u001b[36m19\u001b[0m - \u001b[1mTotal ranks (NNODE x NCORE x KPAR): 8\u001b[0m\n",
      "\u001b[32m2025-01-17 14:27:59.534\u001b[0m | \u001b[1mINFO    \u001b[0m | \u001b[36m__main__\u001b[0m:\u001b[36mwrite_slurm_script\u001b[0m:\u001b[36m52\u001b[0m - \u001b[1mSLURM job script written to: 1-8-1/job.slurm\u001b[0m\n",
      "\u001b[32m2025-01-17 14:27:59.571\u001b[0m | \u001b[1mINFO    \u001b[0m | \u001b[36m__main__\u001b[0m:\u001b[36m<module>\u001b[0m:\u001b[36m47\u001b[0m - \u001b[1mSubmitted job 1-8-1/job.slurm\u001b[0m\n",
      "\u001b[32m2025-01-17 14:27:59.572\u001b[0m | \u001b[1mINFO    \u001b[0m | \u001b[36m__main__\u001b[0m:\u001b[36m<module>\u001b[0m:\u001b[36m18\u001b[0m - \u001b[1mNNODE: 1, NCORE: 8, KPAR: 2, NPAR: 4.0\u001b[0m\n",
      "\u001b[32m2025-01-17 14:27:59.572\u001b[0m | \u001b[1mINFO    \u001b[0m | \u001b[36m__main__\u001b[0m:\u001b[36m<module>\u001b[0m:\u001b[36m19\u001b[0m - \u001b[1mTotal ranks (NNODE x NCORE x KPAR): 16\u001b[0m\n",
      "\u001b[32m2025-01-17 14:27:59.576\u001b[0m | \u001b[1mINFO    \u001b[0m | \u001b[36m__main__\u001b[0m:\u001b[36mwrite_slurm_script\u001b[0m:\u001b[36m52\u001b[0m - \u001b[1mSLURM job script written to: 1-8-2/job.slurm\u001b[0m\n",
      "\u001b[32m2025-01-17 14:27:59.614\u001b[0m | \u001b[1mINFO    \u001b[0m | \u001b[36m__main__\u001b[0m:\u001b[36m<module>\u001b[0m:\u001b[36m47\u001b[0m - \u001b[1mSubmitted job 1-8-2/job.slurm\u001b[0m\n",
      "\u001b[32m2025-01-17 14:27:59.615\u001b[0m | \u001b[1mINFO    \u001b[0m | \u001b[36m__main__\u001b[0m:\u001b[36m<module>\u001b[0m:\u001b[36m18\u001b[0m - \u001b[1mNNODE: 1, NCORE: 8, KPAR: 4, NPAR: 2.0\u001b[0m\n",
      "\u001b[32m2025-01-17 14:27:59.615\u001b[0m | \u001b[1mINFO    \u001b[0m | \u001b[36m__main__\u001b[0m:\u001b[36m<module>\u001b[0m:\u001b[36m19\u001b[0m - \u001b[1mTotal ranks (NNODE x NCORE x KPAR): 32\u001b[0m\n",
      "\u001b[32m2025-01-17 14:27:59.618\u001b[0m | \u001b[1mINFO    \u001b[0m | \u001b[36m__main__\u001b[0m:\u001b[36mwrite_slurm_script\u001b[0m:\u001b[36m52\u001b[0m - \u001b[1mSLURM job script written to: 1-8-4/job.slurm\u001b[0m\n",
      "\u001b[32m2025-01-17 14:27:59.653\u001b[0m | \u001b[1mINFO    \u001b[0m | \u001b[36m__main__\u001b[0m:\u001b[36m<module>\u001b[0m:\u001b[36m47\u001b[0m - \u001b[1mSubmitted job 1-8-4/job.slurm\u001b[0m\n",
      "\u001b[32m2025-01-17 14:27:59.654\u001b[0m | \u001b[1mINFO    \u001b[0m | \u001b[36m__main__\u001b[0m:\u001b[36m<module>\u001b[0m:\u001b[36m18\u001b[0m - \u001b[1mNNODE: 1, NCORE: 8, KPAR: 8, NPAR: 1.0\u001b[0m\n",
      "\u001b[32m2025-01-17 14:27:59.654\u001b[0m | \u001b[1mINFO    \u001b[0m | \u001b[36m__main__\u001b[0m:\u001b[36m<module>\u001b[0m:\u001b[36m19\u001b[0m - \u001b[1mTotal ranks (NNODE x NCORE x KPAR): 64\u001b[0m\n",
      "\u001b[32m2025-01-17 14:27:59.659\u001b[0m | \u001b[1mINFO    \u001b[0m | \u001b[36m__main__\u001b[0m:\u001b[36mwrite_slurm_script\u001b[0m:\u001b[36m52\u001b[0m - \u001b[1mSLURM job script written to: 1-8-8/job.slurm\u001b[0m\n"
     ]
    },
    {
     "name": "stdout",
     "output_type": "stream",
     "text": [
      "Submitted batch job 28409110\n",
      "Submitted batch job 28409111\n",
      "Submitted batch job 28409112\n",
      "Submitted batch job 28409113\n",
      "Submitted batch job 28409114\n"
     ]
    },
    {
     "name": "stderr",
     "output_type": "stream",
     "text": [
      "\u001b[32m2025-01-17 14:27:59.705\u001b[0m | \u001b[1mINFO    \u001b[0m | \u001b[36m__main__\u001b[0m:\u001b[36m<module>\u001b[0m:\u001b[36m47\u001b[0m - \u001b[1mSubmitted job 1-8-8/job.slurm\u001b[0m\n",
      "\u001b[32m2025-01-17 14:27:59.706\u001b[0m | \u001b[1mINFO    \u001b[0m | \u001b[36m__main__\u001b[0m:\u001b[36m<module>\u001b[0m:\u001b[36m18\u001b[0m - \u001b[1mNNODE: 1, NCORE: 16, KPAR: 1, NPAR: 4.0\u001b[0m\n",
      "\u001b[32m2025-01-17 14:27:59.706\u001b[0m | \u001b[1mINFO    \u001b[0m | \u001b[36m__main__\u001b[0m:\u001b[36m<module>\u001b[0m:\u001b[36m19\u001b[0m - \u001b[1mTotal ranks (NNODE x NCORE x KPAR): 16\u001b[0m\n",
      "\u001b[32m2025-01-17 14:27:59.710\u001b[0m | \u001b[1mINFO    \u001b[0m | \u001b[36m__main__\u001b[0m:\u001b[36mwrite_slurm_script\u001b[0m:\u001b[36m52\u001b[0m - \u001b[1mSLURM job script written to: 1-16-1/job.slurm\u001b[0m\n",
      "\u001b[32m2025-01-17 14:27:59.749\u001b[0m | \u001b[1mINFO    \u001b[0m | \u001b[36m__main__\u001b[0m:\u001b[36m<module>\u001b[0m:\u001b[36m47\u001b[0m - \u001b[1mSubmitted job 1-16-1/job.slurm\u001b[0m\n",
      "\u001b[32m2025-01-17 14:27:59.750\u001b[0m | \u001b[1mINFO    \u001b[0m | \u001b[36m__main__\u001b[0m:\u001b[36m<module>\u001b[0m:\u001b[36m18\u001b[0m - \u001b[1mNNODE: 1, NCORE: 16, KPAR: 2, NPAR: 2.0\u001b[0m\n",
      "\u001b[32m2025-01-17 14:27:59.750\u001b[0m | \u001b[1mINFO    \u001b[0m | \u001b[36m__main__\u001b[0m:\u001b[36m<module>\u001b[0m:\u001b[36m19\u001b[0m - \u001b[1mTotal ranks (NNODE x NCORE x KPAR): 32\u001b[0m\n",
      "\u001b[32m2025-01-17 14:27:59.754\u001b[0m | \u001b[1mINFO    \u001b[0m | \u001b[36m__main__\u001b[0m:\u001b[36mwrite_slurm_script\u001b[0m:\u001b[36m52\u001b[0m - \u001b[1mSLURM job script written to: 1-16-2/job.slurm\u001b[0m\n",
      "\u001b[32m2025-01-17 14:27:59.789\u001b[0m | \u001b[1mINFO    \u001b[0m | \u001b[36m__main__\u001b[0m:\u001b[36m<module>\u001b[0m:\u001b[36m47\u001b[0m - \u001b[1mSubmitted job 1-16-2/job.slurm\u001b[0m\n",
      "\u001b[32m2025-01-17 14:27:59.790\u001b[0m | \u001b[1mINFO    \u001b[0m | \u001b[36m__main__\u001b[0m:\u001b[36m<module>\u001b[0m:\u001b[36m18\u001b[0m - \u001b[1mNNODE: 1, NCORE: 16, KPAR: 4, NPAR: 1.0\u001b[0m\n",
      "\u001b[32m2025-01-17 14:27:59.790\u001b[0m | \u001b[1mINFO    \u001b[0m | \u001b[36m__main__\u001b[0m:\u001b[36m<module>\u001b[0m:\u001b[36m19\u001b[0m - \u001b[1mTotal ranks (NNODE x NCORE x KPAR): 64\u001b[0m\n",
      "\u001b[32m2025-01-17 14:27:59.794\u001b[0m | \u001b[1mINFO    \u001b[0m | \u001b[36m__main__\u001b[0m:\u001b[36mwrite_slurm_script\u001b[0m:\u001b[36m52\u001b[0m - \u001b[1mSLURM job script written to: 1-16-4/job.slurm\u001b[0m\n",
      "\u001b[32m2025-01-17 14:27:59.839\u001b[0m | \u001b[1mINFO    \u001b[0m | \u001b[36m__main__\u001b[0m:\u001b[36m<module>\u001b[0m:\u001b[36m47\u001b[0m - \u001b[1mSubmitted job 1-16-4/job.slurm\u001b[0m\n",
      "\u001b[32m2025-01-17 14:27:59.839\u001b[0m | \u001b[1mINFO    \u001b[0m | \u001b[36m__main__\u001b[0m:\u001b[36m<module>\u001b[0m:\u001b[36m18\u001b[0m - \u001b[1mNNODE: 1, NCORE: 32, KPAR: 1, NPAR: 2.0\u001b[0m\n",
      "\u001b[32m2025-01-17 14:27:59.840\u001b[0m | \u001b[1mINFO    \u001b[0m | \u001b[36m__main__\u001b[0m:\u001b[36m<module>\u001b[0m:\u001b[36m19\u001b[0m - \u001b[1mTotal ranks (NNODE x NCORE x KPAR): 32\u001b[0m\n",
      "\u001b[32m2025-01-17 14:27:59.843\u001b[0m | \u001b[1mINFO    \u001b[0m | \u001b[36m__main__\u001b[0m:\u001b[36mwrite_slurm_script\u001b[0m:\u001b[36m52\u001b[0m - \u001b[1mSLURM job script written to: 1-32-1/job.slurm\u001b[0m\n",
      "\u001b[32m2025-01-17 14:27:59.881\u001b[0m | \u001b[1mINFO    \u001b[0m | \u001b[36m__main__\u001b[0m:\u001b[36m<module>\u001b[0m:\u001b[36m47\u001b[0m - \u001b[1mSubmitted job 1-32-1/job.slurm\u001b[0m\n",
      "\u001b[32m2025-01-17 14:27:59.882\u001b[0m | \u001b[1mINFO    \u001b[0m | \u001b[36m__main__\u001b[0m:\u001b[36m<module>\u001b[0m:\u001b[36m18\u001b[0m - \u001b[1mNNODE: 1, NCORE: 32, KPAR: 2, NPAR: 1.0\u001b[0m\n",
      "\u001b[32m2025-01-17 14:27:59.882\u001b[0m | \u001b[1mINFO    \u001b[0m | \u001b[36m__main__\u001b[0m:\u001b[36m<module>\u001b[0m:\u001b[36m19\u001b[0m - \u001b[1mTotal ranks (NNODE x NCORE x KPAR): 64\u001b[0m\n"
     ]
    },
    {
     "name": "stdout",
     "output_type": "stream",
     "text": [
      "Submitted batch job 28409115\n",
      "Submitted batch job 28409116\n",
      "Submitted batch job 28409117\n",
      "Submitted batch job 28409118\n",
      "Submitted batch job 28409119\n"
     ]
    },
    {
     "name": "stderr",
     "output_type": "stream",
     "text": [
      "\u001b[32m2025-01-17 14:28:00.623\u001b[0m | \u001b[1mINFO    \u001b[0m | \u001b[36m__main__\u001b[0m:\u001b[36mwrite_slurm_script\u001b[0m:\u001b[36m52\u001b[0m - \u001b[1mSLURM job script written to: 1-32-2/job.slurm\u001b[0m\n",
      "\u001b[32m2025-01-17 14:28:00.671\u001b[0m | \u001b[1mINFO    \u001b[0m | \u001b[36m__main__\u001b[0m:\u001b[36m<module>\u001b[0m:\u001b[36m47\u001b[0m - \u001b[1mSubmitted job 1-32-2/job.slurm\u001b[0m\n",
      "\u001b[32m2025-01-17 14:28:00.671\u001b[0m | \u001b[1mINFO    \u001b[0m | \u001b[36m__main__\u001b[0m:\u001b[36m<module>\u001b[0m:\u001b[36m18\u001b[0m - \u001b[1mNNODE: 1, NCORE: 64, KPAR: 1, NPAR: 1.0\u001b[0m\n",
      "\u001b[32m2025-01-17 14:28:00.672\u001b[0m | \u001b[1mINFO    \u001b[0m | \u001b[36m__main__\u001b[0m:\u001b[36m<module>\u001b[0m:\u001b[36m19\u001b[0m - \u001b[1mTotal ranks (NNODE x NCORE x KPAR): 64\u001b[0m\n",
      "\u001b[32m2025-01-17 14:28:00.676\u001b[0m | \u001b[1mINFO    \u001b[0m | \u001b[36m__main__\u001b[0m:\u001b[36mwrite_slurm_script\u001b[0m:\u001b[36m52\u001b[0m - \u001b[1mSLURM job script written to: 1-64-1/job.slurm\u001b[0m\n",
      "\u001b[32m2025-01-17 14:28:00.742\u001b[0m | \u001b[1mINFO    \u001b[0m | \u001b[36m__main__\u001b[0m:\u001b[36m<module>\u001b[0m:\u001b[36m47\u001b[0m - \u001b[1mSubmitted job 1-64-1/job.slurm\u001b[0m\n",
      "\u001b[32m2025-01-17 14:28:00.743\u001b[0m | \u001b[1mINFO    \u001b[0m | \u001b[36m__main__\u001b[0m:\u001b[36m<module>\u001b[0m:\u001b[36m18\u001b[0m - \u001b[1mNNODE: 2, NCORE: 1, KPAR: 1, NPAR: 64.0\u001b[0m\n",
      "\u001b[32m2025-01-17 14:28:00.743\u001b[0m | \u001b[1mINFO    \u001b[0m | \u001b[36m__main__\u001b[0m:\u001b[36m<module>\u001b[0m:\u001b[36m19\u001b[0m - \u001b[1mTotal ranks (NNODE x NCORE x KPAR): 2\u001b[0m\n",
      "\u001b[32m2025-01-17 14:28:00.747\u001b[0m | \u001b[1mINFO    \u001b[0m | \u001b[36m__main__\u001b[0m:\u001b[36mwrite_slurm_script\u001b[0m:\u001b[36m52\u001b[0m - \u001b[1mSLURM job script written to: 2-1-1/job.slurm\u001b[0m\n",
      "\u001b[32m2025-01-17 14:28:00.791\u001b[0m | \u001b[1mINFO    \u001b[0m | \u001b[36m__main__\u001b[0m:\u001b[36m<module>\u001b[0m:\u001b[36m47\u001b[0m - \u001b[1mSubmitted job 2-1-1/job.slurm\u001b[0m\n",
      "\u001b[32m2025-01-17 14:28:00.792\u001b[0m | \u001b[1mINFO    \u001b[0m | \u001b[36m__main__\u001b[0m:\u001b[36m<module>\u001b[0m:\u001b[36m18\u001b[0m - \u001b[1mNNODE: 2, NCORE: 1, KPAR: 2, NPAR: 32.0\u001b[0m\n",
      "\u001b[32m2025-01-17 14:28:00.793\u001b[0m | \u001b[1mINFO    \u001b[0m | \u001b[36m__main__\u001b[0m:\u001b[36m<module>\u001b[0m:\u001b[36m19\u001b[0m - \u001b[1mTotal ranks (NNODE x NCORE x KPAR): 4\u001b[0m\n",
      "\u001b[32m2025-01-17 14:28:00.796\u001b[0m | \u001b[1mINFO    \u001b[0m | \u001b[36m__main__\u001b[0m:\u001b[36mwrite_slurm_script\u001b[0m:\u001b[36m52\u001b[0m - \u001b[1mSLURM job script written to: 2-1-2/job.slurm\u001b[0m\n",
      "\u001b[32m2025-01-17 14:28:00.834\u001b[0m | \u001b[1mINFO    \u001b[0m | \u001b[36m__main__\u001b[0m:\u001b[36m<module>\u001b[0m:\u001b[36m47\u001b[0m - \u001b[1mSubmitted job 2-1-2/job.slurm\u001b[0m\n",
      "\u001b[32m2025-01-17 14:28:00.834\u001b[0m | \u001b[1mINFO    \u001b[0m | \u001b[36m__main__\u001b[0m:\u001b[36m<module>\u001b[0m:\u001b[36m18\u001b[0m - \u001b[1mNNODE: 2, NCORE: 1, KPAR: 4, NPAR: 16.0\u001b[0m\n",
      "\u001b[32m2025-01-17 14:28:00.835\u001b[0m | \u001b[1mINFO    \u001b[0m | \u001b[36m__main__\u001b[0m:\u001b[36m<module>\u001b[0m:\u001b[36m19\u001b[0m - \u001b[1mTotal ranks (NNODE x NCORE x KPAR): 8\u001b[0m\n",
      "\u001b[32m2025-01-17 14:28:00.839\u001b[0m | \u001b[1mINFO    \u001b[0m | \u001b[36m__main__\u001b[0m:\u001b[36mwrite_slurm_script\u001b[0m:\u001b[36m52\u001b[0m - \u001b[1mSLURM job script written to: 2-1-4/job.slurm\u001b[0m\n"
     ]
    },
    {
     "name": "stdout",
     "output_type": "stream",
     "text": [
      "Submitted batch job 28409120\n",
      "Submitted batch job 28409121\n",
      "Submitted batch job 28409122\n",
      "Submitted batch job 28409123\n"
     ]
    },
    {
     "name": "stderr",
     "output_type": "stream",
     "text": [
      "\u001b[32m2025-01-17 14:28:00.878\u001b[0m | \u001b[1mINFO    \u001b[0m | \u001b[36m__main__\u001b[0m:\u001b[36m<module>\u001b[0m:\u001b[36m47\u001b[0m - \u001b[1mSubmitted job 2-1-4/job.slurm\u001b[0m\n",
      "\u001b[32m2025-01-17 14:28:00.879\u001b[0m | \u001b[1mINFO    \u001b[0m | \u001b[36m__main__\u001b[0m:\u001b[36m<module>\u001b[0m:\u001b[36m18\u001b[0m - \u001b[1mNNODE: 2, NCORE: 1, KPAR: 8, NPAR: 8.0\u001b[0m\n",
      "\u001b[32m2025-01-17 14:28:00.879\u001b[0m | \u001b[1mINFO    \u001b[0m | \u001b[36m__main__\u001b[0m:\u001b[36m<module>\u001b[0m:\u001b[36m19\u001b[0m - \u001b[1mTotal ranks (NNODE x NCORE x KPAR): 16\u001b[0m\n",
      "\u001b[32m2025-01-17 14:28:00.883\u001b[0m | \u001b[1mINFO    \u001b[0m | \u001b[36m__main__\u001b[0m:\u001b[36mwrite_slurm_script\u001b[0m:\u001b[36m52\u001b[0m - \u001b[1mSLURM job script written to: 2-1-8/job.slurm\u001b[0m\n",
      "\u001b[32m2025-01-17 14:28:00.924\u001b[0m | \u001b[1mINFO    \u001b[0m | \u001b[36m__main__\u001b[0m:\u001b[36m<module>\u001b[0m:\u001b[36m47\u001b[0m - \u001b[1mSubmitted job 2-1-8/job.slurm\u001b[0m\n",
      "\u001b[32m2025-01-17 14:28:00.925\u001b[0m | \u001b[1mINFO    \u001b[0m | \u001b[36m__main__\u001b[0m:\u001b[36m<module>\u001b[0m:\u001b[36m18\u001b[0m - \u001b[1mNNODE: 2, NCORE: 1, KPAR: 16, NPAR: 4.0\u001b[0m\n",
      "\u001b[32m2025-01-17 14:28:00.925\u001b[0m | \u001b[1mINFO    \u001b[0m | \u001b[36m__main__\u001b[0m:\u001b[36m<module>\u001b[0m:\u001b[36m19\u001b[0m - \u001b[1mTotal ranks (NNODE x NCORE x KPAR): 32\u001b[0m\n",
      "\u001b[32m2025-01-17 14:28:00.929\u001b[0m | \u001b[1mINFO    \u001b[0m | \u001b[36m__main__\u001b[0m:\u001b[36mwrite_slurm_script\u001b[0m:\u001b[36m52\u001b[0m - \u001b[1mSLURM job script written to: 2-1-16/job.slurm\u001b[0m\n",
      "\u001b[32m2025-01-17 14:28:00.968\u001b[0m | \u001b[1mINFO    \u001b[0m | \u001b[36m__main__\u001b[0m:\u001b[36m<module>\u001b[0m:\u001b[36m47\u001b[0m - \u001b[1mSubmitted job 2-1-16/job.slurm\u001b[0m\n",
      "\u001b[32m2025-01-17 14:28:00.970\u001b[0m | \u001b[1mINFO    \u001b[0m | \u001b[36m__main__\u001b[0m:\u001b[36m<module>\u001b[0m:\u001b[36m18\u001b[0m - \u001b[1mNNODE: 2, NCORE: 2, KPAR: 1, NPAR: 32.0\u001b[0m\n",
      "\u001b[32m2025-01-17 14:28:00.970\u001b[0m | \u001b[1mINFO    \u001b[0m | \u001b[36m__main__\u001b[0m:\u001b[36m<module>\u001b[0m:\u001b[36m19\u001b[0m - \u001b[1mTotal ranks (NNODE x NCORE x KPAR): 4\u001b[0m\n",
      "\u001b[32m2025-01-17 14:28:00.975\u001b[0m | \u001b[1mINFO    \u001b[0m | \u001b[36m__main__\u001b[0m:\u001b[36mwrite_slurm_script\u001b[0m:\u001b[36m52\u001b[0m - \u001b[1mSLURM job script written to: 2-2-1/job.slurm\u001b[0m\n",
      "\u001b[32m2025-01-17 14:28:01.021\u001b[0m | \u001b[1mINFO    \u001b[0m | \u001b[36m__main__\u001b[0m:\u001b[36m<module>\u001b[0m:\u001b[36m47\u001b[0m - \u001b[1mSubmitted job 2-2-1/job.slurm\u001b[0m\n",
      "\u001b[32m2025-01-17 14:28:01.022\u001b[0m | \u001b[1mINFO    \u001b[0m | \u001b[36m__main__\u001b[0m:\u001b[36m<module>\u001b[0m:\u001b[36m18\u001b[0m - \u001b[1mNNODE: 2, NCORE: 2, KPAR: 2, NPAR: 16.0\u001b[0m\n",
      "\u001b[32m2025-01-17 14:28:01.022\u001b[0m | \u001b[1mINFO    \u001b[0m | \u001b[36m__main__\u001b[0m:\u001b[36m<module>\u001b[0m:\u001b[36m19\u001b[0m - \u001b[1mTotal ranks (NNODE x NCORE x KPAR): 8\u001b[0m\n",
      "\u001b[32m2025-01-17 14:28:01.026\u001b[0m | \u001b[1mINFO    \u001b[0m | \u001b[36m__main__\u001b[0m:\u001b[36mwrite_slurm_script\u001b[0m:\u001b[36m52\u001b[0m - \u001b[1mSLURM job script written to: 2-2-2/job.slurm\u001b[0m\n"
     ]
    },
    {
     "name": "stdout",
     "output_type": "stream",
     "text": [
      "Submitted batch job 28409124\n",
      "Submitted batch job 28409125\n",
      "Submitted batch job 28409126\n",
      "Submitted batch job 28409127\n"
     ]
    },
    {
     "name": "stderr",
     "output_type": "stream",
     "text": [
      "\u001b[32m2025-01-17 14:28:01.088\u001b[0m | \u001b[1mINFO    \u001b[0m | \u001b[36m__main__\u001b[0m:\u001b[36m<module>\u001b[0m:\u001b[36m47\u001b[0m - \u001b[1mSubmitted job 2-2-2/job.slurm\u001b[0m\n",
      "\u001b[32m2025-01-17 14:28:01.089\u001b[0m | \u001b[1mINFO    \u001b[0m | \u001b[36m__main__\u001b[0m:\u001b[36m<module>\u001b[0m:\u001b[36m18\u001b[0m - \u001b[1mNNODE: 2, NCORE: 2, KPAR: 4, NPAR: 8.0\u001b[0m\n",
      "\u001b[32m2025-01-17 14:28:01.089\u001b[0m | \u001b[1mINFO    \u001b[0m | \u001b[36m__main__\u001b[0m:\u001b[36m<module>\u001b[0m:\u001b[36m19\u001b[0m - \u001b[1mTotal ranks (NNODE x NCORE x KPAR): 16\u001b[0m\n",
      "\u001b[32m2025-01-17 14:28:01.093\u001b[0m | \u001b[1mINFO    \u001b[0m | \u001b[36m__main__\u001b[0m:\u001b[36mwrite_slurm_script\u001b[0m:\u001b[36m52\u001b[0m - \u001b[1mSLURM job script written to: 2-2-4/job.slurm\u001b[0m\n",
      "\u001b[32m2025-01-17 14:28:01.134\u001b[0m | \u001b[1mINFO    \u001b[0m | \u001b[36m__main__\u001b[0m:\u001b[36m<module>\u001b[0m:\u001b[36m47\u001b[0m - \u001b[1mSubmitted job 2-2-4/job.slurm\u001b[0m\n",
      "\u001b[32m2025-01-17 14:28:01.135\u001b[0m | \u001b[1mINFO    \u001b[0m | \u001b[36m__main__\u001b[0m:\u001b[36m<module>\u001b[0m:\u001b[36m18\u001b[0m - \u001b[1mNNODE: 2, NCORE: 2, KPAR: 8, NPAR: 4.0\u001b[0m\n",
      "\u001b[32m2025-01-17 14:28:01.136\u001b[0m | \u001b[1mINFO    \u001b[0m | \u001b[36m__main__\u001b[0m:\u001b[36m<module>\u001b[0m:\u001b[36m19\u001b[0m - \u001b[1mTotal ranks (NNODE x NCORE x KPAR): 32\u001b[0m\n",
      "\u001b[32m2025-01-17 14:28:01.139\u001b[0m | \u001b[1mINFO    \u001b[0m | \u001b[36m__main__\u001b[0m:\u001b[36mwrite_slurm_script\u001b[0m:\u001b[36m52\u001b[0m - \u001b[1mSLURM job script written to: 2-2-8/job.slurm\u001b[0m\n",
      "\u001b[32m2025-01-17 14:28:01.178\u001b[0m | \u001b[1mINFO    \u001b[0m | \u001b[36m__main__\u001b[0m:\u001b[36m<module>\u001b[0m:\u001b[36m47\u001b[0m - \u001b[1mSubmitted job 2-2-8/job.slurm\u001b[0m\n",
      "\u001b[32m2025-01-17 14:28:01.179\u001b[0m | \u001b[1mINFO    \u001b[0m | \u001b[36m__main__\u001b[0m:\u001b[36m<module>\u001b[0m:\u001b[36m18\u001b[0m - \u001b[1mNNODE: 2, NCORE: 2, KPAR: 16, NPAR: 2.0\u001b[0m\n",
      "\u001b[32m2025-01-17 14:28:01.180\u001b[0m | \u001b[1mINFO    \u001b[0m | \u001b[36m__main__\u001b[0m:\u001b[36m<module>\u001b[0m:\u001b[36m19\u001b[0m - \u001b[1mTotal ranks (NNODE x NCORE x KPAR): 64\u001b[0m\n",
      "\u001b[32m2025-01-17 14:28:01.183\u001b[0m | \u001b[1mINFO    \u001b[0m | \u001b[36m__main__\u001b[0m:\u001b[36mwrite_slurm_script\u001b[0m:\u001b[36m52\u001b[0m - \u001b[1mSLURM job script written to: 2-2-16/job.slurm\u001b[0m\n",
      "\u001b[32m2025-01-17 14:28:01.223\u001b[0m | \u001b[1mINFO    \u001b[0m | \u001b[36m__main__\u001b[0m:\u001b[36m<module>\u001b[0m:\u001b[36m47\u001b[0m - \u001b[1mSubmitted job 2-2-16/job.slurm\u001b[0m\n",
      "\u001b[32m2025-01-17 14:28:01.224\u001b[0m | \u001b[1mINFO    \u001b[0m | \u001b[36m__main__\u001b[0m:\u001b[36m<module>\u001b[0m:\u001b[36m18\u001b[0m - \u001b[1mNNODE: 2, NCORE: 4, KPAR: 1, NPAR: 16.0\u001b[0m\n",
      "\u001b[32m2025-01-17 14:28:01.225\u001b[0m | \u001b[1mINFO    \u001b[0m | \u001b[36m__main__\u001b[0m:\u001b[36m<module>\u001b[0m:\u001b[36m19\u001b[0m - \u001b[1mTotal ranks (NNODE x NCORE x KPAR): 8\u001b[0m\n",
      "\u001b[32m2025-01-17 14:28:01.228\u001b[0m | \u001b[1mINFO    \u001b[0m | \u001b[36m__main__\u001b[0m:\u001b[36mwrite_slurm_script\u001b[0m:\u001b[36m52\u001b[0m - \u001b[1mSLURM job script written to: 2-4-1/job.slurm\u001b[0m\n",
      "\u001b[32m2025-01-17 14:28:01.268\u001b[0m | \u001b[1mINFO    \u001b[0m | \u001b[36m__main__\u001b[0m:\u001b[36m<module>\u001b[0m:\u001b[36m47\u001b[0m - \u001b[1mSubmitted job 2-4-1/job.slurm\u001b[0m\n",
      "\u001b[32m2025-01-17 14:28:01.269\u001b[0m | \u001b[1mINFO    \u001b[0m | \u001b[36m__main__\u001b[0m:\u001b[36m<module>\u001b[0m:\u001b[36m18\u001b[0m - \u001b[1mNNODE: 2, NCORE: 4, KPAR: 2, NPAR: 8.0\u001b[0m\n",
      "\u001b[32m2025-01-17 14:28:01.270\u001b[0m | \u001b[1mINFO    \u001b[0m | \u001b[36m__main__\u001b[0m:\u001b[36m<module>\u001b[0m:\u001b[36m19\u001b[0m - \u001b[1mTotal ranks (NNODE x NCORE x KPAR): 16\u001b[0m\n",
      "\u001b[32m2025-01-17 14:28:01.273\u001b[0m | \u001b[1mINFO    \u001b[0m | \u001b[36m__main__\u001b[0m:\u001b[36mwrite_slurm_script\u001b[0m:\u001b[36m52\u001b[0m - \u001b[1mSLURM job script written to: 2-4-2/job.slurm\u001b[0m\n"
     ]
    },
    {
     "name": "stdout",
     "output_type": "stream",
     "text": [
      "Submitted batch job 28409128\n",
      "Submitted batch job 28409129\n",
      "Submitted batch job 28409130\n",
      "Submitted batch job 28409131\n",
      "Submitted batch job 28409132\n"
     ]
    },
    {
     "name": "stderr",
     "output_type": "stream",
     "text": [
      "\u001b[32m2025-01-17 14:28:01.322\u001b[0m | \u001b[1mINFO    \u001b[0m | \u001b[36m__main__\u001b[0m:\u001b[36m<module>\u001b[0m:\u001b[36m47\u001b[0m - \u001b[1mSubmitted job 2-4-2/job.slurm\u001b[0m\n",
      "\u001b[32m2025-01-17 14:28:01.323\u001b[0m | \u001b[1mINFO    \u001b[0m | \u001b[36m__main__\u001b[0m:\u001b[36m<module>\u001b[0m:\u001b[36m18\u001b[0m - \u001b[1mNNODE: 2, NCORE: 4, KPAR: 4, NPAR: 4.0\u001b[0m\n",
      "\u001b[32m2025-01-17 14:28:01.323\u001b[0m | \u001b[1mINFO    \u001b[0m | \u001b[36m__main__\u001b[0m:\u001b[36m<module>\u001b[0m:\u001b[36m19\u001b[0m - \u001b[1mTotal ranks (NNODE x NCORE x KPAR): 32\u001b[0m\n",
      "\u001b[32m2025-01-17 14:28:01.327\u001b[0m | \u001b[1mINFO    \u001b[0m | \u001b[36m__main__\u001b[0m:\u001b[36mwrite_slurm_script\u001b[0m:\u001b[36m52\u001b[0m - \u001b[1mSLURM job script written to: 2-4-4/job.slurm\u001b[0m\n",
      "\u001b[32m2025-01-17 14:28:01.371\u001b[0m | \u001b[1mINFO    \u001b[0m | \u001b[36m__main__\u001b[0m:\u001b[36m<module>\u001b[0m:\u001b[36m47\u001b[0m - \u001b[1mSubmitted job 2-4-4/job.slurm\u001b[0m\n",
      "\u001b[32m2025-01-17 14:28:01.372\u001b[0m | \u001b[1mINFO    \u001b[0m | \u001b[36m__main__\u001b[0m:\u001b[36m<module>\u001b[0m:\u001b[36m18\u001b[0m - \u001b[1mNNODE: 2, NCORE: 4, KPAR: 8, NPAR: 2.0\u001b[0m\n",
      "\u001b[32m2025-01-17 14:28:01.372\u001b[0m | \u001b[1mINFO    \u001b[0m | \u001b[36m__main__\u001b[0m:\u001b[36m<module>\u001b[0m:\u001b[36m19\u001b[0m - \u001b[1mTotal ranks (NNODE x NCORE x KPAR): 64\u001b[0m\n",
      "\u001b[32m2025-01-17 14:28:01.376\u001b[0m | \u001b[1mINFO    \u001b[0m | \u001b[36m__main__\u001b[0m:\u001b[36mwrite_slurm_script\u001b[0m:\u001b[36m52\u001b[0m - \u001b[1mSLURM job script written to: 2-4-8/job.slurm\u001b[0m\n",
      "\u001b[32m2025-01-17 14:28:01.422\u001b[0m | \u001b[1mINFO    \u001b[0m | \u001b[36m__main__\u001b[0m:\u001b[36m<module>\u001b[0m:\u001b[36m47\u001b[0m - \u001b[1mSubmitted job 2-4-8/job.slurm\u001b[0m\n",
      "\u001b[32m2025-01-17 14:28:01.423\u001b[0m | \u001b[1mINFO    \u001b[0m | \u001b[36m__main__\u001b[0m:\u001b[36m<module>\u001b[0m:\u001b[36m18\u001b[0m - \u001b[1mNNODE: 2, NCORE: 4, KPAR: 16, NPAR: 1.0\u001b[0m\n",
      "\u001b[32m2025-01-17 14:28:01.423\u001b[0m | \u001b[1mINFO    \u001b[0m | \u001b[36m__main__\u001b[0m:\u001b[36m<module>\u001b[0m:\u001b[36m19\u001b[0m - \u001b[1mTotal ranks (NNODE x NCORE x KPAR): 128\u001b[0m\n",
      "\u001b[32m2025-01-17 14:28:01.427\u001b[0m | \u001b[1mINFO    \u001b[0m | \u001b[36m__main__\u001b[0m:\u001b[36mwrite_slurm_script\u001b[0m:\u001b[36m52\u001b[0m - \u001b[1mSLURM job script written to: 2-4-16/job.slurm\u001b[0m\n",
      "\u001b[32m2025-01-17 14:28:01.462\u001b[0m | \u001b[1mINFO    \u001b[0m | \u001b[36m__main__\u001b[0m:\u001b[36m<module>\u001b[0m:\u001b[36m47\u001b[0m - \u001b[1mSubmitted job 2-4-16/job.slurm\u001b[0m\n",
      "\u001b[32m2025-01-17 14:28:01.463\u001b[0m | \u001b[1mINFO    \u001b[0m | \u001b[36m__main__\u001b[0m:\u001b[36m<module>\u001b[0m:\u001b[36m18\u001b[0m - \u001b[1mNNODE: 2, NCORE: 8, KPAR: 1, NPAR: 8.0\u001b[0m\n",
      "\u001b[32m2025-01-17 14:28:01.463\u001b[0m | \u001b[1mINFO    \u001b[0m | \u001b[36m__main__\u001b[0m:\u001b[36m<module>\u001b[0m:\u001b[36m19\u001b[0m - \u001b[1mTotal ranks (NNODE x NCORE x KPAR): 16\u001b[0m\n",
      "\u001b[32m2025-01-17 14:28:01.467\u001b[0m | \u001b[1mINFO    \u001b[0m | \u001b[36m__main__\u001b[0m:\u001b[36mwrite_slurm_script\u001b[0m:\u001b[36m52\u001b[0m - \u001b[1mSLURM job script written to: 2-8-1/job.slurm\u001b[0m\n",
      "\u001b[32m2025-01-17 14:28:01.510\u001b[0m | \u001b[1mINFO    \u001b[0m | \u001b[36m__main__\u001b[0m:\u001b[36m<module>\u001b[0m:\u001b[36m47\u001b[0m - \u001b[1mSubmitted job 2-8-1/job.slurm\u001b[0m\n",
      "\u001b[32m2025-01-17 14:28:01.511\u001b[0m | \u001b[1mINFO    \u001b[0m | \u001b[36m__main__\u001b[0m:\u001b[36m<module>\u001b[0m:\u001b[36m18\u001b[0m - \u001b[1mNNODE: 2, NCORE: 8, KPAR: 2, NPAR: 4.0\u001b[0m\n",
      "\u001b[32m2025-01-17 14:28:01.512\u001b[0m | \u001b[1mINFO    \u001b[0m | \u001b[36m__main__\u001b[0m:\u001b[36m<module>\u001b[0m:\u001b[36m19\u001b[0m - \u001b[1mTotal ranks (NNODE x NCORE x KPAR): 32\u001b[0m\n",
      "\u001b[32m2025-01-17 14:28:01.515\u001b[0m | \u001b[1mINFO    \u001b[0m | \u001b[36m__main__\u001b[0m:\u001b[36mwrite_slurm_script\u001b[0m:\u001b[36m52\u001b[0m - \u001b[1mSLURM job script written to: 2-8-2/job.slurm\u001b[0m\n"
     ]
    },
    {
     "name": "stdout",
     "output_type": "stream",
     "text": [
      "Submitted batch job 28409133\n",
      "Submitted batch job 28409134\n",
      "Submitted batch job 28409135\n",
      "Submitted batch job 28409136\n",
      "Submitted batch job 28409137\n"
     ]
    },
    {
     "name": "stderr",
     "output_type": "stream",
     "text": [
      "\u001b[32m2025-01-17 14:28:01.545\u001b[0m | \u001b[1mINFO    \u001b[0m | \u001b[36m__main__\u001b[0m:\u001b[36m<module>\u001b[0m:\u001b[36m47\u001b[0m - \u001b[1mSubmitted job 2-8-2/job.slurm\u001b[0m\n",
      "\u001b[32m2025-01-17 14:28:01.546\u001b[0m | \u001b[1mINFO    \u001b[0m | \u001b[36m__main__\u001b[0m:\u001b[36m<module>\u001b[0m:\u001b[36m18\u001b[0m - \u001b[1mNNODE: 2, NCORE: 8, KPAR: 4, NPAR: 2.0\u001b[0m\n",
      "\u001b[32m2025-01-17 14:28:01.546\u001b[0m | \u001b[1mINFO    \u001b[0m | \u001b[36m__main__\u001b[0m:\u001b[36m<module>\u001b[0m:\u001b[36m19\u001b[0m - \u001b[1mTotal ranks (NNODE x NCORE x KPAR): 64\u001b[0m\n",
      "\u001b[32m2025-01-17 14:28:01.549\u001b[0m | \u001b[1mINFO    \u001b[0m | \u001b[36m__main__\u001b[0m:\u001b[36mwrite_slurm_script\u001b[0m:\u001b[36m52\u001b[0m - \u001b[1mSLURM job script written to: 2-8-4/job.slurm\u001b[0m\n",
      "\u001b[32m2025-01-17 14:28:01.579\u001b[0m | \u001b[1mINFO    \u001b[0m | \u001b[36m__main__\u001b[0m:\u001b[36m<module>\u001b[0m:\u001b[36m47\u001b[0m - \u001b[1mSubmitted job 2-8-4/job.slurm\u001b[0m\n",
      "\u001b[32m2025-01-17 14:28:01.580\u001b[0m | \u001b[1mINFO    \u001b[0m | \u001b[36m__main__\u001b[0m:\u001b[36m<module>\u001b[0m:\u001b[36m18\u001b[0m - \u001b[1mNNODE: 2, NCORE: 8, KPAR: 8, NPAR: 1.0\u001b[0m\n",
      "\u001b[32m2025-01-17 14:28:01.580\u001b[0m | \u001b[1mINFO    \u001b[0m | \u001b[36m__main__\u001b[0m:\u001b[36m<module>\u001b[0m:\u001b[36m19\u001b[0m - \u001b[1mTotal ranks (NNODE x NCORE x KPAR): 128\u001b[0m\n"
     ]
    },
    {
     "name": "stdout",
     "output_type": "stream",
     "text": [
      "Submitted batch job 28409138\n",
      "Submitted batch job 28409139\n"
     ]
    },
    {
     "name": "stderr",
     "output_type": "stream",
     "text": [
      "\u001b[32m2025-01-17 14:28:01.975\u001b[0m | \u001b[1mINFO    \u001b[0m | \u001b[36m__main__\u001b[0m:\u001b[36mwrite_slurm_script\u001b[0m:\u001b[36m52\u001b[0m - \u001b[1mSLURM job script written to: 2-8-8/job.slurm\u001b[0m\n",
      "\u001b[32m2025-01-17 14:28:02.124\u001b[0m | \u001b[1mINFO    \u001b[0m | \u001b[36m__main__\u001b[0m:\u001b[36m<module>\u001b[0m:\u001b[36m47\u001b[0m - \u001b[1mSubmitted job 2-8-8/job.slurm\u001b[0m\n",
      "\u001b[32m2025-01-17 14:28:02.124\u001b[0m | \u001b[1mINFO    \u001b[0m | \u001b[36m__main__\u001b[0m:\u001b[36m<module>\u001b[0m:\u001b[36m18\u001b[0m - \u001b[1mNNODE: 2, NCORE: 16, KPAR: 1, NPAR: 4.0\u001b[0m\n",
      "\u001b[32m2025-01-17 14:28:02.125\u001b[0m | \u001b[1mINFO    \u001b[0m | \u001b[36m__main__\u001b[0m:\u001b[36m<module>\u001b[0m:\u001b[36m19\u001b[0m - \u001b[1mTotal ranks (NNODE x NCORE x KPAR): 32\u001b[0m\n",
      "\u001b[32m2025-01-17 14:28:02.128\u001b[0m | \u001b[1mINFO    \u001b[0m | \u001b[36m__main__\u001b[0m:\u001b[36mwrite_slurm_script\u001b[0m:\u001b[36m52\u001b[0m - \u001b[1mSLURM job script written to: 2-16-1/job.slurm\u001b[0m\n",
      "\u001b[32m2025-01-17 14:28:02.192\u001b[0m | \u001b[1mINFO    \u001b[0m | \u001b[36m__main__\u001b[0m:\u001b[36m<module>\u001b[0m:\u001b[36m47\u001b[0m - \u001b[1mSubmitted job 2-16-1/job.slurm\u001b[0m\n",
      "\u001b[32m2025-01-17 14:28:02.193\u001b[0m | \u001b[1mINFO    \u001b[0m | \u001b[36m__main__\u001b[0m:\u001b[36m<module>\u001b[0m:\u001b[36m18\u001b[0m - \u001b[1mNNODE: 2, NCORE: 16, KPAR: 2, NPAR: 2.0\u001b[0m\n",
      "\u001b[32m2025-01-17 14:28:02.193\u001b[0m | \u001b[1mINFO    \u001b[0m | \u001b[36m__main__\u001b[0m:\u001b[36m<module>\u001b[0m:\u001b[36m19\u001b[0m - \u001b[1mTotal ranks (NNODE x NCORE x KPAR): 64\u001b[0m\n",
      "\u001b[32m2025-01-17 14:28:02.219\u001b[0m | \u001b[1mINFO    \u001b[0m | \u001b[36m__main__\u001b[0m:\u001b[36mwrite_slurm_script\u001b[0m:\u001b[36m52\u001b[0m - \u001b[1mSLURM job script written to: 2-16-2/job.slurm\u001b[0m\n",
      "\u001b[32m2025-01-17 14:28:02.267\u001b[0m | \u001b[1mINFO    \u001b[0m | \u001b[36m__main__\u001b[0m:\u001b[36m<module>\u001b[0m:\u001b[36m47\u001b[0m - \u001b[1mSubmitted job 2-16-2/job.slurm\u001b[0m\n",
      "\u001b[32m2025-01-17 14:28:02.268\u001b[0m | \u001b[1mINFO    \u001b[0m | \u001b[36m__main__\u001b[0m:\u001b[36m<module>\u001b[0m:\u001b[36m18\u001b[0m - \u001b[1mNNODE: 2, NCORE: 16, KPAR: 4, NPAR: 1.0\u001b[0m\n",
      "\u001b[32m2025-01-17 14:28:02.268\u001b[0m | \u001b[1mINFO    \u001b[0m | \u001b[36m__main__\u001b[0m:\u001b[36m<module>\u001b[0m:\u001b[36m19\u001b[0m - \u001b[1mTotal ranks (NNODE x NCORE x KPAR): 128\u001b[0m\n",
      "\u001b[32m2025-01-17 14:28:02.272\u001b[0m | \u001b[1mINFO    \u001b[0m | \u001b[36m__main__\u001b[0m:\u001b[36mwrite_slurm_script\u001b[0m:\u001b[36m52\u001b[0m - \u001b[1mSLURM job script written to: 2-16-4/job.slurm\u001b[0m\n",
      "\u001b[32m2025-01-17 14:28:02.311\u001b[0m | \u001b[1mINFO    \u001b[0m | \u001b[36m__main__\u001b[0m:\u001b[36m<module>\u001b[0m:\u001b[36m47\u001b[0m - \u001b[1mSubmitted job 2-16-4/job.slurm\u001b[0m\n",
      "\u001b[32m2025-01-17 14:28:02.312\u001b[0m | \u001b[1mINFO    \u001b[0m | \u001b[36m__main__\u001b[0m:\u001b[36m<module>\u001b[0m:\u001b[36m18\u001b[0m - \u001b[1mNNODE: 2, NCORE: 32, KPAR: 1, NPAR: 2.0\u001b[0m\n",
      "\u001b[32m2025-01-17 14:28:02.312\u001b[0m | \u001b[1mINFO    \u001b[0m | \u001b[36m__main__\u001b[0m:\u001b[36m<module>\u001b[0m:\u001b[36m19\u001b[0m - \u001b[1mTotal ranks (NNODE x NCORE x KPAR): 64\u001b[0m\n",
      "\u001b[32m2025-01-17 14:28:02.316\u001b[0m | \u001b[1mINFO    \u001b[0m | \u001b[36m__main__\u001b[0m:\u001b[36mwrite_slurm_script\u001b[0m:\u001b[36m52\u001b[0m - \u001b[1mSLURM job script written to: 2-32-1/job.slurm\u001b[0m\n"
     ]
    },
    {
     "name": "stdout",
     "output_type": "stream",
     "text": [
      "Submitted batch job 28409140\n",
      "Submitted batch job 28409141\n",
      "Submitted batch job 28409142\n",
      "Submitted batch job 28409143\n"
     ]
    },
    {
     "name": "stderr",
     "output_type": "stream",
     "text": [
      "\u001b[32m2025-01-17 14:28:02.359\u001b[0m | \u001b[1mINFO    \u001b[0m | \u001b[36m__main__\u001b[0m:\u001b[36m<module>\u001b[0m:\u001b[36m47\u001b[0m - \u001b[1mSubmitted job 2-32-1/job.slurm\u001b[0m\n",
      "\u001b[32m2025-01-17 14:28:02.360\u001b[0m | \u001b[1mINFO    \u001b[0m | \u001b[36m__main__\u001b[0m:\u001b[36m<module>\u001b[0m:\u001b[36m18\u001b[0m - \u001b[1mNNODE: 2, NCORE: 32, KPAR: 2, NPAR: 1.0\u001b[0m\n",
      "\u001b[32m2025-01-17 14:28:02.360\u001b[0m | \u001b[1mINFO    \u001b[0m | \u001b[36m__main__\u001b[0m:\u001b[36m<module>\u001b[0m:\u001b[36m19\u001b[0m - \u001b[1mTotal ranks (NNODE x NCORE x KPAR): 128\u001b[0m\n",
      "\u001b[32m2025-01-17 14:28:02.364\u001b[0m | \u001b[1mINFO    \u001b[0m | \u001b[36m__main__\u001b[0m:\u001b[36mwrite_slurm_script\u001b[0m:\u001b[36m52\u001b[0m - \u001b[1mSLURM job script written to: 2-32-2/job.slurm\u001b[0m\n",
      "\u001b[32m2025-01-17 14:28:02.394\u001b[0m | \u001b[1mINFO    \u001b[0m | \u001b[36m__main__\u001b[0m:\u001b[36m<module>\u001b[0m:\u001b[36m47\u001b[0m - \u001b[1mSubmitted job 2-32-2/job.slurm\u001b[0m\n",
      "\u001b[32m2025-01-17 14:28:02.394\u001b[0m | \u001b[1mINFO    \u001b[0m | \u001b[36m__main__\u001b[0m:\u001b[36m<module>\u001b[0m:\u001b[36m18\u001b[0m - \u001b[1mNNODE: 2, NCORE: 64, KPAR: 1, NPAR: 1.0\u001b[0m\n",
      "\u001b[32m2025-01-17 14:28:02.395\u001b[0m | \u001b[1mINFO    \u001b[0m | \u001b[36m__main__\u001b[0m:\u001b[36m<module>\u001b[0m:\u001b[36m19\u001b[0m - \u001b[1mTotal ranks (NNODE x NCORE x KPAR): 128\u001b[0m\n",
      "\u001b[32m2025-01-17 14:28:02.398\u001b[0m | \u001b[1mINFO    \u001b[0m | \u001b[36m__main__\u001b[0m:\u001b[36mwrite_slurm_script\u001b[0m:\u001b[36m52\u001b[0m - \u001b[1mSLURM job script written to: 2-64-1/job.slurm\u001b[0m\n",
      "\u001b[32m2025-01-17 14:28:02.427\u001b[0m | \u001b[1mINFO    \u001b[0m | \u001b[36m__main__\u001b[0m:\u001b[36m<module>\u001b[0m:\u001b[36m47\u001b[0m - \u001b[1mSubmitted job 2-64-1/job.slurm\u001b[0m\n",
      "\u001b[32m2025-01-17 14:28:02.428\u001b[0m | \u001b[1mINFO    \u001b[0m | \u001b[36m__main__\u001b[0m:\u001b[36m<module>\u001b[0m:\u001b[36m18\u001b[0m - \u001b[1mNNODE: 4, NCORE: 1, KPAR: 1, NPAR: 64.0\u001b[0m\n",
      "\u001b[32m2025-01-17 14:28:02.428\u001b[0m | \u001b[1mINFO    \u001b[0m | \u001b[36m__main__\u001b[0m:\u001b[36m<module>\u001b[0m:\u001b[36m19\u001b[0m - \u001b[1mTotal ranks (NNODE x NCORE x KPAR): 4\u001b[0m\n",
      "\u001b[32m2025-01-17 14:28:02.432\u001b[0m | \u001b[1mINFO    \u001b[0m | \u001b[36m__main__\u001b[0m:\u001b[36mwrite_slurm_script\u001b[0m:\u001b[36m52\u001b[0m - \u001b[1mSLURM job script written to: 4-1-1/job.slurm\u001b[0m\n",
      "\u001b[32m2025-01-17 14:28:02.460\u001b[0m | \u001b[1mINFO    \u001b[0m | \u001b[36m__main__\u001b[0m:\u001b[36m<module>\u001b[0m:\u001b[36m47\u001b[0m - \u001b[1mSubmitted job 4-1-1/job.slurm\u001b[0m\n",
      "\u001b[32m2025-01-17 14:28:02.461\u001b[0m | \u001b[1mINFO    \u001b[0m | \u001b[36m__main__\u001b[0m:\u001b[36m<module>\u001b[0m:\u001b[36m18\u001b[0m - \u001b[1mNNODE: 4, NCORE: 1, KPAR: 2, NPAR: 32.0\u001b[0m\n",
      "\u001b[32m2025-01-17 14:28:02.461\u001b[0m | \u001b[1mINFO    \u001b[0m | \u001b[36m__main__\u001b[0m:\u001b[36m<module>\u001b[0m:\u001b[36m19\u001b[0m - \u001b[1mTotal ranks (NNODE x NCORE x KPAR): 8\u001b[0m\n",
      "\u001b[32m2025-01-17 14:28:02.465\u001b[0m | \u001b[1mINFO    \u001b[0m | \u001b[36m__main__\u001b[0m:\u001b[36mwrite_slurm_script\u001b[0m:\u001b[36m52\u001b[0m - \u001b[1mSLURM job script written to: 4-1-2/job.slurm\u001b[0m\n",
      "\u001b[32m2025-01-17 14:28:02.501\u001b[0m | \u001b[1mINFO    \u001b[0m | \u001b[36m__main__\u001b[0m:\u001b[36m<module>\u001b[0m:\u001b[36m47\u001b[0m - \u001b[1mSubmitted job 4-1-2/job.slurm\u001b[0m\n",
      "\u001b[32m2025-01-17 14:28:02.501\u001b[0m | \u001b[1mINFO    \u001b[0m | \u001b[36m__main__\u001b[0m:\u001b[36m<module>\u001b[0m:\u001b[36m18\u001b[0m - \u001b[1mNNODE: 4, NCORE: 1, KPAR: 4, NPAR: 16.0\u001b[0m\n",
      "\u001b[32m2025-01-17 14:28:02.502\u001b[0m | \u001b[1mINFO    \u001b[0m | \u001b[36m__main__\u001b[0m:\u001b[36m<module>\u001b[0m:\u001b[36m19\u001b[0m - \u001b[1mTotal ranks (NNODE x NCORE x KPAR): 16\u001b[0m\n",
      "\u001b[32m2025-01-17 14:28:02.505\u001b[0m | \u001b[1mINFO    \u001b[0m | \u001b[36m__main__\u001b[0m:\u001b[36mwrite_slurm_script\u001b[0m:\u001b[36m52\u001b[0m - \u001b[1mSLURM job script written to: 4-1-4/job.slurm\u001b[0m\n",
      "\u001b[32m2025-01-17 14:28:02.543\u001b[0m | \u001b[1mINFO    \u001b[0m | \u001b[36m__main__\u001b[0m:\u001b[36m<module>\u001b[0m:\u001b[36m47\u001b[0m - \u001b[1mSubmitted job 4-1-4/job.slurm\u001b[0m\n",
      "\u001b[32m2025-01-17 14:28:02.544\u001b[0m | \u001b[1mINFO    \u001b[0m | \u001b[36m__main__\u001b[0m:\u001b[36m<module>\u001b[0m:\u001b[36m18\u001b[0m - \u001b[1mNNODE: 4, NCORE: 1, KPAR: 8, NPAR: 8.0\u001b[0m\n",
      "\u001b[32m2025-01-17 14:28:02.544\u001b[0m | \u001b[1mINFO    \u001b[0m | \u001b[36m__main__\u001b[0m:\u001b[36m<module>\u001b[0m:\u001b[36m19\u001b[0m - \u001b[1mTotal ranks (NNODE x NCORE x KPAR): 32\u001b[0m\n",
      "\u001b[32m2025-01-17 14:28:02.548\u001b[0m | \u001b[1mINFO    \u001b[0m | \u001b[36m__main__\u001b[0m:\u001b[36mwrite_slurm_script\u001b[0m:\u001b[36m52\u001b[0m - \u001b[1mSLURM job script written to: 4-1-8/job.slurm\u001b[0m\n"
     ]
    },
    {
     "name": "stdout",
     "output_type": "stream",
     "text": [
      "Submitted batch job 28409144\n",
      "Submitted batch job 28409145\n",
      "Submitted batch job 28409146\n",
      "Submitted batch job 28409147\n",
      "Submitted batch job 28409148\n",
      "Submitted batch job 28409149\n"
     ]
    },
    {
     "name": "stderr",
     "output_type": "stream",
     "text": [
      "\u001b[32m2025-01-17 14:28:02.598\u001b[0m | \u001b[1mINFO    \u001b[0m | \u001b[36m__main__\u001b[0m:\u001b[36m<module>\u001b[0m:\u001b[36m47\u001b[0m - \u001b[1mSubmitted job 4-1-8/job.slurm\u001b[0m\n",
      "\u001b[32m2025-01-17 14:28:02.598\u001b[0m | \u001b[1mINFO    \u001b[0m | \u001b[36m__main__\u001b[0m:\u001b[36m<module>\u001b[0m:\u001b[36m18\u001b[0m - \u001b[1mNNODE: 4, NCORE: 1, KPAR: 16, NPAR: 4.0\u001b[0m\n",
      "\u001b[32m2025-01-17 14:28:02.599\u001b[0m | \u001b[1mINFO    \u001b[0m | \u001b[36m__main__\u001b[0m:\u001b[36m<module>\u001b[0m:\u001b[36m19\u001b[0m - \u001b[1mTotal ranks (NNODE x NCORE x KPAR): 64\u001b[0m\n",
      "\u001b[32m2025-01-17 14:28:02.603\u001b[0m | \u001b[1mINFO    \u001b[0m | \u001b[36m__main__\u001b[0m:\u001b[36mwrite_slurm_script\u001b[0m:\u001b[36m52\u001b[0m - \u001b[1mSLURM job script written to: 4-1-16/job.slurm\u001b[0m\n",
      "\u001b[32m2025-01-17 14:28:02.647\u001b[0m | \u001b[1mINFO    \u001b[0m | \u001b[36m__main__\u001b[0m:\u001b[36m<module>\u001b[0m:\u001b[36m47\u001b[0m - \u001b[1mSubmitted job 4-1-16/job.slurm\u001b[0m\n",
      "\u001b[32m2025-01-17 14:28:02.648\u001b[0m | \u001b[1mINFO    \u001b[0m | \u001b[36m__main__\u001b[0m:\u001b[36m<module>\u001b[0m:\u001b[36m18\u001b[0m - \u001b[1mNNODE: 4, NCORE: 2, KPAR: 1, NPAR: 32.0\u001b[0m\n",
      "\u001b[32m2025-01-17 14:28:02.648\u001b[0m | \u001b[1mINFO    \u001b[0m | \u001b[36m__main__\u001b[0m:\u001b[36m<module>\u001b[0m:\u001b[36m19\u001b[0m - \u001b[1mTotal ranks (NNODE x NCORE x KPAR): 8\u001b[0m\n",
      "\u001b[32m2025-01-17 14:28:02.652\u001b[0m | \u001b[1mINFO    \u001b[0m | \u001b[36m__main__\u001b[0m:\u001b[36mwrite_slurm_script\u001b[0m:\u001b[36m52\u001b[0m - \u001b[1mSLURM job script written to: 4-2-1/job.slurm\u001b[0m\n",
      "\u001b[32m2025-01-17 14:28:02.680\u001b[0m | \u001b[1mINFO    \u001b[0m | \u001b[36m__main__\u001b[0m:\u001b[36m<module>\u001b[0m:\u001b[36m47\u001b[0m - \u001b[1mSubmitted job 4-2-1/job.slurm\u001b[0m\n",
      "\u001b[32m2025-01-17 14:28:02.681\u001b[0m | \u001b[1mINFO    \u001b[0m | \u001b[36m__main__\u001b[0m:\u001b[36m<module>\u001b[0m:\u001b[36m18\u001b[0m - \u001b[1mNNODE: 4, NCORE: 2, KPAR: 2, NPAR: 16.0\u001b[0m\n",
      "\u001b[32m2025-01-17 14:28:02.681\u001b[0m | \u001b[1mINFO    \u001b[0m | \u001b[36m__main__\u001b[0m:\u001b[36m<module>\u001b[0m:\u001b[36m19\u001b[0m - \u001b[1mTotal ranks (NNODE x NCORE x KPAR): 16\u001b[0m\n",
      "\u001b[32m2025-01-17 14:28:02.685\u001b[0m | \u001b[1mINFO    \u001b[0m | \u001b[36m__main__\u001b[0m:\u001b[36mwrite_slurm_script\u001b[0m:\u001b[36m52\u001b[0m - \u001b[1mSLURM job script written to: 4-2-2/job.slurm\u001b[0m\n",
      "\u001b[32m2025-01-17 14:28:02.714\u001b[0m | \u001b[1mINFO    \u001b[0m | \u001b[36m__main__\u001b[0m:\u001b[36m<module>\u001b[0m:\u001b[36m47\u001b[0m - \u001b[1mSubmitted job 4-2-2/job.slurm\u001b[0m\n",
      "\u001b[32m2025-01-17 14:28:02.714\u001b[0m | \u001b[1mINFO    \u001b[0m | \u001b[36m__main__\u001b[0m:\u001b[36m<module>\u001b[0m:\u001b[36m18\u001b[0m - \u001b[1mNNODE: 4, NCORE: 2, KPAR: 4, NPAR: 8.0\u001b[0m\n",
      "\u001b[32m2025-01-17 14:28:02.715\u001b[0m | \u001b[1mINFO    \u001b[0m | \u001b[36m__main__\u001b[0m:\u001b[36m<module>\u001b[0m:\u001b[36m19\u001b[0m - \u001b[1mTotal ranks (NNODE x NCORE x KPAR): 32\u001b[0m\n",
      "\u001b[32m2025-01-17 14:28:02.718\u001b[0m | \u001b[1mINFO    \u001b[0m | \u001b[36m__main__\u001b[0m:\u001b[36mwrite_slurm_script\u001b[0m:\u001b[36m52\u001b[0m - \u001b[1mSLURM job script written to: 4-2-4/job.slurm\u001b[0m\n",
      "\u001b[32m2025-01-17 14:28:02.747\u001b[0m | \u001b[1mINFO    \u001b[0m | \u001b[36m__main__\u001b[0m:\u001b[36m<module>\u001b[0m:\u001b[36m47\u001b[0m - \u001b[1mSubmitted job 4-2-4/job.slurm\u001b[0m\n",
      "\u001b[32m2025-01-17 14:28:02.748\u001b[0m | \u001b[1mINFO    \u001b[0m | \u001b[36m__main__\u001b[0m:\u001b[36m<module>\u001b[0m:\u001b[36m18\u001b[0m - \u001b[1mNNODE: 4, NCORE: 2, KPAR: 8, NPAR: 4.0\u001b[0m\n",
      "\u001b[32m2025-01-17 14:28:02.748\u001b[0m | \u001b[1mINFO    \u001b[0m | \u001b[36m__main__\u001b[0m:\u001b[36m<module>\u001b[0m:\u001b[36m19\u001b[0m - \u001b[1mTotal ranks (NNODE x NCORE x KPAR): 64\u001b[0m\n",
      "\u001b[32m2025-01-17 14:28:02.751\u001b[0m | \u001b[1mINFO    \u001b[0m | \u001b[36m__main__\u001b[0m:\u001b[36mwrite_slurm_script\u001b[0m:\u001b[36m52\u001b[0m - \u001b[1mSLURM job script written to: 4-2-8/job.slurm\u001b[0m\n",
      "\u001b[32m2025-01-17 14:28:02.787\u001b[0m | \u001b[1mINFO    \u001b[0m | \u001b[36m__main__\u001b[0m:\u001b[36m<module>\u001b[0m:\u001b[36m47\u001b[0m - \u001b[1mSubmitted job 4-2-8/job.slurm\u001b[0m\n",
      "\u001b[32m2025-01-17 14:28:02.788\u001b[0m | \u001b[1mINFO    \u001b[0m | \u001b[36m__main__\u001b[0m:\u001b[36m<module>\u001b[0m:\u001b[36m18\u001b[0m - \u001b[1mNNODE: 4, NCORE: 2, KPAR: 16, NPAR: 2.0\u001b[0m\n",
      "\u001b[32m2025-01-17 14:28:02.788\u001b[0m | \u001b[1mINFO    \u001b[0m | \u001b[36m__main__\u001b[0m:\u001b[36m<module>\u001b[0m:\u001b[36m19\u001b[0m - \u001b[1mTotal ranks (NNODE x NCORE x KPAR): 128\u001b[0m\n",
      "\u001b[32m2025-01-17 14:28:02.792\u001b[0m | \u001b[1mINFO    \u001b[0m | \u001b[36m__main__\u001b[0m:\u001b[36mwrite_slurm_script\u001b[0m:\u001b[36m52\u001b[0m - \u001b[1mSLURM job script written to: 4-2-16/job.slurm\u001b[0m\n"
     ]
    },
    {
     "name": "stdout",
     "output_type": "stream",
     "text": [
      "Submitted batch job 28409150\n",
      "Submitted batch job 28409151\n",
      "Submitted batch job 28409152\n",
      "Submitted batch job 28409153\n",
      "Submitted batch job 28409154\n",
      "Submitted batch job 28409155\n"
     ]
    },
    {
     "name": "stderr",
     "output_type": "stream",
     "text": [
      "\u001b[32m2025-01-17 14:28:02.834\u001b[0m | \u001b[1mINFO    \u001b[0m | \u001b[36m__main__\u001b[0m:\u001b[36m<module>\u001b[0m:\u001b[36m47\u001b[0m - \u001b[1mSubmitted job 4-2-16/job.slurm\u001b[0m\n",
      "\u001b[32m2025-01-17 14:28:02.835\u001b[0m | \u001b[1mINFO    \u001b[0m | \u001b[36m__main__\u001b[0m:\u001b[36m<module>\u001b[0m:\u001b[36m18\u001b[0m - \u001b[1mNNODE: 4, NCORE: 4, KPAR: 1, NPAR: 16.0\u001b[0m\n",
      "\u001b[32m2025-01-17 14:28:02.835\u001b[0m | \u001b[1mINFO    \u001b[0m | \u001b[36m__main__\u001b[0m:\u001b[36m<module>\u001b[0m:\u001b[36m19\u001b[0m - \u001b[1mTotal ranks (NNODE x NCORE x KPAR): 16\u001b[0m\n",
      "\u001b[32m2025-01-17 14:28:02.839\u001b[0m | \u001b[1mINFO    \u001b[0m | \u001b[36m__main__\u001b[0m:\u001b[36mwrite_slurm_script\u001b[0m:\u001b[36m52\u001b[0m - \u001b[1mSLURM job script written to: 4-4-1/job.slurm\u001b[0m\n",
      "\u001b[32m2025-01-17 14:28:02.881\u001b[0m | \u001b[1mINFO    \u001b[0m | \u001b[36m__main__\u001b[0m:\u001b[36m<module>\u001b[0m:\u001b[36m47\u001b[0m - \u001b[1mSubmitted job 4-4-1/job.slurm\u001b[0m\n",
      "\u001b[32m2025-01-17 14:28:02.882\u001b[0m | \u001b[1mINFO    \u001b[0m | \u001b[36m__main__\u001b[0m:\u001b[36m<module>\u001b[0m:\u001b[36m18\u001b[0m - \u001b[1mNNODE: 4, NCORE: 4, KPAR: 2, NPAR: 8.0\u001b[0m\n",
      "\u001b[32m2025-01-17 14:28:02.882\u001b[0m | \u001b[1mINFO    \u001b[0m | \u001b[36m__main__\u001b[0m:\u001b[36m<module>\u001b[0m:\u001b[36m19\u001b[0m - \u001b[1mTotal ranks (NNODE x NCORE x KPAR): 32\u001b[0m\n",
      "\u001b[32m2025-01-17 14:28:02.886\u001b[0m | \u001b[1mINFO    \u001b[0m | \u001b[36m__main__\u001b[0m:\u001b[36mwrite_slurm_script\u001b[0m:\u001b[36m52\u001b[0m - \u001b[1mSLURM job script written to: 4-4-2/job.slurm\u001b[0m\n",
      "\u001b[32m2025-01-17 14:28:02.927\u001b[0m | \u001b[1mINFO    \u001b[0m | \u001b[36m__main__\u001b[0m:\u001b[36m<module>\u001b[0m:\u001b[36m47\u001b[0m - \u001b[1mSubmitted job 4-4-2/job.slurm\u001b[0m\n",
      "\u001b[32m2025-01-17 14:28:02.928\u001b[0m | \u001b[1mINFO    \u001b[0m | \u001b[36m__main__\u001b[0m:\u001b[36m<module>\u001b[0m:\u001b[36m18\u001b[0m - \u001b[1mNNODE: 4, NCORE: 4, KPAR: 4, NPAR: 4.0\u001b[0m\n",
      "\u001b[32m2025-01-17 14:28:02.928\u001b[0m | \u001b[1mINFO    \u001b[0m | \u001b[36m__main__\u001b[0m:\u001b[36m<module>\u001b[0m:\u001b[36m19\u001b[0m - \u001b[1mTotal ranks (NNODE x NCORE x KPAR): 64\u001b[0m\n",
      "\u001b[32m2025-01-17 14:28:02.932\u001b[0m | \u001b[1mINFO    \u001b[0m | \u001b[36m__main__\u001b[0m:\u001b[36mwrite_slurm_script\u001b[0m:\u001b[36m52\u001b[0m - \u001b[1mSLURM job script written to: 4-4-4/job.slurm\u001b[0m\n",
      "\u001b[32m2025-01-17 14:28:02.976\u001b[0m | \u001b[1mINFO    \u001b[0m | \u001b[36m__main__\u001b[0m:\u001b[36m<module>\u001b[0m:\u001b[36m47\u001b[0m - \u001b[1mSubmitted job 4-4-4/job.slurm\u001b[0m\n",
      "\u001b[32m2025-01-17 14:28:02.977\u001b[0m | \u001b[1mINFO    \u001b[0m | \u001b[36m__main__\u001b[0m:\u001b[36m<module>\u001b[0m:\u001b[36m18\u001b[0m - \u001b[1mNNODE: 4, NCORE: 4, KPAR: 8, NPAR: 2.0\u001b[0m\n",
      "\u001b[32m2025-01-17 14:28:02.977\u001b[0m | \u001b[1mINFO    \u001b[0m | \u001b[36m__main__\u001b[0m:\u001b[36m<module>\u001b[0m:\u001b[36m19\u001b[0m - \u001b[1mTotal ranks (NNODE x NCORE x KPAR): 128\u001b[0m\n",
      "\u001b[32m2025-01-17 14:28:02.981\u001b[0m | \u001b[1mINFO    \u001b[0m | \u001b[36m__main__\u001b[0m:\u001b[36mwrite_slurm_script\u001b[0m:\u001b[36m52\u001b[0m - \u001b[1mSLURM job script written to: 4-4-8/job.slurm\u001b[0m\n",
      "\u001b[32m2025-01-17 14:28:03.023\u001b[0m | \u001b[1mINFO    \u001b[0m | \u001b[36m__main__\u001b[0m:\u001b[36m<module>\u001b[0m:\u001b[36m47\u001b[0m - \u001b[1mSubmitted job 4-4-8/job.slurm\u001b[0m\n",
      "\u001b[32m2025-01-17 14:28:03.024\u001b[0m | \u001b[1mINFO    \u001b[0m | \u001b[36m__main__\u001b[0m:\u001b[36m<module>\u001b[0m:\u001b[36m18\u001b[0m - \u001b[1mNNODE: 4, NCORE: 4, KPAR: 16, NPAR: 1.0\u001b[0m\n",
      "\u001b[32m2025-01-17 14:28:03.024\u001b[0m | \u001b[1mINFO    \u001b[0m | \u001b[36m__main__\u001b[0m:\u001b[36m<module>\u001b[0m:\u001b[36m19\u001b[0m - \u001b[1mTotal ranks (NNODE x NCORE x KPAR): 256\u001b[0m\n",
      "\u001b[32m2025-01-17 14:28:03.028\u001b[0m | \u001b[1mINFO    \u001b[0m | \u001b[36m__main__\u001b[0m:\u001b[36mwrite_slurm_script\u001b[0m:\u001b[36m52\u001b[0m - \u001b[1mSLURM job script written to: 4-4-16/job.slurm\u001b[0m\n"
     ]
    },
    {
     "name": "stdout",
     "output_type": "stream",
     "text": [
      "Submitted batch job 28409156\n",
      "Submitted batch job 28409157\n",
      "Submitted batch job 28409158\n",
      "Submitted batch job 28409159\n",
      "Submitted batch job 28409160\n"
     ]
    },
    {
     "name": "stderr",
     "output_type": "stream",
     "text": [
      "\u001b[32m2025-01-17 14:28:03.093\u001b[0m | \u001b[1mINFO    \u001b[0m | \u001b[36m__main__\u001b[0m:\u001b[36m<module>\u001b[0m:\u001b[36m47\u001b[0m - \u001b[1mSubmitted job 4-4-16/job.slurm\u001b[0m\n",
      "\u001b[32m2025-01-17 14:28:03.094\u001b[0m | \u001b[1mINFO    \u001b[0m | \u001b[36m__main__\u001b[0m:\u001b[36m<module>\u001b[0m:\u001b[36m18\u001b[0m - \u001b[1mNNODE: 4, NCORE: 8, KPAR: 1, NPAR: 8.0\u001b[0m\n",
      "\u001b[32m2025-01-17 14:28:03.094\u001b[0m | \u001b[1mINFO    \u001b[0m | \u001b[36m__main__\u001b[0m:\u001b[36m<module>\u001b[0m:\u001b[36m19\u001b[0m - \u001b[1mTotal ranks (NNODE x NCORE x KPAR): 32\u001b[0m\n",
      "\u001b[32m2025-01-17 14:28:03.098\u001b[0m | \u001b[1mINFO    \u001b[0m | \u001b[36m__main__\u001b[0m:\u001b[36mwrite_slurm_script\u001b[0m:\u001b[36m52\u001b[0m - \u001b[1mSLURM job script written to: 4-8-1/job.slurm\u001b[0m\n",
      "\u001b[32m2025-01-17 14:28:03.135\u001b[0m | \u001b[1mINFO    \u001b[0m | \u001b[36m__main__\u001b[0m:\u001b[36m<module>\u001b[0m:\u001b[36m47\u001b[0m - \u001b[1mSubmitted job 4-8-1/job.slurm\u001b[0m\n",
      "\u001b[32m2025-01-17 14:28:03.136\u001b[0m | \u001b[1mINFO    \u001b[0m | \u001b[36m__main__\u001b[0m:\u001b[36m<module>\u001b[0m:\u001b[36m18\u001b[0m - \u001b[1mNNODE: 4, NCORE: 8, KPAR: 2, NPAR: 4.0\u001b[0m\n",
      "\u001b[32m2025-01-17 14:28:03.136\u001b[0m | \u001b[1mINFO    \u001b[0m | \u001b[36m__main__\u001b[0m:\u001b[36m<module>\u001b[0m:\u001b[36m19\u001b[0m - \u001b[1mTotal ranks (NNODE x NCORE x KPAR): 64\u001b[0m\n",
      "\u001b[32m2025-01-17 14:28:03.140\u001b[0m | \u001b[1mINFO    \u001b[0m | \u001b[36m__main__\u001b[0m:\u001b[36mwrite_slurm_script\u001b[0m:\u001b[36m52\u001b[0m - \u001b[1mSLURM job script written to: 4-8-2/job.slurm\u001b[0m\n",
      "\u001b[32m2025-01-17 14:28:03.175\u001b[0m | \u001b[1mINFO    \u001b[0m | \u001b[36m__main__\u001b[0m:\u001b[36m<module>\u001b[0m:\u001b[36m47\u001b[0m - \u001b[1mSubmitted job 4-8-2/job.slurm\u001b[0m\n",
      "\u001b[32m2025-01-17 14:28:03.176\u001b[0m | \u001b[1mINFO    \u001b[0m | \u001b[36m__main__\u001b[0m:\u001b[36m<module>\u001b[0m:\u001b[36m18\u001b[0m - \u001b[1mNNODE: 4, NCORE: 8, KPAR: 4, NPAR: 2.0\u001b[0m\n",
      "\u001b[32m2025-01-17 14:28:03.176\u001b[0m | \u001b[1mINFO    \u001b[0m | \u001b[36m__main__\u001b[0m:\u001b[36m<module>\u001b[0m:\u001b[36m19\u001b[0m - \u001b[1mTotal ranks (NNODE x NCORE x KPAR): 128\u001b[0m\n",
      "\u001b[32m2025-01-17 14:28:03.180\u001b[0m | \u001b[1mINFO    \u001b[0m | \u001b[36m__main__\u001b[0m:\u001b[36mwrite_slurm_script\u001b[0m:\u001b[36m52\u001b[0m - \u001b[1mSLURM job script written to: 4-8-4/job.slurm\u001b[0m\n",
      "\u001b[32m2025-01-17 14:28:03.224\u001b[0m | \u001b[1mINFO    \u001b[0m | \u001b[36m__main__\u001b[0m:\u001b[36m<module>\u001b[0m:\u001b[36m47\u001b[0m - \u001b[1mSubmitted job 4-8-4/job.slurm\u001b[0m\n",
      "\u001b[32m2025-01-17 14:28:03.225\u001b[0m | \u001b[1mINFO    \u001b[0m | \u001b[36m__main__\u001b[0m:\u001b[36m<module>\u001b[0m:\u001b[36m18\u001b[0m - \u001b[1mNNODE: 4, NCORE: 8, KPAR: 8, NPAR: 1.0\u001b[0m\n",
      "\u001b[32m2025-01-17 14:28:03.226\u001b[0m | \u001b[1mINFO    \u001b[0m | \u001b[36m__main__\u001b[0m:\u001b[36m<module>\u001b[0m:\u001b[36m19\u001b[0m - \u001b[1mTotal ranks (NNODE x NCORE x KPAR): 256\u001b[0m\n",
      "\u001b[32m2025-01-17 14:28:03.229\u001b[0m | \u001b[1mINFO    \u001b[0m | \u001b[36m__main__\u001b[0m:\u001b[36mwrite_slurm_script\u001b[0m:\u001b[36m52\u001b[0m - \u001b[1mSLURM job script written to: 4-8-8/job.slurm\u001b[0m\n",
      "\u001b[32m2025-01-17 14:28:03.264\u001b[0m | \u001b[1mINFO    \u001b[0m | \u001b[36m__main__\u001b[0m:\u001b[36m<module>\u001b[0m:\u001b[36m47\u001b[0m - \u001b[1mSubmitted job 4-8-8/job.slurm\u001b[0m\n",
      "\u001b[32m2025-01-17 14:28:03.265\u001b[0m | \u001b[1mINFO    \u001b[0m | \u001b[36m__main__\u001b[0m:\u001b[36m<module>\u001b[0m:\u001b[36m18\u001b[0m - \u001b[1mNNODE: 4, NCORE: 16, KPAR: 1, NPAR: 4.0\u001b[0m\n",
      "\u001b[32m2025-01-17 14:28:03.265\u001b[0m | \u001b[1mINFO    \u001b[0m | \u001b[36m__main__\u001b[0m:\u001b[36m<module>\u001b[0m:\u001b[36m19\u001b[0m - \u001b[1mTotal ranks (NNODE x NCORE x KPAR): 64\u001b[0m\n",
      "\u001b[32m2025-01-17 14:28:03.269\u001b[0m | \u001b[1mINFO    \u001b[0m | \u001b[36m__main__\u001b[0m:\u001b[36mwrite_slurm_script\u001b[0m:\u001b[36m52\u001b[0m - \u001b[1mSLURM job script written to: 4-16-1/job.slurm\u001b[0m\n"
     ]
    },
    {
     "name": "stdout",
     "output_type": "stream",
     "text": [
      "Submitted batch job 28409161\n",
      "Submitted batch job 28409162\n",
      "Submitted batch job 28409163\n",
      "Submitted batch job 28409164\n",
      "Submitted batch job 28409165\n"
     ]
    },
    {
     "name": "stderr",
     "output_type": "stream",
     "text": [
      "\u001b[32m2025-01-17 14:28:03.305\u001b[0m | \u001b[1mINFO    \u001b[0m | \u001b[36m__main__\u001b[0m:\u001b[36m<module>\u001b[0m:\u001b[36m47\u001b[0m - \u001b[1mSubmitted job 4-16-1/job.slurm\u001b[0m\n",
      "\u001b[32m2025-01-17 14:28:03.306\u001b[0m | \u001b[1mINFO    \u001b[0m | \u001b[36m__main__\u001b[0m:\u001b[36m<module>\u001b[0m:\u001b[36m18\u001b[0m - \u001b[1mNNODE: 4, NCORE: 16, KPAR: 2, NPAR: 2.0\u001b[0m\n",
      "\u001b[32m2025-01-17 14:28:03.306\u001b[0m | \u001b[1mINFO    \u001b[0m | \u001b[36m__main__\u001b[0m:\u001b[36m<module>\u001b[0m:\u001b[36m19\u001b[0m - \u001b[1mTotal ranks (NNODE x NCORE x KPAR): 128\u001b[0m\n",
      "\u001b[32m2025-01-17 14:28:03.310\u001b[0m | \u001b[1mINFO    \u001b[0m | \u001b[36m__main__\u001b[0m:\u001b[36mwrite_slurm_script\u001b[0m:\u001b[36m52\u001b[0m - \u001b[1mSLURM job script written to: 4-16-2/job.slurm\u001b[0m\n",
      "\u001b[32m2025-01-17 14:28:03.346\u001b[0m | \u001b[1mINFO    \u001b[0m | \u001b[36m__main__\u001b[0m:\u001b[36m<module>\u001b[0m:\u001b[36m47\u001b[0m - \u001b[1mSubmitted job 4-16-2/job.slurm\u001b[0m\n",
      "\u001b[32m2025-01-17 14:28:03.347\u001b[0m | \u001b[1mINFO    \u001b[0m | \u001b[36m__main__\u001b[0m:\u001b[36m<module>\u001b[0m:\u001b[36m18\u001b[0m - \u001b[1mNNODE: 4, NCORE: 16, KPAR: 4, NPAR: 1.0\u001b[0m\n",
      "\u001b[32m2025-01-17 14:28:03.348\u001b[0m | \u001b[1mINFO    \u001b[0m | \u001b[36m__main__\u001b[0m:\u001b[36m<module>\u001b[0m:\u001b[36m19\u001b[0m - \u001b[1mTotal ranks (NNODE x NCORE x KPAR): 256\u001b[0m\n",
      "\u001b[32m2025-01-17 14:28:03.351\u001b[0m | \u001b[1mINFO    \u001b[0m | \u001b[36m__main__\u001b[0m:\u001b[36mwrite_slurm_script\u001b[0m:\u001b[36m52\u001b[0m - \u001b[1mSLURM job script written to: 4-16-4/job.slurm\u001b[0m\n",
      "\u001b[32m2025-01-17 14:28:03.387\u001b[0m | \u001b[1mINFO    \u001b[0m | \u001b[36m__main__\u001b[0m:\u001b[36m<module>\u001b[0m:\u001b[36m47\u001b[0m - \u001b[1mSubmitted job 4-16-4/job.slurm\u001b[0m\n",
      "\u001b[32m2025-01-17 14:28:03.388\u001b[0m | \u001b[1mINFO    \u001b[0m | \u001b[36m__main__\u001b[0m:\u001b[36m<module>\u001b[0m:\u001b[36m18\u001b[0m - \u001b[1mNNODE: 4, NCORE: 32, KPAR: 1, NPAR: 2.0\u001b[0m\n",
      "\u001b[32m2025-01-17 14:28:03.388\u001b[0m | \u001b[1mINFO    \u001b[0m | \u001b[36m__main__\u001b[0m:\u001b[36m<module>\u001b[0m:\u001b[36m19\u001b[0m - \u001b[1mTotal ranks (NNODE x NCORE x KPAR): 128\u001b[0m\n",
      "\u001b[32m2025-01-17 14:28:03.392\u001b[0m | \u001b[1mINFO    \u001b[0m | \u001b[36m__main__\u001b[0m:\u001b[36mwrite_slurm_script\u001b[0m:\u001b[36m52\u001b[0m - \u001b[1mSLURM job script written to: 4-32-1/job.slurm\u001b[0m\n",
      "\u001b[32m2025-01-17 14:28:03.429\u001b[0m | \u001b[1mINFO    \u001b[0m | \u001b[36m__main__\u001b[0m:\u001b[36m<module>\u001b[0m:\u001b[36m47\u001b[0m - \u001b[1mSubmitted job 4-32-1/job.slurm\u001b[0m\n",
      "\u001b[32m2025-01-17 14:28:03.430\u001b[0m | \u001b[1mINFO    \u001b[0m | \u001b[36m__main__\u001b[0m:\u001b[36m<module>\u001b[0m:\u001b[36m18\u001b[0m - \u001b[1mNNODE: 4, NCORE: 32, KPAR: 2, NPAR: 1.0\u001b[0m\n",
      "\u001b[32m2025-01-17 14:28:03.431\u001b[0m | \u001b[1mINFO    \u001b[0m | \u001b[36m__main__\u001b[0m:\u001b[36m<module>\u001b[0m:\u001b[36m19\u001b[0m - \u001b[1mTotal ranks (NNODE x NCORE x KPAR): 256\u001b[0m\n",
      "\u001b[32m2025-01-17 14:28:03.434\u001b[0m | \u001b[1mINFO    \u001b[0m | \u001b[36m__main__\u001b[0m:\u001b[36mwrite_slurm_script\u001b[0m:\u001b[36m52\u001b[0m - \u001b[1mSLURM job script written to: 4-32-2/job.slurm\u001b[0m\n",
      "\u001b[32m2025-01-17 14:28:03.473\u001b[0m | \u001b[1mINFO    \u001b[0m | \u001b[36m__main__\u001b[0m:\u001b[36m<module>\u001b[0m:\u001b[36m47\u001b[0m - \u001b[1mSubmitted job 4-32-2/job.slurm\u001b[0m\n",
      "\u001b[32m2025-01-17 14:28:03.474\u001b[0m | \u001b[1mINFO    \u001b[0m | \u001b[36m__main__\u001b[0m:\u001b[36m<module>\u001b[0m:\u001b[36m18\u001b[0m - \u001b[1mNNODE: 4, NCORE: 64, KPAR: 1, NPAR: 1.0\u001b[0m\n",
      "\u001b[32m2025-01-17 14:28:03.474\u001b[0m | \u001b[1mINFO    \u001b[0m | \u001b[36m__main__\u001b[0m:\u001b[36m<module>\u001b[0m:\u001b[36m19\u001b[0m - \u001b[1mTotal ranks (NNODE x NCORE x KPAR): 256\u001b[0m\n",
      "\u001b[32m2025-01-17 14:28:03.478\u001b[0m | \u001b[1mINFO    \u001b[0m | \u001b[36m__main__\u001b[0m:\u001b[36mwrite_slurm_script\u001b[0m:\u001b[36m52\u001b[0m - \u001b[1mSLURM job script written to: 4-64-1/job.slurm\u001b[0m\n"
     ]
    },
    {
     "name": "stdout",
     "output_type": "stream",
     "text": [
      "Submitted batch job 28409166\n",
      "Submitted batch job 28409167\n",
      "Submitted batch job 28409168\n",
      "Submitted batch job 28409169\n",
      "Submitted batch job 28409170\n"
     ]
    },
    {
     "name": "stderr",
     "output_type": "stream",
     "text": [
      "\u001b[32m2025-01-17 14:28:03.514\u001b[0m | \u001b[1mINFO    \u001b[0m | \u001b[36m__main__\u001b[0m:\u001b[36m<module>\u001b[0m:\u001b[36m47\u001b[0m - \u001b[1mSubmitted job 4-64-1/job.slurm\u001b[0m\n",
      "\u001b[32m2025-01-17 14:28:03.515\u001b[0m | \u001b[1mINFO    \u001b[0m | \u001b[36m__main__\u001b[0m:\u001b[36m<module>\u001b[0m:\u001b[36m18\u001b[0m - \u001b[1mNNODE: 8, NCORE: 1, KPAR: 1, NPAR: 64.0\u001b[0m\n",
      "\u001b[32m2025-01-17 14:28:03.515\u001b[0m | \u001b[1mINFO    \u001b[0m | \u001b[36m__main__\u001b[0m:\u001b[36m<module>\u001b[0m:\u001b[36m19\u001b[0m - \u001b[1mTotal ranks (NNODE x NCORE x KPAR): 8\u001b[0m\n",
      "\u001b[32m2025-01-17 14:28:03.519\u001b[0m | \u001b[1mINFO    \u001b[0m | \u001b[36m__main__\u001b[0m:\u001b[36mwrite_slurm_script\u001b[0m:\u001b[36m52\u001b[0m - \u001b[1mSLURM job script written to: 8-1-1/job.slurm\u001b[0m\n",
      "\u001b[32m2025-01-17 14:28:03.557\u001b[0m | \u001b[1mINFO    \u001b[0m | \u001b[36m__main__\u001b[0m:\u001b[36m<module>\u001b[0m:\u001b[36m47\u001b[0m - \u001b[1mSubmitted job 8-1-1/job.slurm\u001b[0m\n",
      "\u001b[32m2025-01-17 14:28:03.557\u001b[0m | \u001b[1mINFO    \u001b[0m | \u001b[36m__main__\u001b[0m:\u001b[36m<module>\u001b[0m:\u001b[36m18\u001b[0m - \u001b[1mNNODE: 8, NCORE: 1, KPAR: 2, NPAR: 32.0\u001b[0m\n",
      "\u001b[32m2025-01-17 14:28:03.558\u001b[0m | \u001b[1mINFO    \u001b[0m | \u001b[36m__main__\u001b[0m:\u001b[36m<module>\u001b[0m:\u001b[36m19\u001b[0m - \u001b[1mTotal ranks (NNODE x NCORE x KPAR): 16\u001b[0m\n",
      "\u001b[32m2025-01-17 14:28:03.561\u001b[0m | \u001b[1mINFO    \u001b[0m | \u001b[36m__main__\u001b[0m:\u001b[36mwrite_slurm_script\u001b[0m:\u001b[36m52\u001b[0m - \u001b[1mSLURM job script written to: 8-1-2/job.slurm\u001b[0m\n",
      "\u001b[32m2025-01-17 14:28:03.597\u001b[0m | \u001b[1mINFO    \u001b[0m | \u001b[36m__main__\u001b[0m:\u001b[36m<module>\u001b[0m:\u001b[36m47\u001b[0m - \u001b[1mSubmitted job 8-1-2/job.slurm\u001b[0m\n",
      "\u001b[32m2025-01-17 14:28:03.598\u001b[0m | \u001b[1mINFO    \u001b[0m | \u001b[36m__main__\u001b[0m:\u001b[36m<module>\u001b[0m:\u001b[36m18\u001b[0m - \u001b[1mNNODE: 8, NCORE: 1, KPAR: 4, NPAR: 16.0\u001b[0m\n",
      "\u001b[32m2025-01-17 14:28:03.599\u001b[0m | \u001b[1mINFO    \u001b[0m | \u001b[36m__main__\u001b[0m:\u001b[36m<module>\u001b[0m:\u001b[36m19\u001b[0m - \u001b[1mTotal ranks (NNODE x NCORE x KPAR): 32\u001b[0m\n",
      "\u001b[32m2025-01-17 14:28:03.603\u001b[0m | \u001b[1mINFO    \u001b[0m | \u001b[36m__main__\u001b[0m:\u001b[36mwrite_slurm_script\u001b[0m:\u001b[36m52\u001b[0m - \u001b[1mSLURM job script written to: 8-1-4/job.slurm\u001b[0m\n",
      "\u001b[32m2025-01-17 14:28:03.647\u001b[0m | \u001b[1mINFO    \u001b[0m | \u001b[36m__main__\u001b[0m:\u001b[36m<module>\u001b[0m:\u001b[36m47\u001b[0m - \u001b[1mSubmitted job 8-1-4/job.slurm\u001b[0m\n",
      "\u001b[32m2025-01-17 14:28:03.648\u001b[0m | \u001b[1mINFO    \u001b[0m | \u001b[36m__main__\u001b[0m:\u001b[36m<module>\u001b[0m:\u001b[36m18\u001b[0m - \u001b[1mNNODE: 8, NCORE: 1, KPAR: 8, NPAR: 8.0\u001b[0m\n",
      "\u001b[32m2025-01-17 14:28:03.649\u001b[0m | \u001b[1mINFO    \u001b[0m | \u001b[36m__main__\u001b[0m:\u001b[36m<module>\u001b[0m:\u001b[36m19\u001b[0m - \u001b[1mTotal ranks (NNODE x NCORE x KPAR): 64\u001b[0m\n",
      "\u001b[32m2025-01-17 14:28:03.652\u001b[0m | \u001b[1mINFO    \u001b[0m | \u001b[36m__main__\u001b[0m:\u001b[36mwrite_slurm_script\u001b[0m:\u001b[36m52\u001b[0m - \u001b[1mSLURM job script written to: 8-1-8/job.slurm\u001b[0m\n",
      "\u001b[32m2025-01-17 14:28:03.688\u001b[0m | \u001b[1mINFO    \u001b[0m | \u001b[36m__main__\u001b[0m:\u001b[36m<module>\u001b[0m:\u001b[36m47\u001b[0m - \u001b[1mSubmitted job 8-1-8/job.slurm\u001b[0m\n",
      "\u001b[32m2025-01-17 14:28:03.689\u001b[0m | \u001b[1mINFO    \u001b[0m | \u001b[36m__main__\u001b[0m:\u001b[36m<module>\u001b[0m:\u001b[36m18\u001b[0m - \u001b[1mNNODE: 8, NCORE: 1, KPAR: 16, NPAR: 4.0\u001b[0m\n",
      "\u001b[32m2025-01-17 14:28:03.689\u001b[0m | \u001b[1mINFO    \u001b[0m | \u001b[36m__main__\u001b[0m:\u001b[36m<module>\u001b[0m:\u001b[36m19\u001b[0m - \u001b[1mTotal ranks (NNODE x NCORE x KPAR): 128\u001b[0m\n"
     ]
    },
    {
     "name": "stdout",
     "output_type": "stream",
     "text": [
      "Submitted batch job 28409171\n",
      "Submitted batch job 28409172\n",
      "Submitted batch job 28409173\n",
      "Submitted batch job 28409174\n",
      "Submitted batch job 28409175\n"
     ]
    },
    {
     "name": "stderr",
     "output_type": "stream",
     "text": [
      "\u001b[32m2025-01-17 14:28:03.754\u001b[0m | \u001b[1mINFO    \u001b[0m | \u001b[36m__main__\u001b[0m:\u001b[36mwrite_slurm_script\u001b[0m:\u001b[36m52\u001b[0m - \u001b[1mSLURM job script written to: 8-1-16/job.slurm\u001b[0m\n",
      "\u001b[32m2025-01-17 14:28:03.792\u001b[0m | \u001b[1mINFO    \u001b[0m | \u001b[36m__main__\u001b[0m:\u001b[36m<module>\u001b[0m:\u001b[36m47\u001b[0m - \u001b[1mSubmitted job 8-1-16/job.slurm\u001b[0m\n",
      "\u001b[32m2025-01-17 14:28:03.793\u001b[0m | \u001b[1mINFO    \u001b[0m | \u001b[36m__main__\u001b[0m:\u001b[36m<module>\u001b[0m:\u001b[36m18\u001b[0m - \u001b[1mNNODE: 8, NCORE: 2, KPAR: 1, NPAR: 32.0\u001b[0m\n",
      "\u001b[32m2025-01-17 14:28:03.793\u001b[0m | \u001b[1mINFO    \u001b[0m | \u001b[36m__main__\u001b[0m:\u001b[36m<module>\u001b[0m:\u001b[36m19\u001b[0m - \u001b[1mTotal ranks (NNODE x NCORE x KPAR): 16\u001b[0m\n",
      "\u001b[32m2025-01-17 14:28:03.797\u001b[0m | \u001b[1mINFO    \u001b[0m | \u001b[36m__main__\u001b[0m:\u001b[36mwrite_slurm_script\u001b[0m:\u001b[36m52\u001b[0m - \u001b[1mSLURM job script written to: 8-2-1/job.slurm\u001b[0m\n",
      "\u001b[32m2025-01-17 14:28:03.846\u001b[0m | \u001b[1mINFO    \u001b[0m | \u001b[36m__main__\u001b[0m:\u001b[36m<module>\u001b[0m:\u001b[36m47\u001b[0m - \u001b[1mSubmitted job 8-2-1/job.slurm\u001b[0m\n",
      "\u001b[32m2025-01-17 14:28:03.847\u001b[0m | \u001b[1mINFO    \u001b[0m | \u001b[36m__main__\u001b[0m:\u001b[36m<module>\u001b[0m:\u001b[36m18\u001b[0m - \u001b[1mNNODE: 8, NCORE: 2, KPAR: 2, NPAR: 16.0\u001b[0m\n",
      "\u001b[32m2025-01-17 14:28:03.847\u001b[0m | \u001b[1mINFO    \u001b[0m | \u001b[36m__main__\u001b[0m:\u001b[36m<module>\u001b[0m:\u001b[36m19\u001b[0m - \u001b[1mTotal ranks (NNODE x NCORE x KPAR): 32\u001b[0m\n",
      "\u001b[32m2025-01-17 14:28:03.851\u001b[0m | \u001b[1mINFO    \u001b[0m | \u001b[36m__main__\u001b[0m:\u001b[36mwrite_slurm_script\u001b[0m:\u001b[36m52\u001b[0m - \u001b[1mSLURM job script written to: 8-2-2/job.slurm\u001b[0m\n",
      "\u001b[32m2025-01-17 14:28:03.899\u001b[0m | \u001b[1mINFO    \u001b[0m | \u001b[36m__main__\u001b[0m:\u001b[36m<module>\u001b[0m:\u001b[36m47\u001b[0m - \u001b[1mSubmitted job 8-2-2/job.slurm\u001b[0m\n",
      "\u001b[32m2025-01-17 14:28:03.900\u001b[0m | \u001b[1mINFO    \u001b[0m | \u001b[36m__main__\u001b[0m:\u001b[36m<module>\u001b[0m:\u001b[36m18\u001b[0m - \u001b[1mNNODE: 8, NCORE: 2, KPAR: 4, NPAR: 8.0\u001b[0m\n",
      "\u001b[32m2025-01-17 14:28:03.900\u001b[0m | \u001b[1mINFO    \u001b[0m | \u001b[36m__main__\u001b[0m:\u001b[36m<module>\u001b[0m:\u001b[36m19\u001b[0m - \u001b[1mTotal ranks (NNODE x NCORE x KPAR): 64\u001b[0m\n",
      "\u001b[32m2025-01-17 14:28:03.904\u001b[0m | \u001b[1mINFO    \u001b[0m | \u001b[36m__main__\u001b[0m:\u001b[36mwrite_slurm_script\u001b[0m:\u001b[36m52\u001b[0m - \u001b[1mSLURM job script written to: 8-2-4/job.slurm\u001b[0m\n",
      "\u001b[32m2025-01-17 14:28:03.943\u001b[0m | \u001b[1mINFO    \u001b[0m | \u001b[36m__main__\u001b[0m:\u001b[36m<module>\u001b[0m:\u001b[36m47\u001b[0m - \u001b[1mSubmitted job 8-2-4/job.slurm\u001b[0m\n",
      "\u001b[32m2025-01-17 14:28:03.944\u001b[0m | \u001b[1mINFO    \u001b[0m | \u001b[36m__main__\u001b[0m:\u001b[36m<module>\u001b[0m:\u001b[36m18\u001b[0m - \u001b[1mNNODE: 8, NCORE: 2, KPAR: 8, NPAR: 4.0\u001b[0m\n",
      "\u001b[32m2025-01-17 14:28:03.944\u001b[0m | \u001b[1mINFO    \u001b[0m | \u001b[36m__main__\u001b[0m:\u001b[36m<module>\u001b[0m:\u001b[36m19\u001b[0m - \u001b[1mTotal ranks (NNODE x NCORE x KPAR): 128\u001b[0m\n",
      "\u001b[32m2025-01-17 14:28:03.948\u001b[0m | \u001b[1mINFO    \u001b[0m | \u001b[36m__main__\u001b[0m:\u001b[36mwrite_slurm_script\u001b[0m:\u001b[36m52\u001b[0m - \u001b[1mSLURM job script written to: 8-2-8/job.slurm\u001b[0m\n",
      "\u001b[32m2025-01-17 14:28:03.986\u001b[0m | \u001b[1mINFO    \u001b[0m | \u001b[36m__main__\u001b[0m:\u001b[36m<module>\u001b[0m:\u001b[36m47\u001b[0m - \u001b[1mSubmitted job 8-2-8/job.slurm\u001b[0m\n",
      "\u001b[32m2025-01-17 14:28:03.987\u001b[0m | \u001b[1mINFO    \u001b[0m | \u001b[36m__main__\u001b[0m:\u001b[36m<module>\u001b[0m:\u001b[36m18\u001b[0m - \u001b[1mNNODE: 8, NCORE: 2, KPAR: 16, NPAR: 2.0\u001b[0m\n",
      "\u001b[32m2025-01-17 14:28:03.987\u001b[0m | \u001b[1mINFO    \u001b[0m | \u001b[36m__main__\u001b[0m:\u001b[36m<module>\u001b[0m:\u001b[36m19\u001b[0m - \u001b[1mTotal ranks (NNODE x NCORE x KPAR): 256\u001b[0m\n",
      "\u001b[32m2025-01-17 14:28:03.991\u001b[0m | \u001b[1mINFO    \u001b[0m | \u001b[36m__main__\u001b[0m:\u001b[36mwrite_slurm_script\u001b[0m:\u001b[36m52\u001b[0m - \u001b[1mSLURM job script written to: 8-2-16/job.slurm\u001b[0m\n"
     ]
    },
    {
     "name": "stdout",
     "output_type": "stream",
     "text": [
      "Submitted batch job 28409176\n",
      "Submitted batch job 28409177\n",
      "Submitted batch job 28409178\n",
      "Submitted batch job 28409179\n",
      "Submitted batch job 28409180\n"
     ]
    },
    {
     "name": "stderr",
     "output_type": "stream",
     "text": [
      "\u001b[32m2025-01-17 14:28:04.025\u001b[0m | \u001b[1mINFO    \u001b[0m | \u001b[36m__main__\u001b[0m:\u001b[36m<module>\u001b[0m:\u001b[36m47\u001b[0m - \u001b[1mSubmitted job 8-2-16/job.slurm\u001b[0m\n",
      "\u001b[32m2025-01-17 14:28:04.026\u001b[0m | \u001b[1mINFO    \u001b[0m | \u001b[36m__main__\u001b[0m:\u001b[36m<module>\u001b[0m:\u001b[36m18\u001b[0m - \u001b[1mNNODE: 8, NCORE: 4, KPAR: 1, NPAR: 16.0\u001b[0m\n",
      "\u001b[32m2025-01-17 14:28:04.026\u001b[0m | \u001b[1mINFO    \u001b[0m | \u001b[36m__main__\u001b[0m:\u001b[36m<module>\u001b[0m:\u001b[36m19\u001b[0m - \u001b[1mTotal ranks (NNODE x NCORE x KPAR): 32\u001b[0m\n",
      "\u001b[32m2025-01-17 14:28:04.030\u001b[0m | \u001b[1mINFO    \u001b[0m | \u001b[36m__main__\u001b[0m:\u001b[36mwrite_slurm_script\u001b[0m:\u001b[36m52\u001b[0m - \u001b[1mSLURM job script written to: 8-4-1/job.slurm\u001b[0m\n",
      "\u001b[32m2025-01-17 14:28:04.081\u001b[0m | \u001b[1mINFO    \u001b[0m | \u001b[36m__main__\u001b[0m:\u001b[36m<module>\u001b[0m:\u001b[36m47\u001b[0m - \u001b[1mSubmitted job 8-4-1/job.slurm\u001b[0m\n",
      "\u001b[32m2025-01-17 14:28:04.082\u001b[0m | \u001b[1mINFO    \u001b[0m | \u001b[36m__main__\u001b[0m:\u001b[36m<module>\u001b[0m:\u001b[36m18\u001b[0m - \u001b[1mNNODE: 8, NCORE: 4, KPAR: 2, NPAR: 8.0\u001b[0m\n",
      "\u001b[32m2025-01-17 14:28:04.082\u001b[0m | \u001b[1mINFO    \u001b[0m | \u001b[36m__main__\u001b[0m:\u001b[36m<module>\u001b[0m:\u001b[36m19\u001b[0m - \u001b[1mTotal ranks (NNODE x NCORE x KPAR): 64\u001b[0m\n",
      "\u001b[32m2025-01-17 14:28:04.086\u001b[0m | \u001b[1mINFO    \u001b[0m | \u001b[36m__main__\u001b[0m:\u001b[36mwrite_slurm_script\u001b[0m:\u001b[36m52\u001b[0m - \u001b[1mSLURM job script written to: 8-4-2/job.slurm\u001b[0m\n",
      "\u001b[32m2025-01-17 14:28:04.135\u001b[0m | \u001b[1mINFO    \u001b[0m | \u001b[36m__main__\u001b[0m:\u001b[36m<module>\u001b[0m:\u001b[36m47\u001b[0m - \u001b[1mSubmitted job 8-4-2/job.slurm\u001b[0m\n",
      "\u001b[32m2025-01-17 14:28:04.136\u001b[0m | \u001b[1mINFO    \u001b[0m | \u001b[36m__main__\u001b[0m:\u001b[36m<module>\u001b[0m:\u001b[36m18\u001b[0m - \u001b[1mNNODE: 8, NCORE: 4, KPAR: 4, NPAR: 4.0\u001b[0m\n",
      "\u001b[32m2025-01-17 14:28:04.137\u001b[0m | \u001b[1mINFO    \u001b[0m | \u001b[36m__main__\u001b[0m:\u001b[36m<module>\u001b[0m:\u001b[36m19\u001b[0m - \u001b[1mTotal ranks (NNODE x NCORE x KPAR): 128\u001b[0m\n",
      "\u001b[32m2025-01-17 14:28:04.140\u001b[0m | \u001b[1mINFO    \u001b[0m | \u001b[36m__main__\u001b[0m:\u001b[36mwrite_slurm_script\u001b[0m:\u001b[36m52\u001b[0m - \u001b[1mSLURM job script written to: 8-4-4/job.slurm\u001b[0m\n",
      "\u001b[32m2025-01-17 14:28:04.178\u001b[0m | \u001b[1mINFO    \u001b[0m | \u001b[36m__main__\u001b[0m:\u001b[36m<module>\u001b[0m:\u001b[36m47\u001b[0m - \u001b[1mSubmitted job 8-4-4/job.slurm\u001b[0m\n",
      "\u001b[32m2025-01-17 14:28:04.178\u001b[0m | \u001b[1mINFO    \u001b[0m | \u001b[36m__main__\u001b[0m:\u001b[36m<module>\u001b[0m:\u001b[36m18\u001b[0m - \u001b[1mNNODE: 8, NCORE: 4, KPAR: 8, NPAR: 2.0\u001b[0m\n",
      "\u001b[32m2025-01-17 14:28:04.179\u001b[0m | \u001b[1mINFO    \u001b[0m | \u001b[36m__main__\u001b[0m:\u001b[36m<module>\u001b[0m:\u001b[36m19\u001b[0m - \u001b[1mTotal ranks (NNODE x NCORE x KPAR): 256\u001b[0m\n",
      "\u001b[32m2025-01-17 14:28:04.182\u001b[0m | \u001b[1mINFO    \u001b[0m | \u001b[36m__main__\u001b[0m:\u001b[36mwrite_slurm_script\u001b[0m:\u001b[36m52\u001b[0m - \u001b[1mSLURM job script written to: 8-4-8/job.slurm\u001b[0m\n",
      "\u001b[32m2025-01-17 14:28:04.217\u001b[0m | \u001b[1mINFO    \u001b[0m | \u001b[36m__main__\u001b[0m:\u001b[36m<module>\u001b[0m:\u001b[36m47\u001b[0m - \u001b[1mSubmitted job 8-4-8/job.slurm\u001b[0m\n",
      "\u001b[32m2025-01-17 14:28:04.218\u001b[0m | \u001b[1mINFO    \u001b[0m | \u001b[36m__main__\u001b[0m:\u001b[36m<module>\u001b[0m:\u001b[36m18\u001b[0m - \u001b[1mNNODE: 8, NCORE: 4, KPAR: 16, NPAR: 1.0\u001b[0m\n",
      "\u001b[32m2025-01-17 14:28:04.218\u001b[0m | \u001b[1mINFO    \u001b[0m | \u001b[36m__main__\u001b[0m:\u001b[36m<module>\u001b[0m:\u001b[36m19\u001b[0m - \u001b[1mTotal ranks (NNODE x NCORE x KPAR): 512\u001b[0m\n",
      "\u001b[32m2025-01-17 14:28:04.225\u001b[0m | \u001b[1mINFO    \u001b[0m | \u001b[36m__main__\u001b[0m:\u001b[36mwrite_slurm_script\u001b[0m:\u001b[36m52\u001b[0m - \u001b[1mSLURM job script written to: 8-4-16/job.slurm\u001b[0m\n"
     ]
    },
    {
     "name": "stdout",
     "output_type": "stream",
     "text": [
      "Submitted batch job 28409181\n",
      "Submitted batch job 28409182\n",
      "Submitted batch job 28409183\n",
      "Submitted batch job 28409184\n",
      "Submitted batch job 28409185\n"
     ]
    },
    {
     "name": "stderr",
     "output_type": "stream",
     "text": [
      "\u001b[32m2025-01-17 14:28:04.273\u001b[0m | \u001b[1mINFO    \u001b[0m | \u001b[36m__main__\u001b[0m:\u001b[36m<module>\u001b[0m:\u001b[36m47\u001b[0m - \u001b[1mSubmitted job 8-4-16/job.slurm\u001b[0m\n",
      "\u001b[32m2025-01-17 14:28:04.274\u001b[0m | \u001b[1mINFO    \u001b[0m | \u001b[36m__main__\u001b[0m:\u001b[36m<module>\u001b[0m:\u001b[36m18\u001b[0m - \u001b[1mNNODE: 8, NCORE: 8, KPAR: 1, NPAR: 8.0\u001b[0m\n",
      "\u001b[32m2025-01-17 14:28:04.274\u001b[0m | \u001b[1mINFO    \u001b[0m | \u001b[36m__main__\u001b[0m:\u001b[36m<module>\u001b[0m:\u001b[36m19\u001b[0m - \u001b[1mTotal ranks (NNODE x NCORE x KPAR): 64\u001b[0m\n",
      "\u001b[32m2025-01-17 14:28:04.278\u001b[0m | \u001b[1mINFO    \u001b[0m | \u001b[36m__main__\u001b[0m:\u001b[36mwrite_slurm_script\u001b[0m:\u001b[36m52\u001b[0m - \u001b[1mSLURM job script written to: 8-8-1/job.slurm\u001b[0m\n",
      "\u001b[32m2025-01-17 14:28:04.315\u001b[0m | \u001b[1mINFO    \u001b[0m | \u001b[36m__main__\u001b[0m:\u001b[36m<module>\u001b[0m:\u001b[36m47\u001b[0m - \u001b[1mSubmitted job 8-8-1/job.slurm\u001b[0m\n",
      "\u001b[32m2025-01-17 14:28:04.316\u001b[0m | \u001b[1mINFO    \u001b[0m | \u001b[36m__main__\u001b[0m:\u001b[36m<module>\u001b[0m:\u001b[36m18\u001b[0m - \u001b[1mNNODE: 8, NCORE: 8, KPAR: 2, NPAR: 4.0\u001b[0m\n",
      "\u001b[32m2025-01-17 14:28:04.316\u001b[0m | \u001b[1mINFO    \u001b[0m | \u001b[36m__main__\u001b[0m:\u001b[36m<module>\u001b[0m:\u001b[36m19\u001b[0m - \u001b[1mTotal ranks (NNODE x NCORE x KPAR): 128\u001b[0m\n",
      "\u001b[32m2025-01-17 14:28:04.319\u001b[0m | \u001b[1mINFO    \u001b[0m | \u001b[36m__main__\u001b[0m:\u001b[36mwrite_slurm_script\u001b[0m:\u001b[36m52\u001b[0m - \u001b[1mSLURM job script written to: 8-8-2/job.slurm\u001b[0m\n",
      "\u001b[32m2025-01-17 14:28:04.355\u001b[0m | \u001b[1mINFO    \u001b[0m | \u001b[36m__main__\u001b[0m:\u001b[36m<module>\u001b[0m:\u001b[36m47\u001b[0m - \u001b[1mSubmitted job 8-8-2/job.slurm\u001b[0m\n",
      "\u001b[32m2025-01-17 14:28:04.356\u001b[0m | \u001b[1mINFO    \u001b[0m | \u001b[36m__main__\u001b[0m:\u001b[36m<module>\u001b[0m:\u001b[36m18\u001b[0m - \u001b[1mNNODE: 8, NCORE: 8, KPAR: 4, NPAR: 2.0\u001b[0m\n",
      "\u001b[32m2025-01-17 14:28:04.356\u001b[0m | \u001b[1mINFO    \u001b[0m | \u001b[36m__main__\u001b[0m:\u001b[36m<module>\u001b[0m:\u001b[36m19\u001b[0m - \u001b[1mTotal ranks (NNODE x NCORE x KPAR): 256\u001b[0m\n",
      "\u001b[32m2025-01-17 14:28:04.460\u001b[0m | \u001b[1mINFO    \u001b[0m | \u001b[36m__main__\u001b[0m:\u001b[36mwrite_slurm_script\u001b[0m:\u001b[36m52\u001b[0m - \u001b[1mSLURM job script written to: 8-8-4/job.slurm\u001b[0m\n"
     ]
    },
    {
     "name": "stdout",
     "output_type": "stream",
     "text": [
      "Submitted batch job 28409186\n",
      "Submitted batch job 28409187\n",
      "Submitted batch job 28409188\n"
     ]
    },
    {
     "name": "stderr",
     "output_type": "stream",
     "text": [
      "\u001b[32m2025-01-17 14:28:04.496\u001b[0m | \u001b[1mINFO    \u001b[0m | \u001b[36m__main__\u001b[0m:\u001b[36m<module>\u001b[0m:\u001b[36m47\u001b[0m - \u001b[1mSubmitted job 8-8-4/job.slurm\u001b[0m\n",
      "\u001b[32m2025-01-17 14:28:04.497\u001b[0m | \u001b[1mINFO    \u001b[0m | \u001b[36m__main__\u001b[0m:\u001b[36m<module>\u001b[0m:\u001b[36m18\u001b[0m - \u001b[1mNNODE: 8, NCORE: 8, KPAR: 8, NPAR: 1.0\u001b[0m\n",
      "\u001b[32m2025-01-17 14:28:04.498\u001b[0m | \u001b[1mINFO    \u001b[0m | \u001b[36m__main__\u001b[0m:\u001b[36m<module>\u001b[0m:\u001b[36m19\u001b[0m - \u001b[1mTotal ranks (NNODE x NCORE x KPAR): 512\u001b[0m\n",
      "\u001b[32m2025-01-17 14:28:04.502\u001b[0m | \u001b[1mINFO    \u001b[0m | \u001b[36m__main__\u001b[0m:\u001b[36mwrite_slurm_script\u001b[0m:\u001b[36m52\u001b[0m - \u001b[1mSLURM job script written to: 8-8-8/job.slurm\u001b[0m\n",
      "\u001b[32m2025-01-17 14:28:04.546\u001b[0m | \u001b[1mINFO    \u001b[0m | \u001b[36m__main__\u001b[0m:\u001b[36m<module>\u001b[0m:\u001b[36m47\u001b[0m - \u001b[1mSubmitted job 8-8-8/job.slurm\u001b[0m\n",
      "\u001b[32m2025-01-17 14:28:04.548\u001b[0m | \u001b[1mINFO    \u001b[0m | \u001b[36m__main__\u001b[0m:\u001b[36m<module>\u001b[0m:\u001b[36m18\u001b[0m - \u001b[1mNNODE: 8, NCORE: 16, KPAR: 1, NPAR: 4.0\u001b[0m\n",
      "\u001b[32m2025-01-17 14:28:04.548\u001b[0m | \u001b[1mINFO    \u001b[0m | \u001b[36m__main__\u001b[0m:\u001b[36m<module>\u001b[0m:\u001b[36m19\u001b[0m - \u001b[1mTotal ranks (NNODE x NCORE x KPAR): 128\u001b[0m\n"
     ]
    },
    {
     "name": "stdout",
     "output_type": "stream",
     "text": [
      "Submitted batch job 28409189\n",
      "Submitted batch job 28409190\n"
     ]
    },
    {
     "name": "stderr",
     "output_type": "stream",
     "text": [
      "\u001b[32m2025-01-17 14:28:05.152\u001b[0m | \u001b[1mINFO    \u001b[0m | \u001b[36m__main__\u001b[0m:\u001b[36mwrite_slurm_script\u001b[0m:\u001b[36m52\u001b[0m - \u001b[1mSLURM job script written to: 8-16-1/job.slurm\u001b[0m\n",
      "\u001b[32m2025-01-17 14:28:05.189\u001b[0m | \u001b[1mINFO    \u001b[0m | \u001b[36m__main__\u001b[0m:\u001b[36m<module>\u001b[0m:\u001b[36m47\u001b[0m - \u001b[1mSubmitted job 8-16-1/job.slurm\u001b[0m\n",
      "\u001b[32m2025-01-17 14:28:05.190\u001b[0m | \u001b[1mINFO    \u001b[0m | \u001b[36m__main__\u001b[0m:\u001b[36m<module>\u001b[0m:\u001b[36m18\u001b[0m - \u001b[1mNNODE: 8, NCORE: 16, KPAR: 2, NPAR: 2.0\u001b[0m\n",
      "\u001b[32m2025-01-17 14:28:05.191\u001b[0m | \u001b[1mINFO    \u001b[0m | \u001b[36m__main__\u001b[0m:\u001b[36m<module>\u001b[0m:\u001b[36m19\u001b[0m - \u001b[1mTotal ranks (NNODE x NCORE x KPAR): 256\u001b[0m\n",
      "\u001b[32m2025-01-17 14:28:05.194\u001b[0m | \u001b[1mINFO    \u001b[0m | \u001b[36m__main__\u001b[0m:\u001b[36mwrite_slurm_script\u001b[0m:\u001b[36m52\u001b[0m - \u001b[1mSLURM job script written to: 8-16-2/job.slurm\u001b[0m\n",
      "\u001b[32m2025-01-17 14:28:05.264\u001b[0m | \u001b[1mINFO    \u001b[0m | \u001b[36m__main__\u001b[0m:\u001b[36m<module>\u001b[0m:\u001b[36m47\u001b[0m - \u001b[1mSubmitted job 8-16-2/job.slurm\u001b[0m\n",
      "\u001b[32m2025-01-17 14:28:05.265\u001b[0m | \u001b[1mINFO    \u001b[0m | \u001b[36m__main__\u001b[0m:\u001b[36m<module>\u001b[0m:\u001b[36m18\u001b[0m - \u001b[1mNNODE: 8, NCORE: 16, KPAR: 4, NPAR: 1.0\u001b[0m\n",
      "\u001b[32m2025-01-17 14:28:05.266\u001b[0m | \u001b[1mINFO    \u001b[0m | \u001b[36m__main__\u001b[0m:\u001b[36m<module>\u001b[0m:\u001b[36m19\u001b[0m - \u001b[1mTotal ranks (NNODE x NCORE x KPAR): 512\u001b[0m\n",
      "\u001b[32m2025-01-17 14:28:05.270\u001b[0m | \u001b[1mINFO    \u001b[0m | \u001b[36m__main__\u001b[0m:\u001b[36mwrite_slurm_script\u001b[0m:\u001b[36m52\u001b[0m - \u001b[1mSLURM job script written to: 8-16-4/job.slurm\u001b[0m\n",
      "\u001b[32m2025-01-17 14:28:05.317\u001b[0m | \u001b[1mINFO    \u001b[0m | \u001b[36m__main__\u001b[0m:\u001b[36m<module>\u001b[0m:\u001b[36m47\u001b[0m - \u001b[1mSubmitted job 8-16-4/job.slurm\u001b[0m\n",
      "\u001b[32m2025-01-17 14:28:05.318\u001b[0m | \u001b[1mINFO    \u001b[0m | \u001b[36m__main__\u001b[0m:\u001b[36m<module>\u001b[0m:\u001b[36m18\u001b[0m - \u001b[1mNNODE: 8, NCORE: 32, KPAR: 1, NPAR: 2.0\u001b[0m\n",
      "\u001b[32m2025-01-17 14:28:05.319\u001b[0m | \u001b[1mINFO    \u001b[0m | \u001b[36m__main__\u001b[0m:\u001b[36m<module>\u001b[0m:\u001b[36m19\u001b[0m - \u001b[1mTotal ranks (NNODE x NCORE x KPAR): 256\u001b[0m\n",
      "\u001b[32m2025-01-17 14:28:05.323\u001b[0m | \u001b[1mINFO    \u001b[0m | \u001b[36m__main__\u001b[0m:\u001b[36mwrite_slurm_script\u001b[0m:\u001b[36m52\u001b[0m - \u001b[1mSLURM job script written to: 8-32-1/job.slurm\u001b[0m\n",
      "\u001b[32m2025-01-17 14:28:05.371\u001b[0m | \u001b[1mINFO    \u001b[0m | \u001b[36m__main__\u001b[0m:\u001b[36m<module>\u001b[0m:\u001b[36m47\u001b[0m - \u001b[1mSubmitted job 8-32-1/job.slurm\u001b[0m\n",
      "\u001b[32m2025-01-17 14:28:05.372\u001b[0m | \u001b[1mINFO    \u001b[0m | \u001b[36m__main__\u001b[0m:\u001b[36m<module>\u001b[0m:\u001b[36m18\u001b[0m - \u001b[1mNNODE: 8, NCORE: 32, KPAR: 2, NPAR: 1.0\u001b[0m\n",
      "\u001b[32m2025-01-17 14:28:05.372\u001b[0m | \u001b[1mINFO    \u001b[0m | \u001b[36m__main__\u001b[0m:\u001b[36m<module>\u001b[0m:\u001b[36m19\u001b[0m - \u001b[1mTotal ranks (NNODE x NCORE x KPAR): 512\u001b[0m\n",
      "\u001b[32m2025-01-17 14:28:05.376\u001b[0m | \u001b[1mINFO    \u001b[0m | \u001b[36m__main__\u001b[0m:\u001b[36mwrite_slurm_script\u001b[0m:\u001b[36m52\u001b[0m - \u001b[1mSLURM job script written to: 8-32-2/job.slurm\u001b[0m\n"
     ]
    },
    {
     "name": "stdout",
     "output_type": "stream",
     "text": [
      "Submitted batch job 28409191\n",
      "Submitted batch job 28409192\n",
      "Submitted batch job 28409193\n",
      "Submitted batch job 28409194\n"
     ]
    },
    {
     "name": "stderr",
     "output_type": "stream",
     "text": [
      "\u001b[32m2025-01-17 14:28:05.424\u001b[0m | \u001b[1mINFO    \u001b[0m | \u001b[36m__main__\u001b[0m:\u001b[36m<module>\u001b[0m:\u001b[36m47\u001b[0m - \u001b[1mSubmitted job 8-32-2/job.slurm\u001b[0m\n",
      "\u001b[32m2025-01-17 14:28:05.425\u001b[0m | \u001b[1mINFO    \u001b[0m | \u001b[36m__main__\u001b[0m:\u001b[36m<module>\u001b[0m:\u001b[36m18\u001b[0m - \u001b[1mNNODE: 8, NCORE: 64, KPAR: 1, NPAR: 1.0\u001b[0m\n",
      "\u001b[32m2025-01-17 14:28:05.426\u001b[0m | \u001b[1mINFO    \u001b[0m | \u001b[36m__main__\u001b[0m:\u001b[36m<module>\u001b[0m:\u001b[36m19\u001b[0m - \u001b[1mTotal ranks (NNODE x NCORE x KPAR): 512\u001b[0m\n",
      "\u001b[32m2025-01-17 14:28:05.429\u001b[0m | \u001b[1mINFO    \u001b[0m | \u001b[36m__main__\u001b[0m:\u001b[36mwrite_slurm_script\u001b[0m:\u001b[36m52\u001b[0m - \u001b[1mSLURM job script written to: 8-64-1/job.slurm\u001b[0m\n",
      "\u001b[32m2025-01-17 14:28:05.558\u001b[0m | \u001b[1mINFO    \u001b[0m | \u001b[36m__main__\u001b[0m:\u001b[36m<module>\u001b[0m:\u001b[36m47\u001b[0m - \u001b[1mSubmitted job 8-64-1/job.slurm\u001b[0m\n",
      "\u001b[32m2025-01-17 14:28:05.559\u001b[0m | \u001b[1mINFO    \u001b[0m | \u001b[36m__main__\u001b[0m:\u001b[36m<module>\u001b[0m:\u001b[36m18\u001b[0m - \u001b[1mNNODE: 16, NCORE: 1, KPAR: 1, NPAR: 64.0\u001b[0m\n",
      "\u001b[32m2025-01-17 14:28:05.560\u001b[0m | \u001b[1mINFO    \u001b[0m | \u001b[36m__main__\u001b[0m:\u001b[36m<module>\u001b[0m:\u001b[36m19\u001b[0m - \u001b[1mTotal ranks (NNODE x NCORE x KPAR): 16\u001b[0m\n",
      "\u001b[32m2025-01-17 14:28:05.563\u001b[0m | \u001b[1mINFO    \u001b[0m | \u001b[36m__main__\u001b[0m:\u001b[36mwrite_slurm_script\u001b[0m:\u001b[36m52\u001b[0m - \u001b[1mSLURM job script written to: 16-1-1/job.slurm\u001b[0m\n",
      "\u001b[32m2025-01-17 14:28:05.602\u001b[0m | \u001b[1mINFO    \u001b[0m | \u001b[36m__main__\u001b[0m:\u001b[36m<module>\u001b[0m:\u001b[36m47\u001b[0m - \u001b[1mSubmitted job 16-1-1/job.slurm\u001b[0m\n",
      "\u001b[32m2025-01-17 14:28:05.603\u001b[0m | \u001b[1mINFO    \u001b[0m | \u001b[36m__main__\u001b[0m:\u001b[36m<module>\u001b[0m:\u001b[36m18\u001b[0m - \u001b[1mNNODE: 16, NCORE: 1, KPAR: 2, NPAR: 32.0\u001b[0m\n",
      "\u001b[32m2025-01-17 14:28:05.604\u001b[0m | \u001b[1mINFO    \u001b[0m | \u001b[36m__main__\u001b[0m:\u001b[36m<module>\u001b[0m:\u001b[36m19\u001b[0m - \u001b[1mTotal ranks (NNODE x NCORE x KPAR): 32\u001b[0m\n"
     ]
    },
    {
     "name": "stdout",
     "output_type": "stream",
     "text": [
      "Submitted batch job 28409195\n",
      "Submitted batch job 28409196\n",
      "Submitted batch job 28409197\n"
     ]
    },
    {
     "name": "stderr",
     "output_type": "stream",
     "text": [
      "\u001b[32m2025-01-17 14:28:05.681\u001b[0m | \u001b[1mINFO    \u001b[0m | \u001b[36m__main__\u001b[0m:\u001b[36mwrite_slurm_script\u001b[0m:\u001b[36m52\u001b[0m - \u001b[1mSLURM job script written to: 16-1-2/job.slurm\u001b[0m\n",
      "\u001b[32m2025-01-17 14:28:05.725\u001b[0m | \u001b[1mINFO    \u001b[0m | \u001b[36m__main__\u001b[0m:\u001b[36m<module>\u001b[0m:\u001b[36m47\u001b[0m - \u001b[1mSubmitted job 16-1-2/job.slurm\u001b[0m\n",
      "\u001b[32m2025-01-17 14:28:05.726\u001b[0m | \u001b[1mINFO    \u001b[0m | \u001b[36m__main__\u001b[0m:\u001b[36m<module>\u001b[0m:\u001b[36m18\u001b[0m - \u001b[1mNNODE: 16, NCORE: 1, KPAR: 4, NPAR: 16.0\u001b[0m\n",
      "\u001b[32m2025-01-17 14:28:05.727\u001b[0m | \u001b[1mINFO    \u001b[0m | \u001b[36m__main__\u001b[0m:\u001b[36m<module>\u001b[0m:\u001b[36m19\u001b[0m - \u001b[1mTotal ranks (NNODE x NCORE x KPAR): 64\u001b[0m\n",
      "\u001b[32m2025-01-17 14:28:05.734\u001b[0m | \u001b[1mINFO    \u001b[0m | \u001b[36m__main__\u001b[0m:\u001b[36mwrite_slurm_script\u001b[0m:\u001b[36m52\u001b[0m - \u001b[1mSLURM job script written to: 16-1-4/job.slurm\u001b[0m\n",
      "\u001b[32m2025-01-17 14:28:05.770\u001b[0m | \u001b[1mINFO    \u001b[0m | \u001b[36m__main__\u001b[0m:\u001b[36m<module>\u001b[0m:\u001b[36m47\u001b[0m - \u001b[1mSubmitted job 16-1-4/job.slurm\u001b[0m\n",
      "\u001b[32m2025-01-17 14:28:05.771\u001b[0m | \u001b[1mINFO    \u001b[0m | \u001b[36m__main__\u001b[0m:\u001b[36m<module>\u001b[0m:\u001b[36m18\u001b[0m - \u001b[1mNNODE: 16, NCORE: 1, KPAR: 8, NPAR: 8.0\u001b[0m\n",
      "\u001b[32m2025-01-17 14:28:05.772\u001b[0m | \u001b[1mINFO    \u001b[0m | \u001b[36m__main__\u001b[0m:\u001b[36m<module>\u001b[0m:\u001b[36m19\u001b[0m - \u001b[1mTotal ranks (NNODE x NCORE x KPAR): 128\u001b[0m\n",
      "\u001b[32m2025-01-17 14:28:05.775\u001b[0m | \u001b[1mINFO    \u001b[0m | \u001b[36m__main__\u001b[0m:\u001b[36mwrite_slurm_script\u001b[0m:\u001b[36m52\u001b[0m - \u001b[1mSLURM job script written to: 16-1-8/job.slurm\u001b[0m\n",
      "\u001b[32m2025-01-17 14:28:05.822\u001b[0m | \u001b[1mINFO    \u001b[0m | \u001b[36m__main__\u001b[0m:\u001b[36m<module>\u001b[0m:\u001b[36m47\u001b[0m - \u001b[1mSubmitted job 16-1-8/job.slurm\u001b[0m\n",
      "\u001b[32m2025-01-17 14:28:05.824\u001b[0m | \u001b[1mINFO    \u001b[0m | \u001b[36m__main__\u001b[0m:\u001b[36m<module>\u001b[0m:\u001b[36m18\u001b[0m - \u001b[1mNNODE: 16, NCORE: 1, KPAR: 16, NPAR: 4.0\u001b[0m\n",
      "\u001b[32m2025-01-17 14:28:05.824\u001b[0m | \u001b[1mINFO    \u001b[0m | \u001b[36m__main__\u001b[0m:\u001b[36m<module>\u001b[0m:\u001b[36m19\u001b[0m - \u001b[1mTotal ranks (NNODE x NCORE x KPAR): 256\u001b[0m\n",
      "\u001b[32m2025-01-17 14:28:05.828\u001b[0m | \u001b[1mINFO    \u001b[0m | \u001b[36m__main__\u001b[0m:\u001b[36mwrite_slurm_script\u001b[0m:\u001b[36m52\u001b[0m - \u001b[1mSLURM job script written to: 16-1-16/job.slurm\u001b[0m\n",
      "\u001b[32m2025-01-17 14:28:05.876\u001b[0m | \u001b[1mINFO    \u001b[0m | \u001b[36m__main__\u001b[0m:\u001b[36m<module>\u001b[0m:\u001b[36m47\u001b[0m - \u001b[1mSubmitted job 16-1-16/job.slurm\u001b[0m\n",
      "\u001b[32m2025-01-17 14:28:05.878\u001b[0m | \u001b[1mINFO    \u001b[0m | \u001b[36m__main__\u001b[0m:\u001b[36m<module>\u001b[0m:\u001b[36m18\u001b[0m - \u001b[1mNNODE: 16, NCORE: 2, KPAR: 1, NPAR: 32.0\u001b[0m\n",
      "\u001b[32m2025-01-17 14:28:05.878\u001b[0m | \u001b[1mINFO    \u001b[0m | \u001b[36m__main__\u001b[0m:\u001b[36m<module>\u001b[0m:\u001b[36m19\u001b[0m - \u001b[1mTotal ranks (NNODE x NCORE x KPAR): 32\u001b[0m\n",
      "\u001b[32m2025-01-17 14:28:05.882\u001b[0m | \u001b[1mINFO    \u001b[0m | \u001b[36m__main__\u001b[0m:\u001b[36mwrite_slurm_script\u001b[0m:\u001b[36m52\u001b[0m - \u001b[1mSLURM job script written to: 16-2-1/job.slurm\u001b[0m\n",
      "\u001b[32m2025-01-17 14:28:05.920\u001b[0m | \u001b[1mINFO    \u001b[0m | \u001b[36m__main__\u001b[0m:\u001b[36m<module>\u001b[0m:\u001b[36m47\u001b[0m - \u001b[1mSubmitted job 16-2-1/job.slurm\u001b[0m\n",
      "\u001b[32m2025-01-17 14:28:05.921\u001b[0m | \u001b[1mINFO    \u001b[0m | \u001b[36m__main__\u001b[0m:\u001b[36m<module>\u001b[0m:\u001b[36m18\u001b[0m - \u001b[1mNNODE: 16, NCORE: 2, KPAR: 2, NPAR: 16.0\u001b[0m\n",
      "\u001b[32m2025-01-17 14:28:05.921\u001b[0m | \u001b[1mINFO    \u001b[0m | \u001b[36m__main__\u001b[0m:\u001b[36m<module>\u001b[0m:\u001b[36m19\u001b[0m - \u001b[1mTotal ranks (NNODE x NCORE x KPAR): 64\u001b[0m\n",
      "\u001b[32m2025-01-17 14:28:05.925\u001b[0m | \u001b[1mINFO    \u001b[0m | \u001b[36m__main__\u001b[0m:\u001b[36mwrite_slurm_script\u001b[0m:\u001b[36m52\u001b[0m - \u001b[1mSLURM job script written to: 16-2-2/job.slurm\u001b[0m\n"
     ]
    },
    {
     "name": "stdout",
     "output_type": "stream",
     "text": [
      "Submitted batch job 28409198\n",
      "Submitted batch job 28409199\n",
      "Submitted batch job 28409200\n",
      "Submitted batch job 28409201\n",
      "Submitted batch job 28409202\n"
     ]
    },
    {
     "name": "stderr",
     "output_type": "stream",
     "text": [
      "\u001b[32m2025-01-17 14:28:05.964\u001b[0m | \u001b[1mINFO    \u001b[0m | \u001b[36m__main__\u001b[0m:\u001b[36m<module>\u001b[0m:\u001b[36m47\u001b[0m - \u001b[1mSubmitted job 16-2-2/job.slurm\u001b[0m\n",
      "\u001b[32m2025-01-17 14:28:05.965\u001b[0m | \u001b[1mINFO    \u001b[0m | \u001b[36m__main__\u001b[0m:\u001b[36m<module>\u001b[0m:\u001b[36m18\u001b[0m - \u001b[1mNNODE: 16, NCORE: 2, KPAR: 4, NPAR: 8.0\u001b[0m\n",
      "\u001b[32m2025-01-17 14:28:05.965\u001b[0m | \u001b[1mINFO    \u001b[0m | \u001b[36m__main__\u001b[0m:\u001b[36m<module>\u001b[0m:\u001b[36m19\u001b[0m - \u001b[1mTotal ranks (NNODE x NCORE x KPAR): 128\u001b[0m\n",
      "\u001b[32m2025-01-17 14:28:06.115\u001b[0m | \u001b[1mINFO    \u001b[0m | \u001b[36m__main__\u001b[0m:\u001b[36mwrite_slurm_script\u001b[0m:\u001b[36m52\u001b[0m - \u001b[1mSLURM job script written to: 16-2-4/job.slurm\u001b[0m\n",
      "\u001b[32m2025-01-17 14:28:06.161\u001b[0m | \u001b[1mINFO    \u001b[0m | \u001b[36m__main__\u001b[0m:\u001b[36m<module>\u001b[0m:\u001b[36m47\u001b[0m - \u001b[1mSubmitted job 16-2-4/job.slurm\u001b[0m\n",
      "\u001b[32m2025-01-17 14:28:06.163\u001b[0m | \u001b[1mINFO    \u001b[0m | \u001b[36m__main__\u001b[0m:\u001b[36m<module>\u001b[0m:\u001b[36m18\u001b[0m - \u001b[1mNNODE: 16, NCORE: 2, KPAR: 8, NPAR: 4.0\u001b[0m\n",
      "\u001b[32m2025-01-17 14:28:06.163\u001b[0m | \u001b[1mINFO    \u001b[0m | \u001b[36m__main__\u001b[0m:\u001b[36m<module>\u001b[0m:\u001b[36m19\u001b[0m - \u001b[1mTotal ranks (NNODE x NCORE x KPAR): 256\u001b[0m\n"
     ]
    },
    {
     "name": "stdout",
     "output_type": "stream",
     "text": [
      "Submitted batch job 28409203\n",
      "Submitted batch job 28409204\n"
     ]
    },
    {
     "name": "stderr",
     "output_type": "stream",
     "text": [
      "\u001b[32m2025-01-17 14:28:06.167\u001b[0m | \u001b[1mINFO    \u001b[0m | \u001b[36m__main__\u001b[0m:\u001b[36mwrite_slurm_script\u001b[0m:\u001b[36m52\u001b[0m - \u001b[1mSLURM job script written to: 16-2-8/job.slurm\u001b[0m\n",
      "\u001b[32m2025-01-17 14:28:06.222\u001b[0m | \u001b[1mINFO    \u001b[0m | \u001b[36m__main__\u001b[0m:\u001b[36m<module>\u001b[0m:\u001b[36m47\u001b[0m - \u001b[1mSubmitted job 16-2-8/job.slurm\u001b[0m\n",
      "\u001b[32m2025-01-17 14:28:06.224\u001b[0m | \u001b[1mINFO    \u001b[0m | \u001b[36m__main__\u001b[0m:\u001b[36m<module>\u001b[0m:\u001b[36m18\u001b[0m - \u001b[1mNNODE: 16, NCORE: 2, KPAR: 16, NPAR: 2.0\u001b[0m\n",
      "\u001b[32m2025-01-17 14:28:06.224\u001b[0m | \u001b[1mINFO    \u001b[0m | \u001b[36m__main__\u001b[0m:\u001b[36m<module>\u001b[0m:\u001b[36m19\u001b[0m - \u001b[1mTotal ranks (NNODE x NCORE x KPAR): 512\u001b[0m\n",
      "\u001b[32m2025-01-17 14:28:06.228\u001b[0m | \u001b[1mINFO    \u001b[0m | \u001b[36m__main__\u001b[0m:\u001b[36mwrite_slurm_script\u001b[0m:\u001b[36m52\u001b[0m - \u001b[1mSLURM job script written to: 16-2-16/job.slurm\u001b[0m\n",
      "\u001b[32m2025-01-17 14:28:06.267\u001b[0m | \u001b[1mINFO    \u001b[0m | \u001b[36m__main__\u001b[0m:\u001b[36m<module>\u001b[0m:\u001b[36m47\u001b[0m - \u001b[1mSubmitted job 16-2-16/job.slurm\u001b[0m\n",
      "\u001b[32m2025-01-17 14:28:06.268\u001b[0m | \u001b[1mINFO    \u001b[0m | \u001b[36m__main__\u001b[0m:\u001b[36m<module>\u001b[0m:\u001b[36m18\u001b[0m - \u001b[1mNNODE: 16, NCORE: 4, KPAR: 1, NPAR: 16.0\u001b[0m\n",
      "\u001b[32m2025-01-17 14:28:06.269\u001b[0m | \u001b[1mINFO    \u001b[0m | \u001b[36m__main__\u001b[0m:\u001b[36m<module>\u001b[0m:\u001b[36m19\u001b[0m - \u001b[1mTotal ranks (NNODE x NCORE x KPAR): 64\u001b[0m\n",
      "\u001b[32m2025-01-17 14:28:06.273\u001b[0m | \u001b[1mINFO    \u001b[0m | \u001b[36m__main__\u001b[0m:\u001b[36mwrite_slurm_script\u001b[0m:\u001b[36m52\u001b[0m - \u001b[1mSLURM job script written to: 16-4-1/job.slurm\u001b[0m\n",
      "\u001b[32m2025-01-17 14:28:06.311\u001b[0m | \u001b[1mINFO    \u001b[0m | \u001b[36m__main__\u001b[0m:\u001b[36m<module>\u001b[0m:\u001b[36m47\u001b[0m - \u001b[1mSubmitted job 16-4-1/job.slurm\u001b[0m\n",
      "\u001b[32m2025-01-17 14:28:06.312\u001b[0m | \u001b[1mINFO    \u001b[0m | \u001b[36m__main__\u001b[0m:\u001b[36m<module>\u001b[0m:\u001b[36m18\u001b[0m - \u001b[1mNNODE: 16, NCORE: 4, KPAR: 2, NPAR: 8.0\u001b[0m\n",
      "\u001b[32m2025-01-17 14:28:06.312\u001b[0m | \u001b[1mINFO    \u001b[0m | \u001b[36m__main__\u001b[0m:\u001b[36m<module>\u001b[0m:\u001b[36m19\u001b[0m - \u001b[1mTotal ranks (NNODE x NCORE x KPAR): 128\u001b[0m\n",
      "\u001b[32m2025-01-17 14:28:06.316\u001b[0m | \u001b[1mINFO    \u001b[0m | \u001b[36m__main__\u001b[0m:\u001b[36mwrite_slurm_script\u001b[0m:\u001b[36m52\u001b[0m - \u001b[1mSLURM job script written to: 16-4-2/job.slurm\u001b[0m\n",
      "\u001b[32m2025-01-17 14:28:06.353\u001b[0m | \u001b[1mINFO    \u001b[0m | \u001b[36m__main__\u001b[0m:\u001b[36m<module>\u001b[0m:\u001b[36m47\u001b[0m - \u001b[1mSubmitted job 16-4-2/job.slurm\u001b[0m\n",
      "\u001b[32m2025-01-17 14:28:06.354\u001b[0m | \u001b[1mINFO    \u001b[0m | \u001b[36m__main__\u001b[0m:\u001b[36m<module>\u001b[0m:\u001b[36m18\u001b[0m - \u001b[1mNNODE: 16, NCORE: 4, KPAR: 4, NPAR: 4.0\u001b[0m\n",
      "\u001b[32m2025-01-17 14:28:06.355\u001b[0m | \u001b[1mINFO    \u001b[0m | \u001b[36m__main__\u001b[0m:\u001b[36m<module>\u001b[0m:\u001b[36m19\u001b[0m - \u001b[1mTotal ranks (NNODE x NCORE x KPAR): 256\u001b[0m\n",
      "\u001b[32m2025-01-17 14:28:06.358\u001b[0m | \u001b[1mINFO    \u001b[0m | \u001b[36m__main__\u001b[0m:\u001b[36mwrite_slurm_script\u001b[0m:\u001b[36m52\u001b[0m - \u001b[1mSLURM job script written to: 16-4-4/job.slurm\u001b[0m\n",
      "\u001b[32m2025-01-17 14:28:06.395\u001b[0m | \u001b[1mINFO    \u001b[0m | \u001b[36m__main__\u001b[0m:\u001b[36m<module>\u001b[0m:\u001b[36m47\u001b[0m - \u001b[1mSubmitted job 16-4-4/job.slurm\u001b[0m\n",
      "\u001b[32m2025-01-17 14:28:06.396\u001b[0m | \u001b[1mINFO    \u001b[0m | \u001b[36m__main__\u001b[0m:\u001b[36m<module>\u001b[0m:\u001b[36m18\u001b[0m - \u001b[1mNNODE: 16, NCORE: 4, KPAR: 8, NPAR: 2.0\u001b[0m\n",
      "\u001b[32m2025-01-17 14:28:06.397\u001b[0m | \u001b[1mINFO    \u001b[0m | \u001b[36m__main__\u001b[0m:\u001b[36m<module>\u001b[0m:\u001b[36m19\u001b[0m - \u001b[1mTotal ranks (NNODE x NCORE x KPAR): 512\u001b[0m\n",
      "\u001b[32m2025-01-17 14:28:06.401\u001b[0m | \u001b[1mINFO    \u001b[0m | \u001b[36m__main__\u001b[0m:\u001b[36mwrite_slurm_script\u001b[0m:\u001b[36m52\u001b[0m - \u001b[1mSLURM job script written to: 16-4-8/job.slurm\u001b[0m\n"
     ]
    },
    {
     "name": "stdout",
     "output_type": "stream",
     "text": [
      "Submitted batch job 28409205\n",
      "Submitted batch job 28409206\n",
      "Submitted batch job 28409207\n",
      "Submitted batch job 28409208\n",
      "Submitted batch job 28409209\n"
     ]
    },
    {
     "name": "stderr",
     "output_type": "stream",
     "text": [
      "\u001b[32m2025-01-17 14:28:06.438\u001b[0m | \u001b[1mINFO    \u001b[0m | \u001b[36m__main__\u001b[0m:\u001b[36m<module>\u001b[0m:\u001b[36m47\u001b[0m - \u001b[1mSubmitted job 16-4-8/job.slurm\u001b[0m\n",
      "\u001b[32m2025-01-17 14:28:06.439\u001b[0m | \u001b[1mINFO    \u001b[0m | \u001b[36m__main__\u001b[0m:\u001b[36m<module>\u001b[0m:\u001b[36m18\u001b[0m - \u001b[1mNNODE: 16, NCORE: 4, KPAR: 16, NPAR: 1.0\u001b[0m\n",
      "\u001b[32m2025-01-17 14:28:06.439\u001b[0m | \u001b[1mINFO    \u001b[0m | \u001b[36m__main__\u001b[0m:\u001b[36m<module>\u001b[0m:\u001b[36m19\u001b[0m - \u001b[1mTotal ranks (NNODE x NCORE x KPAR): 1024\u001b[0m\n",
      "\u001b[32m2025-01-17 14:28:06.445\u001b[0m | \u001b[1mINFO    \u001b[0m | \u001b[36m__main__\u001b[0m:\u001b[36mwrite_slurm_script\u001b[0m:\u001b[36m52\u001b[0m - \u001b[1mSLURM job script written to: 16-4-16/job.slurm\u001b[0m\n",
      "\u001b[32m2025-01-17 14:28:06.495\u001b[0m | \u001b[1mINFO    \u001b[0m | \u001b[36m__main__\u001b[0m:\u001b[36m<module>\u001b[0m:\u001b[36m47\u001b[0m - \u001b[1mSubmitted job 16-4-16/job.slurm\u001b[0m\n",
      "\u001b[32m2025-01-17 14:28:06.497\u001b[0m | \u001b[1mINFO    \u001b[0m | \u001b[36m__main__\u001b[0m:\u001b[36m<module>\u001b[0m:\u001b[36m18\u001b[0m - \u001b[1mNNODE: 16, NCORE: 8, KPAR: 1, NPAR: 8.0\u001b[0m\n",
      "\u001b[32m2025-01-17 14:28:06.497\u001b[0m | \u001b[1mINFO    \u001b[0m | \u001b[36m__main__\u001b[0m:\u001b[36m<module>\u001b[0m:\u001b[36m19\u001b[0m - \u001b[1mTotal ranks (NNODE x NCORE x KPAR): 128\u001b[0m\n",
      "\u001b[32m2025-01-17 14:28:06.501\u001b[0m | \u001b[1mINFO    \u001b[0m | \u001b[36m__main__\u001b[0m:\u001b[36mwrite_slurm_script\u001b[0m:\u001b[36m52\u001b[0m - \u001b[1mSLURM job script written to: 16-8-1/job.slurm\u001b[0m\n",
      "\u001b[32m2025-01-17 14:28:06.552\u001b[0m | \u001b[1mINFO    \u001b[0m | \u001b[36m__main__\u001b[0m:\u001b[36m<module>\u001b[0m:\u001b[36m47\u001b[0m - \u001b[1mSubmitted job 16-8-1/job.slurm\u001b[0m\n",
      "\u001b[32m2025-01-17 14:28:06.553\u001b[0m | \u001b[1mINFO    \u001b[0m | \u001b[36m__main__\u001b[0m:\u001b[36m<module>\u001b[0m:\u001b[36m18\u001b[0m - \u001b[1mNNODE: 16, NCORE: 8, KPAR: 2, NPAR: 4.0\u001b[0m\n",
      "\u001b[32m2025-01-17 14:28:06.554\u001b[0m | \u001b[1mINFO    \u001b[0m | \u001b[36m__main__\u001b[0m:\u001b[36m<module>\u001b[0m:\u001b[36m19\u001b[0m - \u001b[1mTotal ranks (NNODE x NCORE x KPAR): 256\u001b[0m\n",
      "\u001b[32m2025-01-17 14:28:06.558\u001b[0m | \u001b[1mINFO    \u001b[0m | \u001b[36m__main__\u001b[0m:\u001b[36mwrite_slurm_script\u001b[0m:\u001b[36m52\u001b[0m - \u001b[1mSLURM job script written to: 16-8-2/job.slurm\u001b[0m\n",
      "\u001b[32m2025-01-17 14:28:06.607\u001b[0m | \u001b[1mINFO    \u001b[0m | \u001b[36m__main__\u001b[0m:\u001b[36m<module>\u001b[0m:\u001b[36m47\u001b[0m - \u001b[1mSubmitted job 16-8-2/job.slurm\u001b[0m\n",
      "\u001b[32m2025-01-17 14:28:06.608\u001b[0m | \u001b[1mINFO    \u001b[0m | \u001b[36m__main__\u001b[0m:\u001b[36m<module>\u001b[0m:\u001b[36m18\u001b[0m - \u001b[1mNNODE: 16, NCORE: 8, KPAR: 4, NPAR: 2.0\u001b[0m\n",
      "\u001b[32m2025-01-17 14:28:06.609\u001b[0m | \u001b[1mINFO    \u001b[0m | \u001b[36m__main__\u001b[0m:\u001b[36m<module>\u001b[0m:\u001b[36m19\u001b[0m - \u001b[1mTotal ranks (NNODE x NCORE x KPAR): 512\u001b[0m\n",
      "\u001b[32m2025-01-17 14:28:06.612\u001b[0m | \u001b[1mINFO    \u001b[0m | \u001b[36m__main__\u001b[0m:\u001b[36mwrite_slurm_script\u001b[0m:\u001b[36m52\u001b[0m - \u001b[1mSLURM job script written to: 16-8-4/job.slurm\u001b[0m\n"
     ]
    },
    {
     "name": "stdout",
     "output_type": "stream",
     "text": [
      "Submitted batch job 28409210\n",
      "Submitted batch job 28409211\n",
      "Submitted batch job 28409212\n",
      "Submitted batch job 28409213\n"
     ]
    },
    {
     "name": "stderr",
     "output_type": "stream",
     "text": [
      "\u001b[32m2025-01-17 14:28:06.652\u001b[0m | \u001b[1mINFO    \u001b[0m | \u001b[36m__main__\u001b[0m:\u001b[36m<module>\u001b[0m:\u001b[36m47\u001b[0m - \u001b[1mSubmitted job 16-8-4/job.slurm\u001b[0m\n",
      "\u001b[32m2025-01-17 14:28:06.652\u001b[0m | \u001b[1mINFO    \u001b[0m | \u001b[36m__main__\u001b[0m:\u001b[36m<module>\u001b[0m:\u001b[36m18\u001b[0m - \u001b[1mNNODE: 16, NCORE: 8, KPAR: 8, NPAR: 1.0\u001b[0m\n",
      "\u001b[32m2025-01-17 14:28:06.653\u001b[0m | \u001b[1mINFO    \u001b[0m | \u001b[36m__main__\u001b[0m:\u001b[36m<module>\u001b[0m:\u001b[36m19\u001b[0m - \u001b[1mTotal ranks (NNODE x NCORE x KPAR): 1024\u001b[0m\n",
      "\u001b[32m2025-01-17 14:28:06.656\u001b[0m | \u001b[1mINFO    \u001b[0m | \u001b[36m__main__\u001b[0m:\u001b[36mwrite_slurm_script\u001b[0m:\u001b[36m52\u001b[0m - \u001b[1mSLURM job script written to: 16-8-8/job.slurm\u001b[0m\n",
      "\u001b[32m2025-01-17 14:28:06.698\u001b[0m | \u001b[1mINFO    \u001b[0m | \u001b[36m__main__\u001b[0m:\u001b[36m<module>\u001b[0m:\u001b[36m47\u001b[0m - \u001b[1mSubmitted job 16-8-8/job.slurm\u001b[0m\n",
      "\u001b[32m2025-01-17 14:28:06.699\u001b[0m | \u001b[1mINFO    \u001b[0m | \u001b[36m__main__\u001b[0m:\u001b[36m<module>\u001b[0m:\u001b[36m18\u001b[0m - \u001b[1mNNODE: 16, NCORE: 16, KPAR: 1, NPAR: 4.0\u001b[0m\n",
      "\u001b[32m2025-01-17 14:28:06.700\u001b[0m | \u001b[1mINFO    \u001b[0m | \u001b[36m__main__\u001b[0m:\u001b[36m<module>\u001b[0m:\u001b[36m19\u001b[0m - \u001b[1mTotal ranks (NNODE x NCORE x KPAR): 256\u001b[0m\n"
     ]
    },
    {
     "name": "stdout",
     "output_type": "stream",
     "text": [
      "Submitted batch job 28409214\n",
      "Submitted batch job 28409215\n"
     ]
    },
    {
     "name": "stderr",
     "output_type": "stream",
     "text": [
      "\u001b[32m2025-01-17 14:28:06.923\u001b[0m | \u001b[1mINFO    \u001b[0m | \u001b[36m__main__\u001b[0m:\u001b[36mwrite_slurm_script\u001b[0m:\u001b[36m52\u001b[0m - \u001b[1mSLURM job script written to: 16-16-1/job.slurm\u001b[0m\n",
      "\u001b[32m2025-01-17 14:28:06.972\u001b[0m | \u001b[1mINFO    \u001b[0m | \u001b[36m__main__\u001b[0m:\u001b[36m<module>\u001b[0m:\u001b[36m47\u001b[0m - \u001b[1mSubmitted job 16-16-1/job.slurm\u001b[0m\n",
      "\u001b[32m2025-01-17 14:28:06.973\u001b[0m | \u001b[1mINFO    \u001b[0m | \u001b[36m__main__\u001b[0m:\u001b[36m<module>\u001b[0m:\u001b[36m18\u001b[0m - \u001b[1mNNODE: 16, NCORE: 16, KPAR: 2, NPAR: 2.0\u001b[0m\n",
      "\u001b[32m2025-01-17 14:28:06.974\u001b[0m | \u001b[1mINFO    \u001b[0m | \u001b[36m__main__\u001b[0m:\u001b[36m<module>\u001b[0m:\u001b[36m19\u001b[0m - \u001b[1mTotal ranks (NNODE x NCORE x KPAR): 512\u001b[0m\n",
      "\u001b[32m2025-01-17 14:28:06.977\u001b[0m | \u001b[1mINFO    \u001b[0m | \u001b[36m__main__\u001b[0m:\u001b[36mwrite_slurm_script\u001b[0m:\u001b[36m52\u001b[0m - \u001b[1mSLURM job script written to: 16-16-2/job.slurm\u001b[0m\n",
      "\u001b[32m2025-01-17 14:28:07.123\u001b[0m | \u001b[1mINFO    \u001b[0m | \u001b[36m__main__\u001b[0m:\u001b[36m<module>\u001b[0m:\u001b[36m47\u001b[0m - \u001b[1mSubmitted job 16-16-2/job.slurm\u001b[0m\n",
      "\u001b[32m2025-01-17 14:28:07.124\u001b[0m | \u001b[1mINFO    \u001b[0m | \u001b[36m__main__\u001b[0m:\u001b[36m<module>\u001b[0m:\u001b[36m18\u001b[0m - \u001b[1mNNODE: 16, NCORE: 16, KPAR: 4, NPAR: 1.0\u001b[0m\n",
      "\u001b[32m2025-01-17 14:28:07.124\u001b[0m | \u001b[1mINFO    \u001b[0m | \u001b[36m__main__\u001b[0m:\u001b[36m<module>\u001b[0m:\u001b[36m19\u001b[0m - \u001b[1mTotal ranks (NNODE x NCORE x KPAR): 1024\u001b[0m\n",
      "\u001b[32m2025-01-17 14:28:07.128\u001b[0m | \u001b[1mINFO    \u001b[0m | \u001b[36m__main__\u001b[0m:\u001b[36mwrite_slurm_script\u001b[0m:\u001b[36m52\u001b[0m - \u001b[1mSLURM job script written to: 16-16-4/job.slurm\u001b[0m\n"
     ]
    },
    {
     "name": "stdout",
     "output_type": "stream",
     "text": [
      "Submitted batch job 28409216\n",
      "Submitted batch job 28409217\n"
     ]
    },
    {
     "name": "stderr",
     "output_type": "stream",
     "text": [
      "\u001b[32m2025-01-17 14:28:07.199\u001b[0m | \u001b[1mINFO    \u001b[0m | \u001b[36m__main__\u001b[0m:\u001b[36m<module>\u001b[0m:\u001b[36m47\u001b[0m - \u001b[1mSubmitted job 16-16-4/job.slurm\u001b[0m\n",
      "\u001b[32m2025-01-17 14:28:07.200\u001b[0m | \u001b[1mINFO    \u001b[0m | \u001b[36m__main__\u001b[0m:\u001b[36m<module>\u001b[0m:\u001b[36m18\u001b[0m - \u001b[1mNNODE: 16, NCORE: 32, KPAR: 1, NPAR: 2.0\u001b[0m\n",
      "\u001b[32m2025-01-17 14:28:07.200\u001b[0m | \u001b[1mINFO    \u001b[0m | \u001b[36m__main__\u001b[0m:\u001b[36m<module>\u001b[0m:\u001b[36m19\u001b[0m - \u001b[1mTotal ranks (NNODE x NCORE x KPAR): 512\u001b[0m\n",
      "\u001b[32m2025-01-17 14:28:07.204\u001b[0m | \u001b[1mINFO    \u001b[0m | \u001b[36m__main__\u001b[0m:\u001b[36mwrite_slurm_script\u001b[0m:\u001b[36m52\u001b[0m - \u001b[1mSLURM job script written to: 16-32-1/job.slurm\u001b[0m\n",
      "\u001b[32m2025-01-17 14:28:07.245\u001b[0m | \u001b[1mINFO    \u001b[0m | \u001b[36m__main__\u001b[0m:\u001b[36m<module>\u001b[0m:\u001b[36m47\u001b[0m - \u001b[1mSubmitted job 16-32-1/job.slurm\u001b[0m\n",
      "\u001b[32m2025-01-17 14:28:07.246\u001b[0m | \u001b[1mINFO    \u001b[0m | \u001b[36m__main__\u001b[0m:\u001b[36m<module>\u001b[0m:\u001b[36m18\u001b[0m - \u001b[1mNNODE: 16, NCORE: 32, KPAR: 2, NPAR: 1.0\u001b[0m\n",
      "\u001b[32m2025-01-17 14:28:07.247\u001b[0m | \u001b[1mINFO    \u001b[0m | \u001b[36m__main__\u001b[0m:\u001b[36m<module>\u001b[0m:\u001b[36m19\u001b[0m - \u001b[1mTotal ranks (NNODE x NCORE x KPAR): 1024\u001b[0m\n",
      "\u001b[32m2025-01-17 14:28:07.250\u001b[0m | \u001b[1mINFO    \u001b[0m | \u001b[36m__main__\u001b[0m:\u001b[36mwrite_slurm_script\u001b[0m:\u001b[36m52\u001b[0m - \u001b[1mSLURM job script written to: 16-32-2/job.slurm\u001b[0m\n",
      "\u001b[32m2025-01-17 14:28:07.296\u001b[0m | \u001b[1mINFO    \u001b[0m | \u001b[36m__main__\u001b[0m:\u001b[36m<module>\u001b[0m:\u001b[36m47\u001b[0m - \u001b[1mSubmitted job 16-32-2/job.slurm\u001b[0m\n",
      "\u001b[32m2025-01-17 14:28:07.298\u001b[0m | \u001b[1mINFO    \u001b[0m | \u001b[36m__main__\u001b[0m:\u001b[36m<module>\u001b[0m:\u001b[36m18\u001b[0m - \u001b[1mNNODE: 16, NCORE: 64, KPAR: 1, NPAR: 1.0\u001b[0m\n",
      "\u001b[32m2025-01-17 14:28:07.298\u001b[0m | \u001b[1mINFO    \u001b[0m | \u001b[36m__main__\u001b[0m:\u001b[36m<module>\u001b[0m:\u001b[36m19\u001b[0m - \u001b[1mTotal ranks (NNODE x NCORE x KPAR): 1024\u001b[0m\n"
     ]
    },
    {
     "name": "stdout",
     "output_type": "stream",
     "text": [
      "Submitted batch job 28409218\n",
      "Submitted batch job 28409219\n",
      "Submitted batch job 28409220\n"
     ]
    },
    {
     "name": "stderr",
     "output_type": "stream",
     "text": [
      "\u001b[32m2025-01-17 14:28:07.402\u001b[0m | \u001b[1mINFO    \u001b[0m | \u001b[36m__main__\u001b[0m:\u001b[36mwrite_slurm_script\u001b[0m:\u001b[36m52\u001b[0m - \u001b[1mSLURM job script written to: 16-64-1/job.slurm\u001b[0m\n",
      "\u001b[32m2025-01-17 14:28:07.459\u001b[0m | \u001b[1mINFO    \u001b[0m | \u001b[36m__main__\u001b[0m:\u001b[36m<module>\u001b[0m:\u001b[36m47\u001b[0m - \u001b[1mSubmitted job 16-64-1/job.slurm\u001b[0m\n"
     ]
    },
    {
     "name": "stdout",
     "output_type": "stream",
     "text": [
      "Submitted batch job 28409221\n"
     ]
    }
   ],
   "source": [
    "import itertools\n",
    "\n",
    "ncpus_per_node = 64\n",
    "\n",
    "NNODEs = [1, 2, 4, 8, 16]\n",
    "# NCOREs = [1, 2, 4, 8, 16, 32, 64]\n",
    "NCOREs = [2**i for i in range(int(math.log2(ncpus_per_node)) + 1)]\n",
    "# KPARs = [1, 2, 4, 8, 16]  # <= KPOINTS = 2x2x4 = 16 in this case\n",
    "KPARs = [2**i for i in range(int(math.log2(16)) + 1)]\n",
    "\n",
    "for comb in itertools.product(NNODEs, NCOREs, KPARs):\n",
    "    NNODE, NCORE, KPAR = comb\n",
    "    NPAR = ncpus_per_node / KPAR / NCORE\n",
    "\n",
    "    if not NPAR.is_integer():\n",
    "        continue\n",
    "\n",
    "    logger.info(f\"NNODE: {NNODE}, NCORE: {NCORE}, KPAR: {KPAR}, NPAR: {NPAR}\")\n",
    "    logger.info(f\"Total ranks (NNODE x NCORE x KPAR): {NNODE * NCORE * KPAR}\")\n",
    "\n",
    "    config = config_template.copy()\n",
    "\n",
    "    config[\"job\"][\"vasp\"][\"INCAR\"].update(\n",
    "        {\n",
    "            \"NCORE\": NCORE,\n",
    "            \"KPAR\": KPAR,\n",
    "            # \"NPAR\": int(NPAR),\n",
    "        }\n",
    "    )\n",
    "\n",
    "    config[\"scheduler\"][\"resources\"].update(\n",
    "        {\n",
    "            \"nodes\": NNODE,\n",
    "            \"ntasks_per_node\": ncpus_per_node,\n",
    "        }\n",
    "    )\n",
    "\n",
    "    work_dir = Path(f\"{NNODE}-{NCORE}-{KPAR}\")\n",
    "\n",
    "    script_path = write_slurm_script(\n",
    "        work_dir=work_dir,\n",
    "        config=config,\n",
    "        script_content=\"python ../workflow.py --config run.yaml\",\n",
    "    )\n",
    "\n",
    "    subprocess.run([\"sbatch\", script_path.name], cwd=script_path.absolute().parent)\n",
    "    logger.info(f\"Submitted job {script_path}\")\n",
    "        "
   ]
  },
  {
   "cell_type": "code",
   "execution_count": 27,
   "metadata": {},
   "outputs": [
    {
     "name": "stderr",
     "output_type": "stream",
     "text": [
      "Retrieving SummaryDoc documents: 100%|██████████| 3/3 [00:00<00:00, 52428.80it/s]\n"
     ]
    }
   ],
   "source": [
    "from mp_api.client import MPRester\n",
    "\n",
    "with MPRester() as mpr:\n",
    "    docs = mpr.materials.summary.search(\n",
    "        chemsys=[\"Pb-Ti-O\", \"Pb-Zr-O\", \"Pb-Ti-Zr-O\"],\n",
    "        spacegroup_symbol=\"P4mm\",  # \"Pm-3m\", \"P4mm\" \"R3mm\"\n",
    "        fields=[\"material_id\", \"symmetry\", \"structure\"],\n",
    "    )\n",
    "\n",
    "structure = docs[0].structure"
   ]
  },
  {
   "cell_type": "code",
   "execution_count": 29,
   "metadata": {},
   "outputs": [
    {
     "name": "stderr",
     "output_type": "stream",
     "text": [
      "Retrieving SummaryDoc documents: 100%|██████████| 3/3 [00:00<00:00, 79137.81it/s]\n",
      "/ocean/projects/dmr110014p/ychiang4/.conda/envs/comm/lib/python3.12/site-packages/pymatgen/io/vasp/inputs.py:660: EncodingWarning: We strongly encourage explicit `encoding`, and we would use UTF-8 by default as per PEP 686\n",
      "  with zopen(filename, mode=\"wt\") as file:\n"
     ]
    },
    {
     "data": {
      "text/plain": [
       "'Zr18 Ti18 Pb36 O108\\n1.0\\n  12.0827400000000011    0.0000000000000000    0.0000000000000000\\n   0.0000000000000000   12.0827400000000011    0.0000000000000000\\n   0.0000000000000000    0.0000000000000000   17.5231080000000006\\nZr Ti Pb O\\n18 18 36 108\\ndirect\\n   0.1666666666666667    0.1666666666666667    0.3819460000000000 Zr\\n   0.1666666666666667    0.1666666666666667    0.8819460000000001 Zr\\n   0.1666666666666667    0.5000000000000000    0.3819460000000000 Zr\\n   0.1666666666666667    0.5000000000000000    0.8819460000000001 Zr\\n   0.1666666666666667    0.8333333333333333    0.3819460000000000 Zr\\n   0.1666666666666667    0.8333333333333333    0.8819460000000001 Zr\\n   0.5000000000000000    0.1666666666666667    0.3819460000000000 Zr\\n   0.5000000000000000    0.1666666666666667    0.8819460000000001 Zr\\n   0.5000000000000000    0.5000000000000000    0.3819460000000000 Zr\\n   0.5000000000000000    0.5000000000000000    0.8819460000000001 Zr\\n   0.5000000000000000    0.8333333333333333    0.3819460000000000 Zr\\n   0.5000000000000000    0.8333333333333333    0.8819460000000001 Zr\\n   0.8333333333333333    0.1666666666666667    0.3819460000000000 Zr\\n   0.8333333333333333    0.1666666666666667    0.8819460000000001 Zr\\n   0.8333333333333333    0.5000000000000000    0.3819460000000000 Zr\\n   0.8333333333333333    0.5000000000000000    0.8819460000000001 Zr\\n   0.8333333333333333    0.8333333333333333    0.3819460000000000 Zr\\n   0.8333333333333333    0.8333333333333333    0.8819460000000001 Zr\\n   0.1666666666666667    0.1666666666666667    0.1340380000000000 Ti\\n   0.1666666666666667    0.1666666666666667    0.6340380000000000 Ti\\n   0.1666666666666667    0.5000000000000000    0.1340380000000000 Ti\\n   0.1666666666666667    0.5000000000000000    0.6340380000000000 Ti\\n   0.1666666666666667    0.8333333333333333    0.1340380000000000 Ti\\n   0.1666666666666667    0.8333333333333333    0.6340380000000000 Ti\\n   0.5000000000000000    0.1666666666666667    0.1340380000000000 Ti\\n   0.5000000000000000    0.1666666666666667    0.6340380000000000 Ti\\n   0.5000000000000000    0.5000000000000000    0.1340380000000000 Ti\\n   0.5000000000000000    0.5000000000000000    0.6340380000000000 Ti\\n   0.5000000000000000    0.8333333333333333    0.1340380000000000 Ti\\n   0.5000000000000000    0.8333333333333333    0.6340380000000000 Ti\\n   0.8333333333333333    0.1666666666666667    0.1340380000000000 Ti\\n   0.8333333333333333    0.1666666666666667    0.6340380000000000 Ti\\n   0.8333333333333333    0.5000000000000000    0.1340380000000000 Ti\\n   0.8333333333333333    0.5000000000000000    0.6340380000000000 Ti\\n   0.8333333333333333    0.8333333333333333    0.1340380000000000 Ti\\n   0.8333333333333333    0.8333333333333333    0.6340380000000000 Ti\\n   0.0000000000000000    0.0000000000000000    0.0031465000000000 Pb\\n   0.0000000000000000    0.0000000000000000    0.5031465000000001 Pb\\n   0.0000000000000000    0.3333333333333333    0.0031465000000000 Pb\\n   0.0000000000000000    0.3333333333333333    0.5031465000000001 Pb\\n   0.0000000000000000    0.6666666666666666    0.0031465000000000 Pb\\n   0.0000000000000000    0.6666666666666666    0.5031465000000001 Pb\\n   0.3333333333333333    0.0000000000000000    0.0031465000000000 Pb\\n   0.3333333333333333    0.0000000000000000    0.5031465000000001 Pb\\n   0.3333333333333333    0.3333333333333333    0.0031465000000000 Pb\\n   0.3333333333333333    0.3333333333333333    0.5031465000000001 Pb\\n   0.3333333333333333    0.6666666666666666    0.0031465000000000 Pb\\n   0.3333333333333333    0.6666666666666666    0.5031465000000001 Pb\\n   0.6666666666666666    0.0000000000000000    0.0031465000000000 Pb\\n   0.6666666666666666    0.0000000000000000    0.5031465000000001 Pb\\n   0.6666666666666666    0.3333333333333333    0.0031465000000000 Pb\\n   0.6666666666666666    0.3333333333333333    0.5031465000000001 Pb\\n   0.6666666666666666    0.6666666666666666    0.0031465000000000 Pb\\n   0.6666666666666666    0.6666666666666666    0.5031465000000001 Pb\\n   0.0000000000000000    0.0000000000000000    0.2365840000000000 Pb\\n   0.0000000000000000    0.0000000000000000    0.7365840000000000 Pb\\n   0.0000000000000000    0.3333333333333333    0.2365840000000000 Pb\\n   0.0000000000000000    0.3333333333333333    0.7365840000000000 Pb\\n   0.0000000000000000    0.6666666666666666    0.2365840000000000 Pb\\n   0.0000000000000000    0.6666666666666666    0.7365840000000000 Pb\\n   0.3333333333333333    0.0000000000000000    0.2365840000000000 Pb\\n   0.3333333333333333    0.0000000000000000    0.7365840000000000 Pb\\n   0.3333333333333333    0.3333333333333333    0.2365840000000000 Pb\\n   0.3333333333333333    0.3333333333333333    0.7365840000000000 Pb\\n   0.3333333333333333    0.6666666666666666    0.2365840000000000 Pb\\n   0.3333333333333333    0.6666666666666666    0.7365840000000000 Pb\\n   0.6666666666666666    0.0000000000000000    0.2365840000000000 Pb\\n   0.6666666666666666    0.0000000000000000    0.7365840000000000 Pb\\n   0.6666666666666666    0.3333333333333333    0.2365840000000000 Pb\\n   0.6666666666666666    0.3333333333333333    0.7365840000000000 Pb\\n   0.6666666666666666    0.6666666666666666    0.2365840000000000 Pb\\n   0.6666666666666666    0.6666666666666666    0.7365840000000000 Pb\\n   0.0000000000000000    0.1666666666666667    0.1502625000000000 O\\n   0.0000000000000000    0.1666666666666667    0.6502625000000000 O\\n   0.0000000000000000    0.5000000000000000    0.1502625000000000 O\\n   0.0000000000000000    0.5000000000000000    0.6502625000000000 O\\n   0.0000000000000000    0.8333333333333333    0.1502625000000000 O\\n   0.0000000000000000    0.8333333333333333    0.6502625000000000 O\\n   0.3333333333333333    0.1666666666666667    0.1502625000000000 O\\n   0.3333333333333333    0.1666666666666667    0.6502625000000000 O\\n   0.3333333333333333    0.5000000000000000    0.1502625000000000 O\\n   0.3333333333333333    0.5000000000000000    0.6502625000000000 O\\n   0.3333333333333333    0.8333333333333333    0.1502625000000000 O\\n   0.3333333333333333    0.8333333333333333    0.6502625000000000 O\\n   0.6666666666666666    0.1666666666666667    0.1502625000000000 O\\n   0.6666666666666666    0.1666666666666667    0.6502625000000000 O\\n   0.6666666666666666    0.5000000000000000    0.1502625000000000 O\\n   0.6666666666666666    0.5000000000000000    0.6502625000000000 O\\n   0.6666666666666666    0.8333333333333333    0.1502625000000000 O\\n   0.6666666666666666    0.8333333333333333    0.6502625000000000 O\\n   0.1666666666666667    0.0000000000000000    0.1502625000000000 O\\n   0.1666666666666667    0.0000000000000000    0.6502625000000000 O\\n   0.1666666666666667    0.3333333333333333    0.1502625000000000 O\\n   0.1666666666666667    0.3333333333333333    0.6502625000000000 O\\n   0.1666666666666667    0.6666666666666666    0.1502625000000000 O\\n   0.1666666666666667    0.6666666666666666    0.6502625000000000 O\\n   0.5000000000000000    0.0000000000000000    0.1502625000000000 O\\n   0.5000000000000000    0.0000000000000000    0.6502625000000000 O\\n   0.5000000000000000    0.3333333333333333    0.1502625000000000 O\\n   0.5000000000000000    0.3333333333333333    0.6502625000000000 O\\n   0.5000000000000000    0.6666666666666666    0.1502625000000000 O\\n   0.5000000000000000    0.6666666666666666    0.6502625000000000 O\\n   0.8333333333333333    0.0000000000000000    0.1502625000000000 O\\n   0.8333333333333333    0.0000000000000000    0.6502625000000000 O\\n   0.8333333333333333    0.3333333333333333    0.1502625000000000 O\\n   0.8333333333333333    0.3333333333333333    0.6502625000000000 O\\n   0.8333333333333333    0.6666666666666666    0.1502625000000000 O\\n   0.8333333333333333    0.6666666666666666    0.6502625000000000 O\\n   0.0000000000000000    0.1666666666666667    0.4128520000000000 O\\n   0.0000000000000000    0.1666666666666667    0.9128520000000001 O\\n   0.0000000000000000    0.5000000000000000    0.4128520000000000 O\\n   0.0000000000000000    0.5000000000000000    0.9128520000000001 O\\n   0.0000000000000000    0.8333333333333333    0.4128520000000000 O\\n   0.0000000000000000    0.8333333333333333    0.9128520000000001 O\\n   0.3333333333333333    0.1666666666666667    0.4128520000000000 O\\n   0.3333333333333333    0.1666666666666667    0.9128520000000001 O\\n   0.3333333333333333    0.5000000000000000    0.4128520000000000 O\\n   0.3333333333333333    0.5000000000000000    0.9128520000000001 O\\n   0.3333333333333333    0.8333333333333333    0.4128520000000000 O\\n   0.3333333333333333    0.8333333333333333    0.9128520000000001 O\\n   0.6666666666666666    0.1666666666666667    0.4128520000000000 O\\n   0.6666666666666666    0.1666666666666667    0.9128520000000001 O\\n   0.6666666666666666    0.5000000000000000    0.4128520000000000 O\\n   0.6666666666666666    0.5000000000000000    0.9128520000000001 O\\n   0.6666666666666666    0.8333333333333333    0.4128520000000000 O\\n   0.6666666666666666    0.8333333333333333    0.9128520000000001 O\\n   0.1666666666666667    0.0000000000000000    0.4128520000000000 O\\n   0.1666666666666667    0.0000000000000000    0.9128520000000001 O\\n   0.1666666666666667    0.3333333333333333    0.4128520000000000 O\\n   0.1666666666666667    0.3333333333333333    0.9128520000000001 O\\n   0.1666666666666667    0.6666666666666666    0.4128520000000000 O\\n   0.1666666666666667    0.6666666666666666    0.9128520000000001 O\\n   0.5000000000000000    0.0000000000000000    0.4128520000000000 O\\n   0.5000000000000000    0.0000000000000000    0.9128520000000001 O\\n   0.5000000000000000    0.3333333333333333    0.4128520000000000 O\\n   0.5000000000000000    0.3333333333333333    0.9128520000000001 O\\n   0.5000000000000000    0.6666666666666666    0.4128520000000000 O\\n   0.5000000000000000    0.6666666666666666    0.9128520000000001 O\\n   0.8333333333333333    0.0000000000000000    0.4128520000000000 O\\n   0.8333333333333333    0.0000000000000000    0.9128520000000001 O\\n   0.8333333333333333    0.3333333333333333    0.4128520000000000 O\\n   0.8333333333333333    0.3333333333333333    0.9128520000000001 O\\n   0.8333333333333333    0.6666666666666666    0.4128520000000000 O\\n   0.8333333333333333    0.6666666666666666    0.9128520000000001 O\\n   0.1666666666666667    0.1666666666666667    0.2689065000000000 O\\n   0.1666666666666667    0.1666666666666667    0.7689065000000000 O\\n   0.1666666666666667    0.5000000000000000    0.2689065000000000 O\\n   0.1666666666666667    0.5000000000000000    0.7689065000000000 O\\n   0.1666666666666667    0.8333333333333333    0.2689065000000000 O\\n   0.1666666666666667    0.8333333333333333    0.7689065000000000 O\\n   0.5000000000000000    0.1666666666666667    0.2689065000000000 O\\n   0.5000000000000000    0.1666666666666667    0.7689065000000000 O\\n   0.5000000000000000    0.5000000000000000    0.2689065000000000 O\\n   0.5000000000000000    0.5000000000000000    0.7689065000000000 O\\n   0.5000000000000000    0.8333333333333333    0.2689065000000000 O\\n   0.5000000000000000    0.8333333333333333    0.7689065000000000 O\\n   0.8333333333333333    0.1666666666666667    0.2689065000000000 O\\n   0.8333333333333333    0.1666666666666667    0.7689065000000000 O\\n   0.8333333333333333    0.5000000000000000    0.2689065000000000 O\\n   0.8333333333333333    0.5000000000000000    0.7689065000000000 O\\n   0.8333333333333333    0.8333333333333333    0.2689065000000000 O\\n   0.8333333333333333    0.8333333333333333    0.7689065000000000 O\\n   0.1666666666666667    0.1666666666666667    0.0334510000000000 O\\n   0.1666666666666667    0.1666666666666667    0.5334510000000000 O\\n   0.1666666666666667    0.5000000000000000    0.0334510000000000 O\\n   0.1666666666666667    0.5000000000000000    0.5334510000000000 O\\n   0.1666666666666667    0.8333333333333333    0.0334510000000000 O\\n   0.1666666666666667    0.8333333333333333    0.5334510000000000 O\\n   0.5000000000000000    0.1666666666666667    0.0334510000000000 O\\n   0.5000000000000000    0.1666666666666667    0.5334510000000000 O\\n   0.5000000000000000    0.5000000000000000    0.0334510000000000 O\\n   0.5000000000000000    0.5000000000000000    0.5334510000000000 O\\n   0.5000000000000000    0.8333333333333333    0.0334510000000000 O\\n   0.5000000000000000    0.8333333333333333    0.5334510000000000 O\\n   0.8333333333333333    0.1666666666666667    0.0334510000000000 O\\n   0.8333333333333333    0.1666666666666667    0.5334510000000000 O\\n   0.8333333333333333    0.5000000000000000    0.0334510000000000 O\\n   0.8333333333333333    0.5000000000000000    0.5334510000000000 O\\n   0.8333333333333333    0.8333333333333333    0.0334510000000000 O\\n   0.8333333333333333    0.8333333333333333    0.5334510000000000 O\\n'"
      ]
     },
     "execution_count": 29,
     "metadata": {},
     "output_type": "execute_result"
    }
   ],
   "source": [
    "with MPRester() as mpr:\n",
    "    docs = mpr.materials.summary.search(\n",
    "        chemsys=[\"Pb-Ti-O\", \"Pb-Zr-O\", \"Pb-Ti-Zr-O\"],\n",
    "        spacegroup_symbol=\"P4mm\",  # \"Pm-3m\", \"P4mm\" \"R3mm\"\n",
    "        fields=[\"material_id\", \"symmetry\", \"structure\"],\n",
    "    )\n",
    "\n",
    "structure = docs[0].structure\n",
    "\n",
    "structure = docs[1].structure * (3, 3, 2)\n",
    "structure.to(filename=f\"POSCAR.{structure.to_ase_atoms().get_chemical_formula()}\")"
   ]
  }
 ],
 "metadata": {
  "kernelspec": {
   "display_name": "comm",
   "language": "python",
   "name": "python3"
  },
  "language_info": {
   "codemirror_mode": {
    "name": "ipython",
    "version": 3
   },
   "file_extension": ".py",
   "mimetype": "text/x-python",
   "name": "python",
   "nbconvert_exporter": "python",
   "pygments_lexer": "ipython3",
   "version": "3.12.0"
  }
 },
 "nbformat": 4,
 "nbformat_minor": 2
}
